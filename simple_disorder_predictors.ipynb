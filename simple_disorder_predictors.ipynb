{
 "cells": [
  {
   "cell_type": "code",
   "execution_count": 2,
   "id": "c493caba",
   "metadata": {},
   "outputs": [],
   "source": [
    "from Bio import SeqIO\n",
    "from embeddings_config import avail_models\n",
    "import numpy as np\n",
    "import os\n",
    "import argparse\n",
    "\n",
    "def get_sequences(fastadir=None, fastafile=None):\n",
    "    sequences = []\n",
    "    if fastadir is None and fastafile is None:\n",
    "        print(\"No fasta dir or file\")\n",
    "        raise\n",
    "    if fastadir is not None and fastafile is not None:\n",
    "        print(\"Choose one, fasta dir or multi fasta filr\")\n",
    "        raise\n",
    "    # check for a directory with individual fasta files\n",
    "    # or a multi fasta file\n",
    "    if fastadir is not None:\n",
    "        fastafiles = os.listdir(fastadir)\n",
    "        for f in fastafiles:\n",
    "            counter = 0\n",
    "            for record in SeqIO.parse(os.path.join(fastadir, f), \"fasta\"):\n",
    "                sequences.append(record)\n",
    "                counter += 1\n",
    "                if counter > 1:\n",
    "                    print(\"More than one fasta record?\", f)\n",
    "                    raise\n",
    "    elif fastafile is not None:\n",
    "        for record in SeqIO.parse(fastafile, \"fasta\"):\n",
    "            sequences.append(record)\n",
    "    return sequences\n",
    "\n",
    "sel_embedding = 'halft5'\n",
    "fastadir=None\n",
    "fastafile=None\n",
    "annotdir=None\n",
    "annotfile=None\n",
    "\n",
    "# Disprot\n",
    "fastadir=\"/data/franco/datasets/disprot/fasta/\"\n",
    "annotfile=\"/data/franco/datasets/disprot/DisProt_release_2022_06_reformat_annot.fasta\"\n",
    "embeddir=\"/data/franco/datasets/prot_embedding_weights/disprot/halft5/\"\n",
    "\n",
    "# Monomers\n",
    "# fastafile=\"/data/franco/datasets/disprot/monomers.fasta\"\n",
    "# annotfile=\"/data/franco/datasets/disprot/monomers_annot.fasta\"\n",
    "# embeddir=\"/data/franco/datasets/prot_embedding_weights/monomers/halft5/\"\n",
    "\n",
    "if sel_embedding not in avail_models:\n",
    "    print(\"ERROR: Selected model not available\")\n",
    "    raise\n",
    "\n",
    "sequences = get_sequences(fastadir=fastadir, fastafile=fastafile)\n",
    "annots    = get_sequences(fastadir=annotdir, fastafile=annotfile)"
   ]
  },
  {
   "cell_type": "code",
   "execution_count": 3,
   "id": "261c0b8a",
   "metadata": {},
   "outputs": [],
   "source": [
    "# find annotation for each sequence\n",
    "# read annotation data first\n",
    "annot_dict = dict()\n",
    "for record in annots:\n",
    "    if \"|\" in record.name:\n",
    "        name = record.name.split(\"|\")[1].strip()\n",
    "    else:\n",
    "        name = record.name.split()[0].strip()\n",
    "        if name == \"\":\n",
    "            print(\"Name is empty\",record.name)\n",
    "    annot_dict[name] = str(record.seq)"
   ]
  },
  {
   "cell_type": "code",
   "execution_count": null,
   "id": "d8483fcb",
   "metadata": {},
   "outputs": [],
   "source": [
    "all_dict = dict()"
   ]
  },
  {
   "cell_type": "code",
   "execution_count": 14,
   "id": "d5813f92",
   "metadata": {},
   "outputs": [
    {
     "name": "stdout",
     "output_type": "stream",
     "text": [
      "working on Q8R426-2\n",
      "working on Q13740\n",
      "working on Q9CXW3\n",
      "working on O75807\n",
      "working on P02259\n",
      "working on P08523\n",
      "working on P77173\n",
      "working on Q9LQT8\n",
      "working on P53563\n",
      "working on Q9BYF1\n",
      "working on Q920Q2\n",
      "Skipping Q920Q2, len=1249\n"
     ]
    }
   ],
   "source": [
    "# dictionary with input sequences, embeddings and disorder annotation\n",
    "all_dict = dict()\n",
    "disseqs = list()\n",
    "embeddings = list()\n",
    "selected_sequences = list()\n",
    "\n",
    "# grab one sequence\n",
    "for i,s in enumerate(sequences):\n",
    "    if i > 10:\n",
    "        break\n",
    "    if \"|\" in s.name:\n",
    "        name = s.name.split(\"|\")[1].strip()\n",
    "    else:\n",
    "        name = s.name.split()[0].strip()\n",
    "        if name == \"\":\n",
    "            print(\"Name is empty\",s.name)\n",
    "            raise\n",
    "    print(f\"working on {name}\")\n",
    "    aa_sequence = str(s.seq).upper()\n",
    "    if len(aa_sequence) > 1200:\n",
    "        print(f\"Skipping {name}, len={len(aa_sequence)}\")\n",
    "        continue\n",
    "    embed_file = os.path.join(embeddir, name+\".gz\")\n",
    "    if os.path.exists(embed_file):\n",
    "        if len(s.seq) == len(annot_dict[name]):\n",
    "            # read embedding\n",
    "            e = np.loadtxt(embed_file)\n",
    "            # add annot, seq and embedding\n",
    "            if len(s.seq) == e.shape[0]:\n",
    "                all_dict[name] = dict()\n",
    "                all_dict[name][\"disorder\"] = annot_dict[name]\n",
    "                all_dict[name][\"embedding\"]= e\n",
    "                all_dict[name][\"seq\"] = aa_sequence\n",
    "            else:\n",
    "                print(\"Embedding length and seq do not match\")\n",
    "                print(e.shape, len(s.seq), name)\n",
    "        else:\n",
    "            print(\"Sequence and annotation length do not match\")\n",
    "            print(len(s.seq), len(annot_dict[name]), name)\n",
    "    else:\n",
    "        ## skip this file\n",
    "        print(f\"skipped {embed_file} does not exist\")\n",
    "        continue"
   ]
  },
  {
   "cell_type": "code",
   "execution_count": 69,
   "id": "02b4e713",
   "metadata": {},
   "outputs": [],
   "source": [
    "all_names = list(all_dict.keys())\n",
    "\n",
    "uniprot = all_names[0]\n",
    "disorder = all_dict[uniprot][\"disorder\"]\n",
    "Y = np.array([d != \"-\" for d in disorder], dtype=np.int8)\n",
    "X = all_dict[uniprot][\"embedding\"]"
   ]
  },
  {
   "cell_type": "code",
   "execution_count": 70,
   "id": "9419b081",
   "metadata": {},
   "outputs": [
    {
     "name": "stdout",
     "output_type": "stream",
     "text": [
      "(216, 1024) (216,)\n"
     ]
    }
   ],
   "source": [
    "print(X.shape, Y.shape)"
   ]
  },
  {
   "cell_type": "code",
   "execution_count": 143,
   "id": "ce80b826",
   "metadata": {},
   "outputs": [
    {
     "name": "stdout",
     "output_type": "stream",
     "text": [
      "0.010409759511319316\n",
      "0.9490740740740743\n"
     ]
    }
   ],
   "source": [
    "from sklearn.linear_model import LinearRegression, LogisticRegression\n",
    "from sklearn.linear_model import ElasticNet\n",
    "\n",
    "# regenet = ElasticNet().fit(X, Y)\n",
    "# r2_enet = regenet.score(X,Y)\n",
    "\n",
    "def regress_each_dimension_linear(X,Y):\n",
    "    reg = LinearRegression()\n",
    "    myrlist = list()\n",
    "    mycoef  = list()\n",
    "    for i in range(X.shape[1]):\n",
    "        x = X[:,i][:, np.newaxis]\n",
    "        reg.fit(x, Y)\n",
    "        myrlist.append(reg.score(x, Y))\n",
    "        mycoef.append(reg.coef_)\n",
    "    return myrlist, mycoef\n",
    "\n",
    "def regress_each_dimension_logistic(X,Y):\n",
    "    reg = LogisticRegression(penalty='l2')\n",
    "    myrlist = list()\n",
    "    mycoef  = list()\n",
    "    for i in range(X.shape[1]):\n",
    "        x = X[:,i][:, np.newaxis]\n",
    "        reg.fit(x, Y)\n",
    "        myrlist.append(reg.score(x, Y))\n",
    "        mycoef.append(reg.coef_)\n",
    "    return myrlist, mycoef\n",
    "\n",
    "\n",
    "res_linear, coef_lin = regress_each_dimension_linear(X,Y)\n",
    "res_logist, coef_log = regress_each_dimension_logistic(X,Y)\n",
    "print(np.mean(res_linear))\n",
    "print(np.mean(res_logist))"
   ]
  },
  {
   "cell_type": "code",
   "execution_count": 122,
   "id": "95f5f7cc",
   "metadata": {},
   "outputs": [
    {
     "name": "stdout",
     "output_type": "stream",
     "text": [
      "1024 1024\n",
      "1024 1024\n"
     ]
    }
   ],
   "source": [
    "# One coefficient per dimension, one r2 per dimension accross all residues in a protein\n",
    "print(len(coef_lin), len(coef_log))\n",
    "print(len(res_linear), len(res_logist))"
   ]
  },
  {
   "cell_type": "code",
   "execution_count": 159,
   "id": "bced7db1",
   "metadata": {},
   "outputs": [
    {
     "name": "stdout",
     "output_type": "stream",
     "text": [
      "0.9490740740740741\n"
     ]
    },
    {
     "data": {
      "image/png": "[encoded data removed]",
      "text/plain": [
       "<Figure size 640x480 with 1 Axes>"
      ]
     },
     "metadata": {},
     "output_type": "display_data"
    }
   ],
   "source": [
    "import matplotlib.pyplot as plt\n",
    "\n",
    "i = 0\n",
    "x = X[:,i][:, np.newaxis]\n",
    "reg = LogisticRegression(penalty='none')\n",
    "reg.fit(x, Y)\n",
    "print(reg.score(x, Y))\n",
    "\n",
    "xB = x*reg.coef_\n",
    "xref = np.arange(-3,2,0.1)\n",
    "y_line = 1 / ( 1 + np.exp((xref*reg.coef_) - reg.intercept_)[0])\n",
    "plt.plot(xref, y_line)\n",
    "plt.scatter(xB, Y)\n",
    "\n",
    "plt.show()"
   ]
  },
  {
   "cell_type": "code",
   "execution_count": 158,
   "id": "bfeb1e19",
   "metadata": {},
   "outputs": [
    {
     "data": {
      "text/plain": [
       "array([0, 0, 0, 0, 0, 0, 0, 0, 0, 0, 0, 0, 0, 0, 0, 0, 0, 0, 0, 0, 0, 0,\n",
       "       0, 0, 0, 0, 0, 0, 0, 0, 0, 0, 0, 0, 0, 0, 0, 0, 0, 0, 0, 0, 0, 0,\n",
       "       0, 0, 0, 0, 0, 0, 0, 0, 0, 0, 0, 0, 0, 0, 0, 0, 0, 0, 0, 0, 0, 0,\n",
       "       0, 0, 0, 0, 0, 0, 0, 0, 0, 0, 0, 0, 0, 0, 0, 0, 0, 0, 0, 0, 0, 0,\n",
       "       0, 0, 0, 0, 0, 0, 0, 0, 0, 0, 0, 0, 0, 0, 0, 0, 0, 0, 0, 0, 0, 0,\n",
       "       0, 0, 0, 0, 0, 0, 0, 0, 0, 0, 0, 0, 0, 0, 0, 0, 0, 0, 0, 0, 0, 0,\n",
       "       0, 0, 0, 0, 0, 0, 0, 0, 0, 0, 0, 0, 0, 0, 0, 0, 0, 0, 0, 0, 0, 0,\n",
       "       0, 0, 0, 0, 0, 0, 0, 0, 0, 0, 0, 0, 0, 0, 0, 0, 0, 0, 0, 0, 0, 0,\n",
       "       0, 0, 0, 0, 0, 0, 0, 0, 0, 0, 0, 0, 0, 0, 0, 0, 0, 0, 0, 0, 0, 0,\n",
       "       0, 0, 0, 0, 0, 0, 0, 0, 0, 0, 0, 0, 0, 0, 0, 0, 0, 0], dtype=int8)"
      ]
     },
     "execution_count": 158,
     "metadata": {},
     "output_type": "execute_result"
    }
   ],
   "source": [
    "reg.predict(x)"
   ]
  },
  {
   "cell_type": "code",
   "execution_count": 123,
   "id": "d7850774",
   "metadata": {},
   "outputs": [
    {
     "name": "stdout",
     "output_type": "stream",
     "text": [
      "903246 903246\n"
     ]
    }
   ],
   "source": [
    "#### Redo but for entire embeddings concatenated\n",
    "\n",
    "import umap\n",
    "import numpy as np\n",
    "import os\n",
    "import argparse\n",
    "import time\n",
    "\n",
    "embedmatfile = \"disprot_plotdata17102022/halft5/embedding_data.txt.npz\"\n",
    "# load seq and annotation data\n",
    "seqfile = \"disprot_plotdata17102022/halft5/seq_data.txt\"\n",
    "annfile = \"disprot_plotdata17102022/halft5/annot_data.txt\"\n",
    "\n",
    "with open(seqfile) as instr:\n",
    "    seq = instr.readlines()[0]\n",
    "    \n",
    "with open(annfile) as instr:\n",
    "    annot = instr.readlines()[0]\n",
    "    \n",
    "print(len(seq), len(annot))\n",
    "SEQ = [aa for aa in seq]\n",
    "ANNOT = [an for an in annot]\n",
    "AAs = set(SEQ)"
   ]
  },
  {
   "cell_type": "code",
   "execution_count": 124,
   "id": "d2bc9d24",
   "metadata": {},
   "outputs": [
    {
     "name": "stdout",
     "output_type": "stream",
     "text": [
      "Loading embedding..\n",
      "Loaded in 62.788193464279175!\n"
     ]
    }
   ],
   "source": [
    "s = time.time()\n",
    "print(\"Loading embedding..\")\n",
    "loaded_data = np.load(embedmatfile)\n",
    "embeddings = loaded_data[\"concat_emb\"]\n",
    "e = time.time() - s\n",
    "print(f\"Loaded in {e}!\")"
   ]
  },
  {
   "cell_type": "code",
   "execution_count": 133,
   "id": "160f2f7a",
   "metadata": {},
   "outputs": [],
   "source": [
    "Yall = np.array([d != \"-\" for d in ANNOT], dtype=np.int8)"
   ]
  },
  {
   "cell_type": "code",
   "execution_count": 134,
   "id": "83e09bb8",
   "metadata": {},
   "outputs": [],
   "source": [
    "allres_linear, allcoef_lin = regress_each_dimension_linear(embeddings,Yall)\n",
    "allres_logist, allcoef_log = regress_each_dimension_logistic(embeddings,Yall)\n",
    "\n",
    "# class imbalance problem? see below. Linear regression doesn't really work here"
   ]
  },
  {
   "cell_type": "code",
   "execution_count": 162,
   "id": "4cda8047",
   "metadata": {},
   "outputs": [
    {
     "name": "stdout",
     "output_type": "stream",
     "text": [
      "0.7797864590598796\n"
     ]
    },
    {
     "data": {
      "image/png": "[encoded data removed]",
      "text/plain": [
       "<Figure size 640x480 with 1 Axes>"
      ]
     },
     "metadata": {},
     "output_type": "display_data"
    }
   ],
   "source": [
    "# use only one dimension from above, with all data of course\n",
    "\n",
    "i = 0\n",
    "x = embeddings[:,i][:, np.newaxis]\n",
    "reg = LogisticRegression(penalty='none')\n",
    "reg.fit(x, Yall)\n",
    "print(reg.score(x, Yall))\n",
    "\n",
    "xB = x*reg.coef_\n",
    "xref = np.arange(-3,2,0.1)\n",
    "y_line = 1 / ( 1 + np.exp((xref*reg.coef_) - reg.intercept_)[0])\n",
    "plt.plot(xref, y_line)\n",
    "plt.scatter(xB, Yall)\n",
    "\n",
    "plt.show()\n",
    "\n",
    "## One dimension doesn't work, predictions are always all zero.\n",
    "## Class imbalance makes it better to predict everything as zero."
   ]
  },
  {
   "cell_type": "code",
   "execution_count": 173,
   "id": "a3470d7b",
   "metadata": {},
   "outputs": [
    {
     "name": "stderr",
     "output_type": "stream",
     "text": [
      "/home/franco/miniconda3/lib/python3.9/site-packages/sklearn/linear_model/_sag.py:328: ConvergenceWarning: The max_iter was reached which means the coef_ did not converge\n",
      "  warnings.warn(\"The max_iter was reached which means \"\n"
     ]
    },
    {
     "name": "stdout",
     "output_type": "stream",
     "text": [
      "0.8270891872203143\n"
     ]
    }
   ],
   "source": [
    "# use ALL dimensions from above, with all data of course\n",
    "\n",
    "X = embeddings\n",
    "reg = LogisticRegression(penalty='l1', solver='saga', l1_ratio=0.5)\n",
    "reg.fit(X, Yall)\n",
    "print(reg.score(X, Yall))"
   ]
  },
  {
   "cell_type": "code",
   "execution_count": 181,
   "id": "b1ce2e6b",
   "metadata": {},
   "outputs": [
    {
     "data": {
      "image/png": "[encoded data removed]",
      "text/plain": [
       "<Figure size 640x480 with 1 Axes>"
      ]
     },
     "metadata": {},
     "output_type": "display_data"
    }
   ],
   "source": [
    "plt.hist(reg.coef_[0], bins=50)\n",
    "plt.show()\n"
   ]
  }
 ],
 "metadata": {
  "kernelspec": {
   "display_name": "Python 3 (ipykernel)",
   "language": "python",
   "name": "python3"
  },
  "language_info": {
   "codemirror_mode": {
    "name": "ipython",
    "version": 3
   },
   "file_extension": ".py",
   "mimetype": "text/x-python",
   "name": "python",
   "nbconvert_exporter": "python",
   "pygments_lexer": "ipython3",
   "version": "3.9.0"
  }
 },
 "nbformat": 4,
 "nbformat_minor": 5
}
