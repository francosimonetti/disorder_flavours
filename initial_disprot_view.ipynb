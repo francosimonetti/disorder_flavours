{
 "cells": [
  {
   "cell_type": "code",
   "execution_count": 2,
   "id": "9b83142f",
   "metadata": {},
   "outputs": [],
   "source": [
    "import pandas as pd\n",
    "import json\n",
    "import os\n",
    "\n",
    "disprot_dir = \"/data/franco/datasets/disprot/\"\n",
    "disprot_json_file = os.path.join(disprot_dir, \"DisProt_release_2022_06_with_ambiguous_evidences.json\")\n",
    "\n",
    "## Contains each annotated regions, one per row\n",
    "disprot_tsv_file  = os.path.join(disprot_dir, \"DisProt_release_2022_06_with_ambiguous_evidences.tsv\")\n",
    "\n",
    "\n",
    "disprot_fasta_consfile = os.path.join(disprot_dir, \"DisProt_release_2022_06_with_ambiguous_evidences_consensus_regions.fasta\")\n",
    "\n",
    "## Contains consensus sequence annotations of each full protein\n",
    "disprot_tsv_consfile   = os.path.join(disprot_dir, \"DisProt_release_2022_06_with_ambiguous_evidences_consensus_regions.tsv\")"
   ]
  },
  {
   "cell_type": "code",
   "execution_count": 3,
   "id": "491e52ee",
   "metadata": {},
   "outputs": [],
   "source": [
    "df = pd.read_table(disprot_tsv_file)\n",
    "df_cons = pd.read_table(disprot_tsv_consfile)"
   ]
  },
  {
   "cell_type": "code",
   "execution_count": 4,
   "id": "52b5f1cb",
   "metadata": {},
   "outputs": [],
   "source": [
    "## Code to download fastas from uniprot\n",
    "### UPDATE: actually we should use the full sequences from Disprot so that there are\n",
    "### no sequence version problems\n",
    "\n",
    "# import os\n",
    "# for protid  in list(df.acc.unique()):\n",
    "#     url = f\"https://rest.uniprot.org/uniprotkb/{protid}.fasta\"\n",
    "#     print(f\"Downloading {protid}\")\n",
    "#     os.system(\"wget \"+url)"
   ]
  },
  {
   "cell_type": "code",
   "execution_count": 7,
   "id": "6acabaf2",
   "metadata": {},
   "outputs": [],
   "source": [
    "with open(disprot_json_file) as infmt:\n",
    "    json_dict = json.load(infmt)\n"
   ]
  },
  {
   "cell_type": "code",
   "execution_count": 17,
   "id": "daae8097",
   "metadata": {
    "scrolled": false
   },
   "outputs": [
    {
     "name": "stdout",
     "output_type": "stream",
     "text": [
      "MKTQRDGHSLGRWSLVLLLLGLVMPLAIIAQVLSYKEAVLRAIDGINQRSSDANLYRLLDLDPRPTMDGDPDTPKPVSFTVKETVCPRTTQQSPEDCDFKKDGLVKRCMGTVTLNQARGSFDISCDKDNKRFALLGDFFRKSKEKIGKEFKRIVQRIKDFLRNLVPRTES\n",
      "170\n",
      "[{'start': 134, 'end': 170, 'type': 'T'}]\n"
     ]
    },
    {
     "data": {
      "text/plain": [
       "'P49913'"
      ]
     },
     "execution_count": 17,
     "metadata": {},
     "output_type": "execute_result"
    }
   ],
   "source": [
    "print(json_dict['data'][1]['sequence'])\n",
    "print(len(json_dict['data'][1]['sequence']))\n",
    "print(json_dict['data'][1][\"disprot_consensus\"][\"full\"])\n",
    "json_dict['data'][1][\"acc\"]"
   ]
  },
  {
   "cell_type": "code",
   "execution_count": 36,
   "id": "742e254f",
   "metadata": {},
   "outputs": [
    {
     "name": "stdout",
     "output_type": "stream",
     "text": [
      "1    170\n",
      "Name: consensus, dtype: int64\n",
      "1    [---------------------------------------------...\n",
      "Name: consensus, dtype: object\n"
     ]
    }
   ],
   "source": [
    "print(df_cons[df_cons.acc == \"P49913\"].consensus.str.len())\n",
    "print(df_cons[df_cons.acc == \"P49913\"].consensus.str.rsplit())"
   ]
  }
 ],
 "metadata": {
  "kernelspec": {
   "display_name": "Python 3 (ipykernel)",
   "language": "python",
   "name": "python3"
  },
  "language_info": {
   "codemirror_mode": {
    "name": "ipython",
    "version": 3
   },
   "file_extension": ".py",
   "mimetype": "text/x-python",
   "name": "python",
   "nbconvert_exporter": "python",
   "pygments_lexer": "ipython3",
   "version": "3.9.0"
  }
 },
 "nbformat": 4,
 "nbformat_minor": 5
}
