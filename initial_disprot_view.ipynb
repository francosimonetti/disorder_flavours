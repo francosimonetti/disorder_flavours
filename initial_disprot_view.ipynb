{
 "cells": [
  {
   "cell_type": "code",
   "execution_count": 1,
   "id": "9b83142f",
   "metadata": {},
   "outputs": [],
   "source": [
    "import pandas as pd\n",
    "import json\n",
    "import os\n",
    "\n",
    "disprot_dir = \"/data/franco/datasets/disprot/\"\n",
    "disprot_json_file = os.path.join(disprot_dir, \"DisProt_release_2022_06_with_ambiguous_evidences.json\")\n",
    "\n",
    "## Contains each annotated regions, one per row\n",
    "disprot_tsv_file  = os.path.join(disprot_dir, \"DisProt_release_2022_06_with_ambiguous_evidences.tsv\")\n",
    "\n",
    "disprot_fasta_consfile = os.path.join(disprot_dir, \"DisProt_release_2022_06_with_ambiguous_evidences_consensus_regions.fasta\")\n",
    "\n",
    "## Contains consensus sequence annotations of each full protein\n",
    "disprot_tsv_consfile   = os.path.join(disprot_dir, \"DisProt_release_2022_06_with_ambiguous_evidences_consensus_regions.tsv\")"
   ]
  },
  {
   "cell_type": "code",
   "execution_count": 2,
   "id": "491e52ee",
   "metadata": {},
   "outputs": [],
   "source": [
    "df = pd.read_table(disprot_tsv_file)\n",
    "df_cons = pd.read_table(disprot_tsv_consfile)"
   ]
  },
  {
   "cell_type": "code",
   "execution_count": 40,
   "id": "52b5f1cb",
   "metadata": {},
   "outputs": [],
   "source": [
    "## Code to download fastas from uniprot\n",
    "### UPDATE: actually we should use the full sequences from Disprot so that there are\n",
    "### no sequence version problems\n",
    "\n",
    "# import os\n",
    "# for protid  in list(df.acc.unique()):\n",
    "#     url = f\"https://rest.uniprot.org/uniprotkb/{protid}.fasta\"\n",
    "#     print(f\"Downloading {protid}\")\n",
    "#     os.system(\"wget \"+url)"
   ]
  },
  {
   "cell_type": "code",
   "execution_count": 3,
   "id": "6acabaf2",
   "metadata": {},
   "outputs": [],
   "source": [
    "with open(disprot_json_file) as infmt:\n",
    "    json_dict = json.load(infmt)\n"
   ]
  },
  {
   "cell_type": "code",
   "execution_count": 11,
   "id": "e5ba91f3",
   "metadata": {},
   "outputs": [
    {
     "data": {
      "text/plain": [
       "{'term_namespace': 'Structural state',\n",
       " 'ec_ontology': 'ECO',\n",
       " 'end': 170,\n",
       " 'region_id': 'DP00004r001',\n",
       " 'released': '2022_03',\n",
       " 'ec_id': 'ECO:0006206',\n",
       " 'reference_html': 'Conformation-dependent antibacterial activity of the naturally occurring human peptide LL-37. <i> Johansson J, Gudmundsson GH, Rottenberg ME, Berndt KD, Agerberth B. </i> J Biol Chem, 1998',\n",
       " 'statement': [{'text': 'the CD spectrum of LL-37 in water exhibits a minimum around 200 nm, which is indicative of a highly disordered conformation',\n",
       "   'type': 'Results'}],\n",
       " 'term_id': 'IDPO:00076',\n",
       " 'curator_id': 'esalladini',\n",
       " 'start': 134,\n",
       " 'term_ontology': 'IDPO',\n",
       " 'curator_name': 'Edoardo Salladini',\n",
       " 'ec_name': 'near-UV circular dichroism evidence used in manual assertion',\n",
       " 'version': 4,\n",
       " 'curator_orcid': '0000-0002-5152-5953',\n",
       " 'date': '2022-02-14T09:00:00.000Z',\n",
       " 'reference_source': 'pmid',\n",
       " 'term_name': 'disorder',\n",
       " 'reference_id': '9452503',\n",
       " 'validated': {'curator_name': 'Federica Quaglia',\n",
       "  'curator_id': 'fquaglia',\n",
       "  'timestamp': '2021-06-07T09:29:16.755Z'},\n",
       " 'uniprot_changed': True,\n",
       " 'ec_go': 'EXP',\n",
       " 'disprot_namespace': 'Structural state'}"
      ]
     },
     "execution_count": 11,
     "metadata": {},
     "output_type": "execute_result"
    }
   ],
   "source": [
    "json_dict['data'][1]['regions'][0]"
   ]
  },
  {
   "cell_type": "code",
   "execution_count": 15,
   "id": "a876f61f",
   "metadata": {},
   "outputs": [
    {
     "data": {
      "text/plain": [
       "{'term_namespace': 'Structural state',\n",
       " 'ec_ontology': 'ECO',\n",
       " 'end': 170,\n",
       " 'region_id': 'DP00004r001',\n",
       " 'released': '2022_03',\n",
       " 'ec_id': 'ECO:0006206',\n",
       " 'reference_html': 'Conformation-dependent antibacterial activity of the naturally occurring human peptide LL-37. <i> Johansson J, Gudmundsson GH, Rottenberg ME, Berndt KD, Agerberth B. </i> J Biol Chem, 1998',\n",
       " 'statement': [{'text': 'the CD spectrum of LL-37 in water exhibits a minimum around 200 nm, which is indicative of a highly disordered conformation',\n",
       "   'type': 'Results'}],\n",
       " 'term_id': 'IDPO:00076',\n",
       " 'curator_id': 'esalladini',\n",
       " 'start': 134,\n",
       " 'term_ontology': 'IDPO',\n",
       " 'curator_name': 'Edoardo Salladini',\n",
       " 'ec_name': 'near-UV circular dichroism evidence used in manual assertion',\n",
       " 'version': 4,\n",
       " 'curator_orcid': '0000-0002-5152-5953',\n",
       " 'date': '2022-02-14T09:00:00.000Z',\n",
       " 'reference_source': 'pmid',\n",
       " 'term_name': 'disorder',\n",
       " 'reference_id': '9452503',\n",
       " 'validated': {'curator_name': 'Federica Quaglia',\n",
       "  'curator_id': 'fquaglia',\n",
       "  'timestamp': '2021-06-07T09:29:16.755Z'},\n",
       " 'uniprot_changed': True,\n",
       " 'ec_go': 'EXP',\n",
       " 'disprot_namespace': 'Structural state'}"
      ]
     },
     "execution_count": 15,
     "metadata": {},
     "output_type": "execute_result"
    }
   ],
   "source": [
    "json_dict['data'][1]['regions'][0]"
   ]
  },
  {
   "cell_type": "code",
   "execution_count": 14,
   "id": "daae8097",
   "metadata": {
    "scrolled": false
   },
   "outputs": [
    {
     "name": "stdout",
     "output_type": "stream",
     "text": [
      "MKTQRDGHSLGRWSLVLLLLGLVMPLAIIAQVLSYKEAVLRAIDGINQRSSDANLYRLLDLDPRPTMDGDPDTPKPVSFTVKETVCPRTTQQSPEDCDFKKDGLVKRCMGTVTLNQARGSFDISCDKDNKRFALLGDFFRKSKEKIGKEFKRIVQRIKDFLRNLVPRTES\n",
      "170\n",
      "[{'start': 134, 'end': 170, 'type': 'T'}]\n",
      "P49913\n"
     ]
    }
   ],
   "source": [
    "print(json_dict['data'][1]['sequence'])\n",
    "print(len(json_dict['data'][1]['sequence']))\n",
    "print(json_dict['data'][1][\"disprot_consensus\"][\"full\"])\n",
    "print(json_dict['data'][1][\"acc\"])"
   ]
  },
  {
   "cell_type": "code",
   "execution_count": 43,
   "id": "742e254f",
   "metadata": {},
   "outputs": [
    {
     "name": "stdout",
     "output_type": "stream",
     "text": [
      "1    170\n",
      "Name: consensus, dtype: int64\n",
      "1    [---------------------------------------------...\n",
      "Name: consensus, dtype: object\n"
     ]
    }
   ],
   "source": [
    "print(df_cons[df_cons.acc == \"P49913\"].consensus.str.len())\n",
    "print(df_cons[df_cons.acc == \"P49913\"].consensus.str.rsplit())"
   ]
  },
  {
   "cell_type": "code",
   "execution_count": 48,
   "id": "4dcad11e",
   "metadata": {},
   "outputs": [],
   "source": [
    "target_unip = \"P04637\"\n",
    "found_dict = None\n",
    "for i in range(len(json_dict['data'])):\n",
    "    if json_dict['data'][i][\"acc\"] == target_unip:\n",
    "        found_dict = json_dict['data'][i]\n",
    "        break"
   ]
  },
  {
   "cell_type": "code",
   "execution_count": 53,
   "id": "b4f3aa2e",
   "metadata": {},
   "outputs": [
    {
     "data": {
      "text/plain": [
       "['features',\n",
       " 'uniref50',\n",
       " 'sequence',\n",
       " 'taxonomy',\n",
       " 'uniref90',\n",
       " 'disprot_id',\n",
       " 'ncbi_taxon_id',\n",
       " 'regions_counter',\n",
       " 'creator',\n",
       " 'regions',\n",
       " 'released',\n",
       " 'uniref100',\n",
       " 'date',\n",
       " 'acc',\n",
       " 'name',\n",
       " 'length',\n",
       " 'organism',\n",
       " 'dataset',\n",
       " 'UniParc',\n",
       " 'disorder_content',\n",
       " 'disprot_consensus']"
      ]
     },
     "execution_count": 53,
     "metadata": {},
     "output_type": "execute_result"
    }
   ],
   "source": [
    "list(found_dict.keys())"
   ]
  },
  {
   "cell_type": "code",
   "execution_count": 65,
   "id": "f1de89d0",
   "metadata": {},
   "outputs": [],
   "source": [
    "disprot_regions = list()\n",
    "pfam_domains    = list()\n",
    "for region in found_dict['disprot_consensus']['full']:\n",
    "    if region['type'] in ['T', 'D']:\n",
    "        disprot_regions.append(region)\n",
    "if 'pfam' in found_dict['features']:\n",
    "    for domain in found_dict['features']['pfam']:\n",
    "        pfam_domains.append(domain)"
   ]
  },
  {
   "cell_type": "code",
   "execution_count": 66,
   "id": "ac8b46be",
   "metadata": {},
   "outputs": [
    {
     "data": {
      "text/plain": [
       "[{'start': 100,\n",
       "  'end': 288,\n",
       "  'id': 'PF00870',\n",
       "  'name': 'p53, DNA-binding domain'},\n",
       " {'start': 319,\n",
       "  'end': 357,\n",
       "  'id': 'PF07710',\n",
       "  'name': 'p53, tetramerisation domain'},\n",
       " {'start': 35,\n",
       "  'end': 59,\n",
       "  'id': 'PF18521',\n",
       "  'name': 'Cellular tumor antigen p53, transactivation domain 2'},\n",
       " {'start': 6,\n",
       "  'end': 30,\n",
       "  'id': 'PF08563',\n",
       "  'name': 'p53 transactivation domain'}]"
      ]
     },
     "execution_count": 66,
     "metadata": {},
     "output_type": "execute_result"
    }
   ],
   "source": [
    "pfam_domains"
   ]
  },
  {
   "cell_type": "code",
   "execution_count": 67,
   "id": "2dbded9f",
   "metadata": {},
   "outputs": [
    {
     "data": {
      "text/plain": [
       "[{'start': 1, 'end': 62, 'type': 'T'},\n",
       " {'start': 63, 'end': 93, 'type': 'D'},\n",
       " {'start': 291, 'end': 312, 'type': 'D'},\n",
       " {'start': 361, 'end': 365, 'type': 'D'},\n",
       " {'start': 366, 'end': 388, 'type': 'T'},\n",
       " {'start': 389, 'end': 393, 'type': 'D'}]"
      ]
     },
     "execution_count": 67,
     "metadata": {},
     "output_type": "execute_result"
    }
   ],
   "source": [
    "disprot_regions"
   ]
  },
  {
   "cell_type": "code",
   "execution_count": null,
   "id": "3e11f561",
   "metadata": {},
   "outputs": [],
   "source": []
  }
 ],
 "metadata": {
  "kernelspec": {
   "display_name": "Python 3 (ipykernel)",
   "language": "python",
   "name": "python3"
  },
  "language_info": {
   "codemirror_mode": {
    "name": "ipython",
    "version": 3
   },
   "file_extension": ".py",
   "mimetype": "text/x-python",
   "name": "python",
   "nbconvert_exporter": "python",
   "pygments_lexer": "ipython3",
   "version": "3.9.12"
  }
 },
 "nbformat": 4,
 "nbformat_minor": 5
}
