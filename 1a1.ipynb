{
 "cells": [
  {
   "cell_type": "code",
   "execution_count": null,
   "id": "5ec12b89-e6f0-450e-9dcb-3a756f1b5254",
   "metadata": {},
   "outputs": [],
   "source": []
  },
  {
   "cell_type": "code",
   "execution_count": 53,
   "id": "04ed5a10-6f55-4d84-8bc6-e4bb3310a115",
   "metadata": {},
   "outputs": [],
   "source": [
    "import random\n",
    "from collections import Counter\n",
    "import pandas as pd"
   ]
  },
  {
   "cell_type": "code",
   "execution_count": 2,
   "id": "454f8a55-0686-41a8-9015-43e626dc7d24",
   "metadata": {},
   "outputs": [],
   "source": [
    "erk = \"MAAAAAQGGGGGEPRRTEGVGPGVPGEVEMVKGQPFDVGPRYTQLQYIGEGAYGMVSSAYDHVRKTRVAIKKISPFEHQTYCQRTLREIQILLRFRHENVIGIRDILRASTLEAMRDVYIVQDLMETDLYKLLKSQQLSNDHICYFLYQILRGLKYIHSANVLHRDLKPSNLLINTTCDLKICDFGLARIADPEHDHTGFLTEYVATRWYRAPEIMLNSKGYTKSIDIWSVGCILAEMLSNRPIFPGKHYLDQLNHILGILGSPSQEDLNCIINMKARNYLQSLPSKTKVAWAKLFPKSDSKALDLLDRMLTFNPNKRITVEEALAHPYLEQYYDPTDEPVAEEPFTFAMELDDLPKERLKELIFQETARFQPGVLEAP\""
   ]
  },
  {
   "cell_type": "code",
   "execution_count": null,
   "id": "2693fd12-d021-4038-8cdc-1712d1568e07",
   "metadata": {},
   "outputs": [],
   "source": []
  },
  {
   "cell_type": "code",
   "execution_count": 26,
   "id": "2a323c92-f1ba-4567-ad00-bd1c395e1626",
   "metadata": {},
   "outputs": [],
   "source": [
    "aas = ['M', 'A', 'Q', 'G', 'E', 'P', 'R', 'T', 'V', 'K', 'F', 'D', 'Y', 'L', 'I', 'S', 'H', 'C', 'N', 'W']"
   ]
  },
  {
   "cell_type": "code",
   "execution_count": 7,
   "id": "1c6e2c25-f3e9-4f32-aab5-2d56a82d383c",
   "metadata": {},
   "outputs": [],
   "source": [
    "dom = erk[41:330]"
   ]
  },
  {
   "cell_type": "code",
   "execution_count": null,
   "id": "a7bb4e16-0777-4fec-84bf-2dacb5fda407",
   "metadata": {},
   "outputs": [],
   "source": []
  },
  {
   "cell_type": "code",
   "execution_count": 4,
   "id": "5de70d07-819f-44dd-ba95-815cee6a4985",
   "metadata": {},
   "outputs": [],
   "source": [
    "seqs = {}\n"
   ]
  },
  {
   "cell_type": "code",
   "execution_count": 5,
   "id": "9e62d0c4-2f63-446d-b66c-d6854b61d8cd",
   "metadata": {},
   "outputs": [
    {
     "data": {
      "text/plain": [
       "6280"
      ]
     },
     "execution_count": 5,
     "metadata": {},
     "output_type": "execute_result"
    }
   ],
   "source": []
  },
  {
   "cell_type": "code",
   "execution_count": 9,
   "id": "8e75f70a-30b6-4afd-9ed0-3cb66082ee38",
   "metadata": {},
   "outputs": [
    {
     "data": {
      "text/plain": [
       "144.5"
      ]
     },
     "execution_count": 9,
     "metadata": {},
     "output_type": "execute_result"
    }
   ],
   "source": [
    "len(dom) / 2"
   ]
  },
  {
   "cell_type": "code",
   "execution_count": 15,
   "id": "0d6be62a-3b22-487c-a28c-27306bd90e19",
   "metadata": {},
   "outputs": [],
   "source": [
    "xpos = 144"
   ]
  },
  {
   "cell_type": "code",
   "execution_count": 18,
   "id": "646e84e9-32db-4a5b-abee-d05805c2d92e",
   "metadata": {},
   "outputs": [
    {
     "name": "stdout",
     "output_type": "stream",
     "text": [
      "YTQLQYIGEGAYGMVSSAYDHVRKTRVAIKKISPFEHQTYCQRTLREIQILLRFRHENVIGIRDILRASTLEAMRDVYIVQDLMETDLYKLLKSQQLSNDHICYFLYQILRGLKYIHSANVLHRDLKPSNLLINTTCDLKICDF\n",
      "LARIADPEHDHTGFLTEYVATRWYRAPEIMLNSKGYTKSIDIWSVGCILAEMLSNRPIFPGKHYLDQLNHILGILGSPSQEDLNCIINMKARNYLQSLPSKTKVAWAKLFPKSDSKALDLLDRMLTFNPNKRITVEEALAHPYL\n"
     ]
    }
   ],
   "source": [
    "print(dom[:xpos])\n",
    "print(dom[xpos+1:])\n"
   ]
  },
  {
   "cell_type": "code",
   "execution_count": 21,
   "id": "d494a7bf-989b-4abb-9c69-3e903b0e5778",
   "metadata": {},
   "outputs": [],
   "source": [
    "def alter_pos(seq, pos, res):\n",
    "    prev_seq = seq[:pos].lower()\n",
    "    next_seq = seq[pos + 1 :].lower()\n",
    "    return prev_seq + res + next_seq\n",
    "    \n",
    "    "
   ]
  },
  {
   "cell_type": "code",
   "execution_count": 28,
   "id": "c9554302-36fc-4cdd-8b94-2f3596a79960",
   "metadata": {},
   "outputs": [],
   "source": [
    "a = \"YTQLQYIGEGAYGMVSSAYDHVRKTRVA\""
   ]
  },
  {
   "cell_type": "code",
   "execution_count": 31,
   "id": "9a5234fc-ce73-4610-b3c3-ebc4ccddde3b",
   "metadata": {},
   "outputs": [],
   "source": [
    "def get_altered_seqs(seq, pos):\n",
    "    output = []\n",
    "    for aa in aas:\n",
    "        output.append(alter_pos(seq, pos, aa))\n",
    "    return output\n",
    "    "
   ]
  },
  {
   "cell_type": "code",
   "execution_count": 39,
   "id": "d6da9a7d-ca7d-461e-9624-191e4f8d02a5",
   "metadata": {},
   "outputs": [],
   "source": [
    "def get_seqs_for_xpos(seq, pos):\n",
    "    \n",
    "    aas = ['M', 'A', 'Q', 'G', 'E', 'P', 'R', 'T', 'V', 'K', 'F', 'D', 'Y', 'L', 'I', 'S', 'H', 'C', 'N', 'W']\n",
    "    output = {}\n",
    "    \n",
    "    for aa in aas:\n",
    "        output[f'{pos}_{seq[pos]}_{aa}'] = alter_pos(seq, pos, aa)\n",
    "    return output"
   ]
  },
  {
   "cell_type": "code",
   "execution_count": 49,
   "id": "68a50625-4af0-4655-b69f-5eb60ec6d27d",
   "metadata": {},
   "outputs": [],
   "source": [
    "sequences = {}\n",
    "for pos in range(len(erk)):\n",
    "    sequences.update(get_seqs_for_xpos(erk, pos))"
   ]
  },
  {
   "cell_type": "code",
   "execution_count": 54,
   "id": "2d2b3391-9c27-46da-96d0-ed2727f5bdae",
   "metadata": {},
   "outputs": [],
   "source": [
    "seqs_df = pd.DataFrame(sequences.items(), columns=['idx', 'seq'])"
   ]
  },
  {
   "cell_type": "code",
   "execution_count": 55,
   "id": "5349d3bb-26a1-40d2-b0ae-a737fc811ca6",
   "metadata": {},
   "outputs": [
    {
     "data": {
      "text/html": [
       "<div>\n",
       "<style scoped>\n",
       "    .dataframe tbody tr th:only-of-type {\n",
       "        vertical-align: middle;\n",
       "    }\n",
       "\n",
       "    .dataframe tbody tr th {\n",
       "        vertical-align: top;\n",
       "    }\n",
       "\n",
       "    .dataframe thead th {\n",
       "        text-align: right;\n",
       "    }\n",
       "</style>\n",
       "<table border=\"1\" class=\"dataframe\">\n",
       "  <thead>\n",
       "    <tr style=\"text-align: right;\">\n",
       "      <th></th>\n",
       "      <th>idx</th>\n",
       "      <th>seq</th>\n",
       "    </tr>\n",
       "  </thead>\n",
       "  <tbody>\n",
       "    <tr>\n",
       "      <th>0</th>\n",
       "      <td>0_M_M</td>\n",
       "      <td>Maaaaaqgggggeprrtegvgpgvpgevemvkgqpfdvgprytqlq...</td>\n",
       "    </tr>\n",
       "    <tr>\n",
       "      <th>1</th>\n",
       "      <td>0_M_A</td>\n",
       "      <td>Aaaaaaqgggggeprrtegvgpgvpgevemvkgqpfdvgprytqlq...</td>\n",
       "    </tr>\n",
       "    <tr>\n",
       "      <th>2</th>\n",
       "      <td>0_M_Q</td>\n",
       "      <td>Qaaaaaqgggggeprrtegvgpgvpgevemvkgqpfdvgprytqlq...</td>\n",
       "    </tr>\n",
       "    <tr>\n",
       "      <th>3</th>\n",
       "      <td>0_M_G</td>\n",
       "      <td>Gaaaaaqgggggeprrtegvgpgvpgevemvkgqpfdvgprytqlq...</td>\n",
       "    </tr>\n",
       "    <tr>\n",
       "      <th>4</th>\n",
       "      <td>0_M_E</td>\n",
       "      <td>Eaaaaaqgggggeprrtegvgpgvpgevemvkgqpfdvgprytqlq...</td>\n",
       "    </tr>\n",
       "    <tr>\n",
       "      <th>...</th>\n",
       "      <td>...</td>\n",
       "      <td>...</td>\n",
       "    </tr>\n",
       "    <tr>\n",
       "      <th>7575</th>\n",
       "      <td>378_P_S</td>\n",
       "      <td>maaaaaqgggggeprrtegvgpgvpgevemvkgqpfdvgprytqlq...</td>\n",
       "    </tr>\n",
       "    <tr>\n",
       "      <th>7576</th>\n",
       "      <td>378_P_H</td>\n",
       "      <td>maaaaaqgggggeprrtegvgpgvpgevemvkgqpfdvgprytqlq...</td>\n",
       "    </tr>\n",
       "    <tr>\n",
       "      <th>7577</th>\n",
       "      <td>378_P_C</td>\n",
       "      <td>maaaaaqgggggeprrtegvgpgvpgevemvkgqpfdvgprytqlq...</td>\n",
       "    </tr>\n",
       "    <tr>\n",
       "      <th>7578</th>\n",
       "      <td>378_P_N</td>\n",
       "      <td>maaaaaqgggggeprrtegvgpgvpgevemvkgqpfdvgprytqlq...</td>\n",
       "    </tr>\n",
       "    <tr>\n",
       "      <th>7579</th>\n",
       "      <td>378_P_W</td>\n",
       "      <td>maaaaaqgggggeprrtegvgpgvpgevemvkgqpfdvgprytqlq...</td>\n",
       "    </tr>\n",
       "  </tbody>\n",
       "</table>\n",
       "<p>7580 rows × 2 columns</p>\n",
       "</div>"
      ],
      "text/plain": [
       "          idx                                                seq\n",
       "0       0_M_M  Maaaaaqgggggeprrtegvgpgvpgevemvkgqpfdvgprytqlq...\n",
       "1       0_M_A  Aaaaaaqgggggeprrtegvgpgvpgevemvkgqpfdvgprytqlq...\n",
       "2       0_M_Q  Qaaaaaqgggggeprrtegvgpgvpgevemvkgqpfdvgprytqlq...\n",
       "3       0_M_G  Gaaaaaqgggggeprrtegvgpgvpgevemvkgqpfdvgprytqlq...\n",
       "4       0_M_E  Eaaaaaqgggggeprrtegvgpgvpgevemvkgqpfdvgprytqlq...\n",
       "...       ...                                                ...\n",
       "7575  378_P_S  maaaaaqgggggeprrtegvgpgvpgevemvkgqpfdvgprytqlq...\n",
       "7576  378_P_H  maaaaaqgggggeprrtegvgpgvpgevemvkgqpfdvgprytqlq...\n",
       "7577  378_P_C  maaaaaqgggggeprrtegvgpgvpgevemvkgqpfdvgprytqlq...\n",
       "7578  378_P_N  maaaaaqgggggeprrtegvgpgvpgevemvkgqpfdvgprytqlq...\n",
       "7579  378_P_W  maaaaaqgggggeprrtegvgpgvpgevemvkgqpfdvgprytqlq...\n",
       "\n",
       "[7580 rows x 2 columns]"
      ]
     },
     "execution_count": 55,
     "metadata": {},
     "output_type": "execute_result"
    }
   ],
   "source": [
    "seqs_df"
   ]
  },
  {
   "cell_type": "code",
   "execution_count": null,
   "id": "d4352a0f-2c32-4af1-9ce9-6758066210fa",
   "metadata": {},
   "outputs": [],
   "source": []
  },
  {
   "cell_type": "code",
   "execution_count": 56,
   "id": "b53f761d-d8e3-4619-bacf-6d8b720c53fa",
   "metadata": {},
   "outputs": [
    {
     "name": "stderr",
     "output_type": "stream",
     "text": [
      "/home/fernando/miniconda3/lib/python3.9/site-packages/tqdm/auto.py:22: TqdmWarning: IProgress not found. Please update jupyter and ipywidgets. See https://ipywidgets.readthedocs.io/en/stable/user_install.html\n",
      "  from .autonotebook import tqdm as notebook_tqdm\n"
     ]
    }
   ],
   "source": [
    "from bio_embeddings.project import umap_reduce\n",
    "from bio_embeddings.visualize import render_scatter_plotly\n",
    "from bio_embeddings.embed import ProtTransT5XLU50Embedder\n",
    "import time\n",
    "from datetime import datetime\n",
    "\n",
    "embedder = ProtTransT5XLU50Embedder(model_directory= \"/data/franco/datasets/prot_embedding_weights/half_prottrans_t5_xl_u50/\")"
   ]
  },
  {
   "cell_type": "code",
   "execution_count": 58,
   "id": "be7b7713-2e91-4b02-bdbb-c1deafab4f47",
   "metadata": {},
   "outputs": [
    {
     "data": {
      "text/html": [
       "<div>\n",
       "<style scoped>\n",
       "    .dataframe tbody tr th:only-of-type {\n",
       "        vertical-align: middle;\n",
       "    }\n",
       "\n",
       "    .dataframe tbody tr th {\n",
       "        vertical-align: top;\n",
       "    }\n",
       "\n",
       "    .dataframe thead th {\n",
       "        text-align: right;\n",
       "    }\n",
       "</style>\n",
       "<table border=\"1\" class=\"dataframe\">\n",
       "  <thead>\n",
       "    <tr style=\"text-align: right;\">\n",
       "      <th></th>\n",
       "      <th>idx</th>\n",
       "      <th>seq</th>\n",
       "    </tr>\n",
       "  </thead>\n",
       "  <tbody>\n",
       "    <tr>\n",
       "      <th>0</th>\n",
       "      <td>0_M_M</td>\n",
       "      <td>MAAAAAQGGGGGEPRRTEGVGPGVPGEVEMVKGQPFDVGPRYTQLQ...</td>\n",
       "    </tr>\n",
       "    <tr>\n",
       "      <th>1</th>\n",
       "      <td>0_M_A</td>\n",
       "      <td>AAAAAAQGGGGGEPRRTEGVGPGVPGEVEMVKGQPFDVGPRYTQLQ...</td>\n",
       "    </tr>\n",
       "    <tr>\n",
       "      <th>2</th>\n",
       "      <td>0_M_Q</td>\n",
       "      <td>QAAAAAQGGGGGEPRRTEGVGPGVPGEVEMVKGQPFDVGPRYTQLQ...</td>\n",
       "    </tr>\n",
       "    <tr>\n",
       "      <th>3</th>\n",
       "      <td>0_M_G</td>\n",
       "      <td>GAAAAAQGGGGGEPRRTEGVGPGVPGEVEMVKGQPFDVGPRYTQLQ...</td>\n",
       "    </tr>\n",
       "    <tr>\n",
       "      <th>4</th>\n",
       "      <td>0_M_E</td>\n",
       "      <td>EAAAAAQGGGGGEPRRTEGVGPGVPGEVEMVKGQPFDVGPRYTQLQ...</td>\n",
       "    </tr>\n",
       "    <tr>\n",
       "      <th>...</th>\n",
       "      <td>...</td>\n",
       "      <td>...</td>\n",
       "    </tr>\n",
       "    <tr>\n",
       "      <th>7575</th>\n",
       "      <td>378_P_S</td>\n",
       "      <td>MAAAAAQGGGGGEPRRTEGVGPGVPGEVEMVKGQPFDVGPRYTQLQ...</td>\n",
       "    </tr>\n",
       "    <tr>\n",
       "      <th>7576</th>\n",
       "      <td>378_P_H</td>\n",
       "      <td>MAAAAAQGGGGGEPRRTEGVGPGVPGEVEMVKGQPFDVGPRYTQLQ...</td>\n",
       "    </tr>\n",
       "    <tr>\n",
       "      <th>7577</th>\n",
       "      <td>378_P_C</td>\n",
       "      <td>MAAAAAQGGGGGEPRRTEGVGPGVPGEVEMVKGQPFDVGPRYTQLQ...</td>\n",
       "    </tr>\n",
       "    <tr>\n",
       "      <th>7578</th>\n",
       "      <td>378_P_N</td>\n",
       "      <td>MAAAAAQGGGGGEPRRTEGVGPGVPGEVEMVKGQPFDVGPRYTQLQ...</td>\n",
       "    </tr>\n",
       "    <tr>\n",
       "      <th>7579</th>\n",
       "      <td>378_P_W</td>\n",
       "      <td>MAAAAAQGGGGGEPRRTEGVGPGVPGEVEMVKGQPFDVGPRYTQLQ...</td>\n",
       "    </tr>\n",
       "  </tbody>\n",
       "</table>\n",
       "<p>7202 rows × 2 columns</p>\n",
       "</div>"
      ],
      "text/plain": [
       "          idx                                                seq\n",
       "0       0_M_M  MAAAAAQGGGGGEPRRTEGVGPGVPGEVEMVKGQPFDVGPRYTQLQ...\n",
       "1       0_M_A  AAAAAAQGGGGGEPRRTEGVGPGVPGEVEMVKGQPFDVGPRYTQLQ...\n",
       "2       0_M_Q  QAAAAAQGGGGGEPRRTEGVGPGVPGEVEMVKGQPFDVGPRYTQLQ...\n",
       "3       0_M_G  GAAAAAQGGGGGEPRRTEGVGPGVPGEVEMVKGQPFDVGPRYTQLQ...\n",
       "4       0_M_E  EAAAAAQGGGGGEPRRTEGVGPGVPGEVEMVKGQPFDVGPRYTQLQ...\n",
       "...       ...                                                ...\n",
       "7575  378_P_S  MAAAAAQGGGGGEPRRTEGVGPGVPGEVEMVKGQPFDVGPRYTQLQ...\n",
       "7576  378_P_H  MAAAAAQGGGGGEPRRTEGVGPGVPGEVEMVKGQPFDVGPRYTQLQ...\n",
       "7577  378_P_C  MAAAAAQGGGGGEPRRTEGVGPGVPGEVEMVKGQPFDVGPRYTQLQ...\n",
       "7578  378_P_N  MAAAAAQGGGGGEPRRTEGVGPGVPGEVEMVKGQPFDVGPRYTQLQ...\n",
       "7579  378_P_W  MAAAAAQGGGGGEPRRTEGVGPGVPGEVEMVKGQPFDVGPRYTQLQ...\n",
       "\n",
       "[7202 rows x 2 columns]"
      ]
     },
     "execution_count": 58,
     "metadata": {},
     "output_type": "execute_result"
    }
   ],
   "source": [
    "seqs_df[\"seq\"] = seqs_df.seq.str.upper()\n"
   ]
  },
  {
   "cell_type": "code",
   "execution_count": 62,
   "id": "68780a11-9d34-4d3f-8bf0-21ce4dade497",
   "metadata": {},
   "outputs": [],
   "source": [
    "def get_et5(seqs, verbose=True):\n",
    "    embeddings = []\n",
    "    \n",
    "    \n",
    "\n",
    "\n",
    "    start = datetime.now()\n",
    "    if verbose:\n",
    "        print(\"Starting at\", start.strftime(\"%H:%M:%S\"))\n",
    "    \n",
    "    for i,seq in enumerate(seqs):\n",
    "        print('.',end='')\n",
    "        if i > 0 and  (i % 100 == 0) and verbose:\n",
    "            print(f'{i}/{len(seq)}')\n",
    "        embeddings.append(embedder.embed(seq))\n",
    "        \n",
    "    if verbose:\n",
    "        print(\"Finishing at\", datetime.now().strftime(\"%H:%M:%S\"))\n",
    "        elapsed = datetime.now() - start\n",
    "        print(\"Elapsed\",  str(elapsed))\n",
    "        \n",
    "        print( (elapsed / len(seqs)).seconds, 'seconds per sequence')\n",
    "        \n",
    "    return embeddings"
   ]
  },
  {
   "cell_type": "code",
   "execution_count": null,
   "id": "d78a8bd8-1d20-4a8e-b6e0-c3c65048eb8f",
   "metadata": {},
   "outputs": [
    {
     "name": "stdout",
     "output_type": "stream",
     "text": [
      "Starting at 15:48:10\n",
      ".....................................................................................................100/379\n",
      "....................................................................................................200/379\n",
      "....................................................................................................300/379\n",
      "....................................................................................................400/379\n",
      "....................................................................................................500/379\n",
      "....................................................................................................600/379\n",
      "....................................................................................................700/379\n",
      "....................................................................................................800/379\n",
      "....................................................................................................900/379\n",
      "....................................................................................................1000/379\n",
      "....................................................................................................1100/379\n",
      "....................................................................................................1200/379\n",
      "....................................................................................................1300/379\n",
      "....................................................................................................1400/379\n",
      "....................................................................................................1500/379\n",
      "....................................................................................................1600/379\n",
      "....................................................................................................1700/379\n",
      "....................................................................................................1800/379\n",
      "....................................................................................................1900/379\n",
      "....................................................................................................2000/379\n",
      "....................................................................................................2100/379\n",
      "....................................................................................................2200/379\n",
      "....................................................................................................2300/379\n",
      "....................................................................................................2400/379\n",
      "....................................................................................................2500/379\n",
      ".............................................................................."
     ]
    }
   ],
   "source": [
    "embeddings = get_et5(seqs_df.seq)"
   ]
  },
  {
   "cell_type": "code",
   "execution_count": 67,
   "id": "0d0a383d-72b7-4ac0-9fdc-63c66e5a9eba",
   "metadata": {},
   "outputs": [
    {
     "data": {
      "text/plain": [
       "7580"
      ]
     },
     "execution_count": 67,
     "metadata": {},
     "output_type": "execute_result"
    }
   ],
   "source": [
    "len(embeddings)"
   ]
  },
  {
   "cell_type": "code",
   "execution_count": 69,
   "id": "0d6df5fc-26cd-4691-aff7-547ba08d1685",
   "metadata": {},
   "outputs": [],
   "source": [
    "seqs_df['embedding'] = embeddings"
   ]
  },
  {
   "cell_type": "code",
   "execution_count": 72,
   "id": "0b442344-aa3b-4c00-8bf4-eb2dac1eb77e",
   "metadata": {},
   "outputs": [],
   "source": [
    "#import pickle\n",
    "#\n",
    "#with open('seqs_1a1_erk_28_10.pickle', 'wb') as pf:\n",
    "#    pickle.dump(seqs_df, pf)"
   ]
  },
  {
   "cell_type": "code",
   "execution_count": 4,
   "id": "c6d31dda-6810-43c4-98e6-13e62ab1fa75",
   "metadata": {},
   "outputs": [],
   "source": [
    "import pickle\n",
    "\n",
    "with open('seqs_1a1_erk_28_10.pickle', 'br') as pf:\n",
    "    seqs_df = pickle.load( pf)\n",
    "\n"
   ]
  },
  {
   "cell_type": "code",
   "execution_count": 5,
   "id": "36469b84-5d5c-4ad4-b447-ca19fa9d560e",
   "metadata": {},
   "outputs": [],
   "source": [
    "seqs_df['changed_pos'] = seqs_df.idx.str.split('_').str[0].astype(int)\n",
    "seqs_df['ref_res'] = seqs_df.idx.str.split('_').str[1]\n",
    "seqs_df['alt_ref'] = seqs_df.idx.str.split('_').str[2]\n"
   ]
  },
  {
   "cell_type": "code",
   "execution_count": 6,
   "id": "f08b9f49-c102-4c9c-bf8d-189fc11f4d74",
   "metadata": {},
   "outputs": [
    {
     "data": {
      "text/html": [
       "<div>\n",
       "<style scoped>\n",
       "    .dataframe tbody tr th:only-of-type {\n",
       "        vertical-align: middle;\n",
       "    }\n",
       "\n",
       "    .dataframe tbody tr th {\n",
       "        vertical-align: top;\n",
       "    }\n",
       "\n",
       "    .dataframe thead th {\n",
       "        text-align: right;\n",
       "    }\n",
       "</style>\n",
       "<table border=\"1\" class=\"dataframe\">\n",
       "  <thead>\n",
       "    <tr style=\"text-align: right;\">\n",
       "      <th></th>\n",
       "      <th>idx</th>\n",
       "      <th>seq</th>\n",
       "      <th>embedding</th>\n",
       "      <th>changed_pos</th>\n",
       "      <th>ref_res</th>\n",
       "      <th>alt_ref</th>\n",
       "    </tr>\n",
       "  </thead>\n",
       "  <tbody>\n",
       "    <tr>\n",
       "      <th>0</th>\n",
       "      <td>0_M_M</td>\n",
       "      <td>MAAAAAQGGGGGEPRRTEGVGPGVPGEVEMVKGQPFDVGPRYTQLQ...</td>\n",
       "      <td>[[0.14807291, -0.061710272, -0.16046412, 0.246...</td>\n",
       "      <td>0</td>\n",
       "      <td>M</td>\n",
       "      <td>M</td>\n",
       "    </tr>\n",
       "    <tr>\n",
       "      <th>1</th>\n",
       "      <td>0_M_A</td>\n",
       "      <td>AAAAAAQGGGGGEPRRTEGVGPGVPGEVEMVKGQPFDVGPRYTQLQ...</td>\n",
       "      <td>[[-0.017355144, -0.24095826, -0.18541417, 0.29...</td>\n",
       "      <td>0</td>\n",
       "      <td>M</td>\n",
       "      <td>A</td>\n",
       "    </tr>\n",
       "    <tr>\n",
       "      <th>2</th>\n",
       "      <td>0_M_Q</td>\n",
       "      <td>QAAAAAQGGGGGEPRRTEGVGPGVPGEVEMVKGQPFDVGPRYTQLQ...</td>\n",
       "      <td>[[-0.06556134, -0.27305928, -0.14548203, 0.295...</td>\n",
       "      <td>0</td>\n",
       "      <td>M</td>\n",
       "      <td>Q</td>\n",
       "    </tr>\n",
       "    <tr>\n",
       "      <th>3</th>\n",
       "      <td>0_M_G</td>\n",
       "      <td>GAAAAAQGGGGGEPRRTEGVGPGVPGEVEMVKGQPFDVGPRYTQLQ...</td>\n",
       "      <td>[[-0.05329977, -0.296827, -0.06620536, 0.31765...</td>\n",
       "      <td>0</td>\n",
       "      <td>M</td>\n",
       "      <td>G</td>\n",
       "    </tr>\n",
       "    <tr>\n",
       "      <th>4</th>\n",
       "      <td>0_M_E</td>\n",
       "      <td>EAAAAAQGGGGGEPRRTEGVGPGVPGEVEMVKGQPFDVGPRYTQLQ...</td>\n",
       "      <td>[[-0.07443688, -0.2843343, -0.14651439, 0.2802...</td>\n",
       "      <td>0</td>\n",
       "      <td>M</td>\n",
       "      <td>E</td>\n",
       "    </tr>\n",
       "    <tr>\n",
       "      <th>...</th>\n",
       "      <td>...</td>\n",
       "      <td>...</td>\n",
       "      <td>...</td>\n",
       "      <td>...</td>\n",
       "      <td>...</td>\n",
       "      <td>...</td>\n",
       "    </tr>\n",
       "    <tr>\n",
       "      <th>7575</th>\n",
       "      <td>378_P_S</td>\n",
       "      <td>MAAAAAQGGGGGEPRRTEGVGPGVPGEVEMVKGQPFDVGPRYTQLQ...</td>\n",
       "      <td>[[0.14916761, -0.05918797, -0.17273687, 0.2443...</td>\n",
       "      <td>378</td>\n",
       "      <td>P</td>\n",
       "      <td>S</td>\n",
       "    </tr>\n",
       "    <tr>\n",
       "      <th>7576</th>\n",
       "      <td>378_P_H</td>\n",
       "      <td>MAAAAAQGGGGGEPRRTEGVGPGVPGEVEMVKGQPFDVGPRYTQLQ...</td>\n",
       "      <td>[[0.14843906, -0.06374911, -0.17499854, 0.2455...</td>\n",
       "      <td>378</td>\n",
       "      <td>P</td>\n",
       "      <td>H</td>\n",
       "    </tr>\n",
       "    <tr>\n",
       "      <th>7577</th>\n",
       "      <td>378_P_C</td>\n",
       "      <td>MAAAAAQGGGGGEPRRTEGVGPGVPGEVEMVKGQPFDVGPRYTQLQ...</td>\n",
       "      <td>[[0.15183444, -0.06203218, -0.17949831, 0.2441...</td>\n",
       "      <td>378</td>\n",
       "      <td>P</td>\n",
       "      <td>C</td>\n",
       "    </tr>\n",
       "    <tr>\n",
       "      <th>7578</th>\n",
       "      <td>378_P_N</td>\n",
       "      <td>MAAAAAQGGGGGEPRRTEGVGPGVPGEVEMVKGQPFDVGPRYTQLQ...</td>\n",
       "      <td>[[0.15151685, -0.05828126, -0.18262146, 0.2455...</td>\n",
       "      <td>378</td>\n",
       "      <td>P</td>\n",
       "      <td>N</td>\n",
       "    </tr>\n",
       "    <tr>\n",
       "      <th>7579</th>\n",
       "      <td>378_P_W</td>\n",
       "      <td>MAAAAAQGGGGGEPRRTEGVGPGVPGEVEMVKGQPFDVGPRYTQLQ...</td>\n",
       "      <td>[[0.14855538, -0.06585471, -0.17313176, 0.2429...</td>\n",
       "      <td>378</td>\n",
       "      <td>P</td>\n",
       "      <td>W</td>\n",
       "    </tr>\n",
       "  </tbody>\n",
       "</table>\n",
       "<p>7580 rows × 6 columns</p>\n",
       "</div>"
      ],
      "text/plain": [
       "          idx                                                seq  \\\n",
       "0       0_M_M  MAAAAAQGGGGGEPRRTEGVGPGVPGEVEMVKGQPFDVGPRYTQLQ...   \n",
       "1       0_M_A  AAAAAAQGGGGGEPRRTEGVGPGVPGEVEMVKGQPFDVGPRYTQLQ...   \n",
       "2       0_M_Q  QAAAAAQGGGGGEPRRTEGVGPGVPGEVEMVKGQPFDVGPRYTQLQ...   \n",
       "3       0_M_G  GAAAAAQGGGGGEPRRTEGVGPGVPGEVEMVKGQPFDVGPRYTQLQ...   \n",
       "4       0_M_E  EAAAAAQGGGGGEPRRTEGVGPGVPGEVEMVKGQPFDVGPRYTQLQ...   \n",
       "...       ...                                                ...   \n",
       "7575  378_P_S  MAAAAAQGGGGGEPRRTEGVGPGVPGEVEMVKGQPFDVGPRYTQLQ...   \n",
       "7576  378_P_H  MAAAAAQGGGGGEPRRTEGVGPGVPGEVEMVKGQPFDVGPRYTQLQ...   \n",
       "7577  378_P_C  MAAAAAQGGGGGEPRRTEGVGPGVPGEVEMVKGQPFDVGPRYTQLQ...   \n",
       "7578  378_P_N  MAAAAAQGGGGGEPRRTEGVGPGVPGEVEMVKGQPFDVGPRYTQLQ...   \n",
       "7579  378_P_W  MAAAAAQGGGGGEPRRTEGVGPGVPGEVEMVKGQPFDVGPRYTQLQ...   \n",
       "\n",
       "                                              embedding  changed_pos ref_res  \\\n",
       "0     [[0.14807291, -0.061710272, -0.16046412, 0.246...            0       M   \n",
       "1     [[-0.017355144, -0.24095826, -0.18541417, 0.29...            0       M   \n",
       "2     [[-0.06556134, -0.27305928, -0.14548203, 0.295...            0       M   \n",
       "3     [[-0.05329977, -0.296827, -0.06620536, 0.31765...            0       M   \n",
       "4     [[-0.07443688, -0.2843343, -0.14651439, 0.2802...            0       M   \n",
       "...                                                 ...          ...     ...   \n",
       "7575  [[0.14916761, -0.05918797, -0.17273687, 0.2443...          378       P   \n",
       "7576  [[0.14843906, -0.06374911, -0.17499854, 0.2455...          378       P   \n",
       "7577  [[0.15183444, -0.06203218, -0.17949831, 0.2441...          378       P   \n",
       "7578  [[0.15151685, -0.05828126, -0.18262146, 0.2455...          378       P   \n",
       "7579  [[0.14855538, -0.06585471, -0.17313176, 0.2429...          378       P   \n",
       "\n",
       "     alt_ref  \n",
       "0          M  \n",
       "1          A  \n",
       "2          Q  \n",
       "3          G  \n",
       "4          E  \n",
       "...      ...  \n",
       "7575       S  \n",
       "7576       H  \n",
       "7577       C  \n",
       "7578       N  \n",
       "7579       W  \n",
       "\n",
       "[7580 rows x 6 columns]"
      ]
     },
     "execution_count": 6,
     "metadata": {},
     "output_type": "execute_result"
    }
   ],
   "source": [
    "seqs_df"
   ]
  },
  {
   "cell_type": "code",
   "execution_count": 7,
   "id": "a67ca702-4643-4502-b2a5-079e86d3c5c2",
   "metadata": {},
   "outputs": [
    {
     "data": {
      "text/html": [
       "<div>\n",
       "<style scoped>\n",
       "    .dataframe tbody tr th:only-of-type {\n",
       "        vertical-align: middle;\n",
       "    }\n",
       "\n",
       "    .dataframe tbody tr th {\n",
       "        vertical-align: top;\n",
       "    }\n",
       "\n",
       "    .dataframe thead th {\n",
       "        text-align: right;\n",
       "    }\n",
       "</style>\n",
       "<table border=\"1\" class=\"dataframe\">\n",
       "  <thead>\n",
       "    <tr style=\"text-align: right;\">\n",
       "      <th></th>\n",
       "      <th>idx</th>\n",
       "      <th>seq</th>\n",
       "      <th>embedding</th>\n",
       "      <th>changed_pos</th>\n",
       "      <th>ref_res</th>\n",
       "      <th>alt_ref</th>\n",
       "    </tr>\n",
       "  </thead>\n",
       "  <tbody>\n",
       "    <tr>\n",
       "      <th>0</th>\n",
       "      <td>0_M_M</td>\n",
       "      <td>MAAAAAQGGGGGEPRRTEGVGPGVPGEVEMVKGQPFDVGPRYTQLQ...</td>\n",
       "      <td>[[0.14807291, -0.061710272, -0.16046412, 0.246...</td>\n",
       "      <td>0</td>\n",
       "      <td>M</td>\n",
       "      <td>M</td>\n",
       "    </tr>\n",
       "    <tr>\n",
       "      <th>1</th>\n",
       "      <td>0_M_A</td>\n",
       "      <td>AAAAAAQGGGGGEPRRTEGVGPGVPGEVEMVKGQPFDVGPRYTQLQ...</td>\n",
       "      <td>[[-0.017355144, -0.24095826, -0.18541417, 0.29...</td>\n",
       "      <td>0</td>\n",
       "      <td>M</td>\n",
       "      <td>A</td>\n",
       "    </tr>\n",
       "    <tr>\n",
       "      <th>2</th>\n",
       "      <td>0_M_Q</td>\n",
       "      <td>QAAAAAQGGGGGEPRRTEGVGPGVPGEVEMVKGQPFDVGPRYTQLQ...</td>\n",
       "      <td>[[-0.06556134, -0.27305928, -0.14548203, 0.295...</td>\n",
       "      <td>0</td>\n",
       "      <td>M</td>\n",
       "      <td>Q</td>\n",
       "    </tr>\n",
       "    <tr>\n",
       "      <th>3</th>\n",
       "      <td>0_M_G</td>\n",
       "      <td>GAAAAAQGGGGGEPRRTEGVGPGVPGEVEMVKGQPFDVGPRYTQLQ...</td>\n",
       "      <td>[[-0.05329977, -0.296827, -0.06620536, 0.31765...</td>\n",
       "      <td>0</td>\n",
       "      <td>M</td>\n",
       "      <td>G</td>\n",
       "    </tr>\n",
       "    <tr>\n",
       "      <th>4</th>\n",
       "      <td>0_M_E</td>\n",
       "      <td>EAAAAAQGGGGGEPRRTEGVGPGVPGEVEMVKGQPFDVGPRYTQLQ...</td>\n",
       "      <td>[[-0.07443688, -0.2843343, -0.14651439, 0.2802...</td>\n",
       "      <td>0</td>\n",
       "      <td>M</td>\n",
       "      <td>E</td>\n",
       "    </tr>\n",
       "    <tr>\n",
       "      <th>...</th>\n",
       "      <td>...</td>\n",
       "      <td>...</td>\n",
       "      <td>...</td>\n",
       "      <td>...</td>\n",
       "      <td>...</td>\n",
       "      <td>...</td>\n",
       "    </tr>\n",
       "    <tr>\n",
       "      <th>495</th>\n",
       "      <td>24_P_S</td>\n",
       "      <td>MAAAAAQGGGGGEPRRTEGVGPGVSGEVEMVKGQPFDVGPRYTQLQ...</td>\n",
       "      <td>[[0.1404461, -0.060427066, -0.16484085, 0.2483...</td>\n",
       "      <td>24</td>\n",
       "      <td>P</td>\n",
       "      <td>S</td>\n",
       "    </tr>\n",
       "    <tr>\n",
       "      <th>496</th>\n",
       "      <td>24_P_H</td>\n",
       "      <td>MAAAAAQGGGGGEPRRTEGVGPGVHGEVEMVKGQPFDVGPRYTQLQ...</td>\n",
       "      <td>[[0.13354145, -0.06059392, -0.16443193, 0.2401...</td>\n",
       "      <td>24</td>\n",
       "      <td>P</td>\n",
       "      <td>H</td>\n",
       "    </tr>\n",
       "    <tr>\n",
       "      <th>497</th>\n",
       "      <td>24_P_C</td>\n",
       "      <td>MAAAAAQGGGGGEPRRTEGVGPGVCGEVEMVKGQPFDVGPRYTQLQ...</td>\n",
       "      <td>[[0.13269974, -0.055467088, -0.16418459, 0.238...</td>\n",
       "      <td>24</td>\n",
       "      <td>P</td>\n",
       "      <td>C</td>\n",
       "    </tr>\n",
       "    <tr>\n",
       "      <th>498</th>\n",
       "      <td>24_P_N</td>\n",
       "      <td>MAAAAAQGGGGGEPRRTEGVGPGVNGEVEMVKGQPFDVGPRYTQLQ...</td>\n",
       "      <td>[[0.1399993, -0.06064699, -0.16760603, 0.24871...</td>\n",
       "      <td>24</td>\n",
       "      <td>P</td>\n",
       "      <td>N</td>\n",
       "    </tr>\n",
       "    <tr>\n",
       "      <th>499</th>\n",
       "      <td>24_P_W</td>\n",
       "      <td>MAAAAAQGGGGGEPRRTEGVGPGVWGEVEMVKGQPFDVGPRYTQLQ...</td>\n",
       "      <td>[[0.14862557, -0.056368865, -0.17028107, 0.233...</td>\n",
       "      <td>24</td>\n",
       "      <td>P</td>\n",
       "      <td>W</td>\n",
       "    </tr>\n",
       "  </tbody>\n",
       "</table>\n",
       "<p>500 rows × 6 columns</p>\n",
       "</div>"
      ],
      "text/plain": [
       "        idx                                                seq  \\\n",
       "0     0_M_M  MAAAAAQGGGGGEPRRTEGVGPGVPGEVEMVKGQPFDVGPRYTQLQ...   \n",
       "1     0_M_A  AAAAAAQGGGGGEPRRTEGVGPGVPGEVEMVKGQPFDVGPRYTQLQ...   \n",
       "2     0_M_Q  QAAAAAQGGGGGEPRRTEGVGPGVPGEVEMVKGQPFDVGPRYTQLQ...   \n",
       "3     0_M_G  GAAAAAQGGGGGEPRRTEGVGPGVPGEVEMVKGQPFDVGPRYTQLQ...   \n",
       "4     0_M_E  EAAAAAQGGGGGEPRRTEGVGPGVPGEVEMVKGQPFDVGPRYTQLQ...   \n",
       "..      ...                                                ...   \n",
       "495  24_P_S  MAAAAAQGGGGGEPRRTEGVGPGVSGEVEMVKGQPFDVGPRYTQLQ...   \n",
       "496  24_P_H  MAAAAAQGGGGGEPRRTEGVGPGVHGEVEMVKGQPFDVGPRYTQLQ...   \n",
       "497  24_P_C  MAAAAAQGGGGGEPRRTEGVGPGVCGEVEMVKGQPFDVGPRYTQLQ...   \n",
       "498  24_P_N  MAAAAAQGGGGGEPRRTEGVGPGVNGEVEMVKGQPFDVGPRYTQLQ...   \n",
       "499  24_P_W  MAAAAAQGGGGGEPRRTEGVGPGVWGEVEMVKGQPFDVGPRYTQLQ...   \n",
       "\n",
       "                                             embedding  changed_pos ref_res  \\\n",
       "0    [[0.14807291, -0.061710272, -0.16046412, 0.246...            0       M   \n",
       "1    [[-0.017355144, -0.24095826, -0.18541417, 0.29...            0       M   \n",
       "2    [[-0.06556134, -0.27305928, -0.14548203, 0.295...            0       M   \n",
       "3    [[-0.05329977, -0.296827, -0.06620536, 0.31765...            0       M   \n",
       "4    [[-0.07443688, -0.2843343, -0.14651439, 0.2802...            0       M   \n",
       "..                                                 ...          ...     ...   \n",
       "495  [[0.1404461, -0.060427066, -0.16484085, 0.2483...           24       P   \n",
       "496  [[0.13354145, -0.06059392, -0.16443193, 0.2401...           24       P   \n",
       "497  [[0.13269974, -0.055467088, -0.16418459, 0.238...           24       P   \n",
       "498  [[0.1399993, -0.06064699, -0.16760603, 0.24871...           24       P   \n",
       "499  [[0.14862557, -0.056368865, -0.17028107, 0.233...           24       P   \n",
       "\n",
       "    alt_ref  \n",
       "0         M  \n",
       "1         A  \n",
       "2         Q  \n",
       "3         G  \n",
       "4         E  \n",
       "..      ...  \n",
       "495       S  \n",
       "496       H  \n",
       "497       C  \n",
       "498       N  \n",
       "499       W  \n",
       "\n",
       "[500 rows x 6 columns]"
      ]
     },
     "execution_count": 7,
     "metadata": {},
     "output_type": "execute_result"
    }
   ],
   "source": [
    "seqs_df.head(500)"
   ]
  },
  {
   "cell_type": "code",
   "execution_count": 91,
   "id": "9b7f6b08-0e24-4338-808d-35d6cdbece07",
   "metadata": {},
   "outputs": [],
   "source": [
    "for pos,_ in enumerate(erk, start=1):\n",
    "  \n",
    "    for _, row in seqs_df.head(500).iterrows():\n",
    "        \n",
    "        pos_embeddings = seqs_df.embedding.str[pos]\n",
    "        \n",
    "        break\n",
    "    break\n",
    "        \n",
    "        \n",
    "        #dist = row.changed_pos - i\n",
    "    \n",
    "   #     print(i, row.changed_pos, dist)"
   ]
  },
  {
   "cell_type": "code",
   "execution_count": 10,
   "id": "ef80fb6c-cde4-474c-bb29-9531210c0109",
   "metadata": {},
   "outputs": [],
   "source": [
    "pos = 0\n",
    "change_pos = 1"
   ]
  },
  {
   "cell_type": "code",
   "execution_count": 11,
   "id": "4e2f0503-db95-4483-9ebd-c88b44563b0b",
   "metadata": {},
   "outputs": [],
   "source": [
    "pos_embeddings = seqs_df.query('changed_pos == @change_pos').embedding.str[pos]"
   ]
  },
  {
   "cell_type": "code",
   "execution_count": 12,
   "id": "ed6841ae-e650-4751-b486-42262ad1ce93",
   "metadata": {},
   "outputs": [],
   "source": [
    "ref_embeddings = seqs_df.iloc[0,2][pos]"
   ]
  },
  {
   "cell_type": "code",
   "execution_count": 43,
   "id": "bc322597-105d-484f-aab0-4f43c6932b86",
   "metadata": {},
   "outputs": [
    {
     "data": {
      "text/plain": [
       "array([[ 0.14807291, -0.06171027, -0.16046412, ...,  0.05515552,\n",
       "         0.25648457,  0.24984613],\n",
       "       [ 0.10898272, -0.1831715 , -0.14487347, ...,  0.10600671,\n",
       "         0.33605614,  0.2168887 ],\n",
       "       [ 0.08092349, -0.23182347, -0.17378037, ...,  0.07944067,\n",
       "         0.3395805 ,  0.20044641],\n",
       "       ...,\n",
       "       [-0.16134788, -0.01262604,  0.40106702, ..., -0.05761923,\n",
       "         0.06111239,  0.2782966 ],\n",
       "       [-0.13150422, -0.15539233,  0.19230433, ..., -0.06554767,\n",
       "         0.18556772,  0.19023587],\n",
       "       [-0.23045944, -0.06073596,  0.2605823 , ...,  0.00456234,\n",
       "        -0.03331331,  0.24068144]], dtype=float32)"
      ]
     },
     "execution_count": 43,
     "metadata": {},
     "output_type": "execute_result"
    }
   ],
   "source": [
    "seqs_df.iloc[0,2]"
   ]
  },
  {
   "cell_type": "code",
   "execution_count": 14,
   "id": "2c728560-6fc8-40d0-bab4-7fdae4323030",
   "metadata": {},
   "outputs": [
    {
     "data": {
      "text/plain": [
       "20    [0.31016275, -0.08145891, -0.2662504, 0.253273...\n",
       "21    [0.14807291, -0.061710272, -0.16046412, 0.2461...\n",
       "22    [0.3192587, -0.094872825, -0.23838022, 0.22998...\n",
       "23    [0.2359562, -0.028335234, -0.17996764, 0.30880...\n",
       "24    [0.20998573, -0.09428838, -0.18942598, 0.32318...\n",
       "25    [0.16754223, -0.10357768, -0.1198803, 0.206587...\n",
       "26    [0.19320495, -0.064753585, -0.1694427, 0.29178...\n",
       "27    [0.110187165, -0.083701834, -0.12673976, 0.345...\n",
       "28    [0.17564642, -0.06396803, -0.23723601, 0.37726...\n",
       "29    [0.1467197, -0.06627122, -0.16605946, 0.311351...\n",
       "30    [0.17666556, -0.06959322, -0.114857055, 0.3916...\n",
       "31    [0.17420724, -0.09960941, -0.12284233, 0.35453...\n",
       "32    [0.20112553, -0.051008675, -0.14916264, 0.3563...\n",
       "33    [0.23457602, -0.076706335, -0.2042832, 0.30979...\n",
       "34    [0.14780535, -0.07784709, -0.19526099, 0.35761...\n",
       "35    [0.11466328, -0.06344261, -0.065356046, 0.2609...\n",
       "36    [0.2586235, -0.07701254, -0.21561345, 0.269426...\n",
       "37    [0.1842744, -0.028036028, -0.1566576, 0.324702...\n",
       "38    [0.15622254, -0.055841994, -0.10303842, 0.3361...\n",
       "39    [0.18793735, -0.040999766, -0.11754918, 0.3377...\n",
       "Name: embedding, dtype: object"
      ]
     },
     "execution_count": 14,
     "metadata": {},
     "output_type": "execute_result"
    }
   ],
   "source": [
    "pos_embeddings"
   ]
  },
  {
   "cell_type": "code",
   "execution_count": 107,
   "id": "65474372-cff6-409e-8ca6-ced1ae9851cd",
   "metadata": {},
   "outputs": [
    {
     "data": {
      "text/plain": [
       "20    [0.31016275, -0.08145891, -0.2662504, 0.253273...\n",
       "21    [0.14807291, -0.061710272, -0.16046412, 0.2461...\n",
       "22    [0.3192587, -0.094872825, -0.23838022, 0.22998...\n",
       "23    [0.2359562, -0.028335234, -0.17996764, 0.30880...\n",
       "24    [0.20998573, -0.09428838, -0.18942598, 0.32318...\n",
       "25    [0.16754223, -0.10357768, -0.1198803, 0.206587...\n",
       "26    [0.19320495, -0.064753585, -0.1694427, 0.29178...\n",
       "27    [0.110187165, -0.083701834, -0.12673976, 0.345...\n",
       "28    [0.17564642, -0.06396803, -0.23723601, 0.37726...\n",
       "29    [0.1467197, -0.06627122, -0.16605946, 0.311351...\n",
       "30    [0.17666556, -0.06959322, -0.114857055, 0.3916...\n",
       "31    [0.17420724, -0.09960941, -0.12284233, 0.35453...\n",
       "32    [0.20112553, -0.051008675, -0.14916264, 0.3563...\n",
       "33    [0.23457602, -0.076706335, -0.2042832, 0.30979...\n",
       "34    [0.14780535, -0.07784709, -0.19526099, 0.35761...\n",
       "35    [0.11466328, -0.06344261, -0.065356046, 0.2609...\n",
       "36    [0.2586235, -0.07701254, -0.21561345, 0.269426...\n",
       "37    [0.1842744, -0.028036028, -0.1566576, 0.324702...\n",
       "38    [0.15622254, -0.055841994, -0.10303842, 0.3361...\n",
       "39    [0.18793735, -0.040999766, -0.11754918, 0.3377...\n",
       "Name: embedding, dtype: object"
      ]
     },
     "execution_count": 107,
     "metadata": {},
     "output_type": "execute_result"
    }
   ],
   "source": [
    "pos_embeddings"
   ]
  },
  {
   "cell_type": "code",
   "execution_count": 15,
   "id": "4896a319-4a9e-4de9-bd8a-56aa100bf2a2",
   "metadata": {},
   "outputs": [],
   "source": [
    "from scipy.spatial import distance"
   ]
  },
  {
   "cell_type": "code",
   "execution_count": 18,
   "id": "4c913978-716a-4640-a858-13a20be3545e",
   "metadata": {},
   "outputs": [],
   "source": [
    "import pandas as pd"
   ]
  },
  {
   "cell_type": "code",
   "execution_count": 42,
   "id": "6522f272-381d-4311-9b55-e2e70e61691f",
   "metadata": {},
   "outputs": [
    {
     "data": {
      "text/plain": [
       "1024"
      ]
     },
     "execution_count": 42,
     "metadata": {},
     "output_type": "execute_result"
    }
   ],
   "source": [
    "len(ref_embeddings)"
   ]
  },
  {
   "cell_type": "code",
   "execution_count": 41,
   "id": "e93df0f6-8460-4d51-9935-c49f77b49e17",
   "metadata": {},
   "outputs": [
    {
     "data": {
      "text/plain": [
       "1980    [0.14446849, -0.063855335, -0.15926562, 0.2456...\n",
       "1981    [0.1462661, -0.06638278, -0.15899976, 0.240993...\n",
       "1982    [0.14724815, -0.064972214, -0.14916714, 0.2449...\n",
       "1983    [0.16556975, -0.058992323, -0.14305466, 0.2400...\n",
       "1984    [0.15900071, -0.054529477, -0.1438101, 0.24196...\n",
       "1985    [0.16362934, -0.06012588, -0.13378297, 0.23705...\n",
       "1986    [0.16031875, -0.051993627, -0.13928616, 0.2357...\n",
       "1987    [0.14623669, -0.063387126, -0.15445349, 0.2463...\n",
       "1988    [0.14807291, -0.061710272, -0.16046412, 0.2461...\n",
       "1989    [0.15802614, -0.048976127, -0.14465538, 0.2399...\n",
       "1990    [0.1450196, -0.063643195, -0.15795787, 0.24703...\n",
       "1991    [0.16519727, -0.049320795, -0.13386637, 0.2364...\n",
       "1992    [0.13978848, -0.06758648, -0.15371846, 0.24379...\n",
       "1993    [0.14778243, -0.060053863, -0.15918252, 0.2474...\n",
       "1994    [0.14773197, -0.06030981, -0.15727407, 0.24760...\n",
       "1995    [0.15426585, -0.06005265, -0.15320948, 0.24496...\n",
       "1996    [0.15012738, -0.061521668, -0.15080354, 0.2440...\n",
       "1997    [0.13163681, -0.07646985, -0.14901878, 0.23372...\n",
       "1998    [0.15535621, -0.056488257, -0.14541927, 0.2445...\n",
       "1999    [0.132154, -0.07530507, -0.14301483, 0.2390241...\n",
       "Name: embedding, dtype: object"
      ]
     },
     "execution_count": 41,
     "metadata": {},
     "output_type": "execute_result"
    }
   ],
   "source": [
    "pos_embeddings"
   ]
  },
  {
   "cell_type": "code",
   "execution_count": null,
   "id": "d939e039-1839-4a63-9a8d-f2b23e844cd2",
   "metadata": {},
   "outputs": [],
   "source": [
    "output = []\n",
    "for change_pos in range(100):\n",
    "    pos = 0\n",
    "    pos_embeddings = seqs_df.query('changed_pos == @change_pos').embedding.str[pos]\n",
    "    ref_embeddings = \n",
    "    cos_dist = []\n",
    "    for cemb in pos_embeddings:\n",
    "        print(distance.cosine(ref_embeddings, cemb))\n",
    "        cos_dist.append(distance.cosine(ref_embeddings, cemb))\n",
    "    output.append(sum(cos_dist)/len(cos_dist))\n",
    "    #print(pos, sum(cos_dist)/len(cos_dist))"
   ]
  },
  {
   "cell_type": "code",
   "execution_count": 34,
   "id": "2a1c93be-f103-45be-910d-fb6751cc4911",
   "metadata": {},
   "outputs": [
    {
     "data": {
      "text/plain": [
       "1980    [0.056221034, 0.31971556, 0.13257886, 0.027157...\n",
       "1981    [0.09114731, 0.29337958, 0.13447063, 0.0324153...\n",
       "1982    [0.1043675, 0.24827655, 0.14176397, 0.07283045...\n",
       "1983    [0.12321277, 0.312958, 0.12218105, 0.05839251,...\n",
       "1984    [0.11474464, 0.24262851, 0.1482045, 0.04109644...\n",
       "1985    [0.09397624, 0.2896451, 0.1449192, 0.06851512,...\n",
       "1986    [0.1279741, 0.2781731, 0.18153527, 0.10906267,...\n",
       "1987    [0.10274178, 0.29994485, 0.14773709, 0.0572613...\n",
       "1988    [0.109279275, 0.33901188, 0.13655649, 0.028531...\n",
       "1989    [0.1124631, 0.26279175, 0.18701431, 0.10424612...\n",
       "1990    [0.056545787, 0.29558194, 0.17515615, 0.055725...\n",
       "1991    [0.13695835, 0.2614581, 0.1616925, 0.080261946...\n",
       "1992    [0.0844329, 0.25365946, 0.17538963, 0.09094094...\n",
       "1993    [0.072807305, 0.33578682, 0.1222782, 0.0294608...\n",
       "1994    [0.10910018, 0.35364065, 0.14962028, 0.0344082...\n",
       "1995    [0.105132304, 0.27982017, 0.16192019, 0.056863...\n",
       "1996    [0.12605108, 0.25710642, 0.18661726, 0.1076607...\n",
       "1997    [0.1161725, 0.29541698, 0.1718638, 0.069094695...\n",
       "1998    [0.12933159, 0.2832864, 0.16091067, 0.08460979...\n",
       "1999    [0.07170357, 0.26117733, 0.12813742, 0.0495658...\n",
       "Name: embedding, dtype: object"
      ]
     },
     "execution_count": 34,
     "metadata": {},
     "output_type": "execute_result"
    }
   ],
   "source": [
    "seqs_df.query('changed_pos == @change_pos').embedding.str[pos]"
   ]
  },
  {
   "cell_type": "code",
   "execution_count": 20,
   "id": "d0686816-d871-4154-94d8-a4f793ffe75c",
   "metadata": {},
   "outputs": [
    {
     "data": {
      "text/plain": [
       "<AxesSubplot: >"
      ]
     },
     "execution_count": 20,
     "metadata": {},
     "output_type": "execute_result"
    },
    {
     "data": {
      "image/png": "[encoded data removed]",
      "text/plain": [
       "<Figure size 1500x500 with 1 Axes>"
      ]
     },
     "metadata": {},
     "output_type": "display_data"
    }
   ],
   "source": [
    "pd.Series(output).plot.bar(figsize=(15,5))"
   ]
  },
  {
   "cell_type": "code",
   "execution_count": 21,
   "id": "ffa2127e-d7d6-4642-9027-8ddac93eb204",
   "metadata": {},
   "outputs": [],
   "source": [
    "output = []\n",
    "\n",
    "for pos in range(50,100):\n",
    "    ref_embeddings = seqs_df.iloc[0,2][pos]\n",
    "    \n",
    "    for change_pos in range(100):\n",
    "        if change_pos != pos:\n",
    "        \n",
    "            pos_embeddings = seqs_df.query('changed_pos == @change_pos').embedding.str[pos]\n",
    "\n",
    "            cos_dist = []\n",
    "            for cemb in pos_embeddings:\n",
    "\n",
    "                cos_dist.append(distance.cosine(ref_embeddings, cemb))\n",
    "            output.append([change_pos - pos, sum(cos_dist)/len(cos_dist)])\n",
    "            #print(pos, sum(cos_dist)/len(cos_dist))"
   ]
  },
  {
   "cell_type": "code",
   "execution_count": 22,
   "id": "08a2fdf5-7b2d-4589-ad2e-af9405e49afa",
   "metadata": {},
   "outputs": [],
   "source": [
    "df = pd.DataFrame(output, columns=['pos','dif'])"
   ]
  },
  {
   "cell_type": "code",
   "execution_count": 23,
   "id": "59e11303-5ae9-47b0-9063-1ab58cc37ca5",
   "metadata": {},
   "outputs": [
    {
     "data": {
      "text/plain": [
       "<AxesSubplot: xlabel='pos'>"
      ]
     },
     "execution_count": 23,
     "metadata": {},
     "output_type": "execute_result"
    },
    {
     "data": {
      "image/png": "[encoded data removed]",
      "text/plain": [
       "<Figure size 1500x500 with 1 Axes>"
      ]
     },
     "metadata": {},
     "output_type": "display_data"
    }
   ],
   "source": [
    "df.groupby('pos').agg('mean').plot.bar(figsize=(15,5))"
   ]
  },
  {
   "cell_type": "code",
   "execution_count": 170,
   "id": "7182d55b-1134-4555-b31a-a89ad208e28c",
   "metadata": {},
   "outputs": [
    {
     "data": {
      "text/plain": [
       "<AxesSubplot: xlabel='pos'>"
      ]
     },
     "execution_count": 170,
     "metadata": {},
     "output_type": "execute_result"
    },
    {
     "data": {
      "image/png": "[encoded data removed]",
      "text/plain": [
       "<Figure size 1500x500 with 1 Axes>"
      ]
     },
     "metadata": {},
     "output_type": "display_data"
    }
   ],
   "source": [
    "df.groupby('pos').agg('mean').plot.bar(figsize=(15,5))"
   ]
  },
  {
   "cell_type": "code",
   "execution_count": 29,
   "id": "89daf696-f26d-4051-ac2b-aff8f01205a9",
   "metadata": {},
   "outputs": [
    {
     "data": {
      "text/plain": [
       "(50.0, 150.0)"
      ]
     },
     "execution_count": 29,
     "metadata": {},
     "output_type": "execute_result"
    },
    {
     "data": {
      "image/png": "[encoded data removed]",
      "text/plain": [
       "<Figure size 1500x500 with 1 Axes>"
      ]
     },
     "metadata": {},
     "output_type": "display_data"
    }
   ],
   "source": [
    "import matplotlib.pyplot as plt\n",
    "ax = df.groupby('pos').agg('mean').plot.bar(figsize=(15,5))\n",
    "plt.xlim(50, 150)"
   ]
  },
  {
   "cell_type": "code",
   "execution_count": 65,
   "id": "65af94ae-5a06-47da-a9e6-79f6504c5d5d",
   "metadata": {},
   "outputs": [
    {
     "data": {
      "text/html": [
       "<div>\n",
       "<style scoped>\n",
       "    .dataframe tbody tr th:only-of-type {\n",
       "        vertical-align: middle;\n",
       "    }\n",
       "\n",
       "    .dataframe tbody tr th {\n",
       "        vertical-align: top;\n",
       "    }\n",
       "\n",
       "    .dataframe thead th {\n",
       "        text-align: right;\n",
       "    }\n",
       "</style>\n",
       "<table border=\"1\" class=\"dataframe\">\n",
       "  <thead>\n",
       "    <tr style=\"text-align: right;\">\n",
       "      <th></th>\n",
       "      <th>idx</th>\n",
       "      <th>seq</th>\n",
       "      <th>embedding</th>\n",
       "      <th>changed_pos</th>\n",
       "      <th>ref_res</th>\n",
       "      <th>alt_ref</th>\n",
       "    </tr>\n",
       "  </thead>\n",
       "  <tbody>\n",
       "    <tr>\n",
       "      <th>0</th>\n",
       "      <td>0_M_M</td>\n",
       "      <td>MAAAAAQGGGGGEPRRTEGVGPGVPGEVEMVKGQPFDVGPRYTQLQ...</td>\n",
       "      <td>[[0.14807291, -0.061710272, -0.16046412, 0.246...</td>\n",
       "      <td>0</td>\n",
       "      <td>M</td>\n",
       "      <td>M</td>\n",
       "    </tr>\n",
       "    <tr>\n",
       "      <th>1</th>\n",
       "      <td>0_M_A</td>\n",
       "      <td>AAAAAAQGGGGGEPRRTEGVGPGVPGEVEMVKGQPFDVGPRYTQLQ...</td>\n",
       "      <td>[[-0.017355144, -0.24095826, -0.18541417, 0.29...</td>\n",
       "      <td>0</td>\n",
       "      <td>M</td>\n",
       "      <td>A</td>\n",
       "    </tr>\n",
       "    <tr>\n",
       "      <th>2</th>\n",
       "      <td>0_M_Q</td>\n",
       "      <td>QAAAAAQGGGGGEPRRTEGVGPGVPGEVEMVKGQPFDVGPRYTQLQ...</td>\n",
       "      <td>[[-0.06556134, -0.27305928, -0.14548203, 0.295...</td>\n",
       "      <td>0</td>\n",
       "      <td>M</td>\n",
       "      <td>Q</td>\n",
       "    </tr>\n",
       "    <tr>\n",
       "      <th>3</th>\n",
       "      <td>0_M_G</td>\n",
       "      <td>GAAAAAQGGGGGEPRRTEGVGPGVPGEVEMVKGQPFDVGPRYTQLQ...</td>\n",
       "      <td>[[-0.05329977, -0.296827, -0.06620536, 0.31765...</td>\n",
       "      <td>0</td>\n",
       "      <td>M</td>\n",
       "      <td>G</td>\n",
       "    </tr>\n",
       "    <tr>\n",
       "      <th>4</th>\n",
       "      <td>0_M_E</td>\n",
       "      <td>EAAAAAQGGGGGEPRRTEGVGPGVPGEVEMVKGQPFDVGPRYTQLQ...</td>\n",
       "      <td>[[-0.07443688, -0.2843343, -0.14651439, 0.2802...</td>\n",
       "      <td>0</td>\n",
       "      <td>M</td>\n",
       "      <td>E</td>\n",
       "    </tr>\n",
       "    <tr>\n",
       "      <th>...</th>\n",
       "      <td>...</td>\n",
       "      <td>...</td>\n",
       "      <td>...</td>\n",
       "      <td>...</td>\n",
       "      <td>...</td>\n",
       "      <td>...</td>\n",
       "    </tr>\n",
       "    <tr>\n",
       "      <th>7575</th>\n",
       "      <td>378_P_S</td>\n",
       "      <td>MAAAAAQGGGGGEPRRTEGVGPGVPGEVEMVKGQPFDVGPRYTQLQ...</td>\n",
       "      <td>[[0.14916761, -0.05918797, -0.17273687, 0.2443...</td>\n",
       "      <td>378</td>\n",
       "      <td>P</td>\n",
       "      <td>S</td>\n",
       "    </tr>\n",
       "    <tr>\n",
       "      <th>7576</th>\n",
       "      <td>378_P_H</td>\n",
       "      <td>MAAAAAQGGGGGEPRRTEGVGPGVPGEVEMVKGQPFDVGPRYTQLQ...</td>\n",
       "      <td>[[0.14843906, -0.06374911, -0.17499854, 0.2455...</td>\n",
       "      <td>378</td>\n",
       "      <td>P</td>\n",
       "      <td>H</td>\n",
       "    </tr>\n",
       "    <tr>\n",
       "      <th>7577</th>\n",
       "      <td>378_P_C</td>\n",
       "      <td>MAAAAAQGGGGGEPRRTEGVGPGVPGEVEMVKGQPFDVGPRYTQLQ...</td>\n",
       "      <td>[[0.15183444, -0.06203218, -0.17949831, 0.2441...</td>\n",
       "      <td>378</td>\n",
       "      <td>P</td>\n",
       "      <td>C</td>\n",
       "    </tr>\n",
       "    <tr>\n",
       "      <th>7578</th>\n",
       "      <td>378_P_N</td>\n",
       "      <td>MAAAAAQGGGGGEPRRTEGVGPGVPGEVEMVKGQPFDVGPRYTQLQ...</td>\n",
       "      <td>[[0.15151685, -0.05828126, -0.18262146, 0.2455...</td>\n",
       "      <td>378</td>\n",
       "      <td>P</td>\n",
       "      <td>N</td>\n",
       "    </tr>\n",
       "    <tr>\n",
       "      <th>7579</th>\n",
       "      <td>378_P_W</td>\n",
       "      <td>MAAAAAQGGGGGEPRRTEGVGPGVPGEVEMVKGQPFDVGPRYTQLQ...</td>\n",
       "      <td>[[0.14855538, -0.06585471, -0.17313176, 0.2429...</td>\n",
       "      <td>378</td>\n",
       "      <td>P</td>\n",
       "      <td>W</td>\n",
       "    </tr>\n",
       "  </tbody>\n",
       "</table>\n",
       "<p>7580 rows × 6 columns</p>\n",
       "</div>"
      ],
      "text/plain": [
       "          idx                                                seq  \\\n",
       "0       0_M_M  MAAAAAQGGGGGEPRRTEGVGPGVPGEVEMVKGQPFDVGPRYTQLQ...   \n",
       "1       0_M_A  AAAAAAQGGGGGEPRRTEGVGPGVPGEVEMVKGQPFDVGPRYTQLQ...   \n",
       "2       0_M_Q  QAAAAAQGGGGGEPRRTEGVGPGVPGEVEMVKGQPFDVGPRYTQLQ...   \n",
       "3       0_M_G  GAAAAAQGGGGGEPRRTEGVGPGVPGEVEMVKGQPFDVGPRYTQLQ...   \n",
       "4       0_M_E  EAAAAAQGGGGGEPRRTEGVGPGVPGEVEMVKGQPFDVGPRYTQLQ...   \n",
       "...       ...                                                ...   \n",
       "7575  378_P_S  MAAAAAQGGGGGEPRRTEGVGPGVPGEVEMVKGQPFDVGPRYTQLQ...   \n",
       "7576  378_P_H  MAAAAAQGGGGGEPRRTEGVGPGVPGEVEMVKGQPFDVGPRYTQLQ...   \n",
       "7577  378_P_C  MAAAAAQGGGGGEPRRTEGVGPGVPGEVEMVKGQPFDVGPRYTQLQ...   \n",
       "7578  378_P_N  MAAAAAQGGGGGEPRRTEGVGPGVPGEVEMVKGQPFDVGPRYTQLQ...   \n",
       "7579  378_P_W  MAAAAAQGGGGGEPRRTEGVGPGVPGEVEMVKGQPFDVGPRYTQLQ...   \n",
       "\n",
       "                                              embedding  changed_pos ref_res  \\\n",
       "0     [[0.14807291, -0.061710272, -0.16046412, 0.246...            0       M   \n",
       "1     [[-0.017355144, -0.24095826, -0.18541417, 0.29...            0       M   \n",
       "2     [[-0.06556134, -0.27305928, -0.14548203, 0.295...            0       M   \n",
       "3     [[-0.05329977, -0.296827, -0.06620536, 0.31765...            0       M   \n",
       "4     [[-0.07443688, -0.2843343, -0.14651439, 0.2802...            0       M   \n",
       "...                                                 ...          ...     ...   \n",
       "7575  [[0.14916761, -0.05918797, -0.17273687, 0.2443...          378       P   \n",
       "7576  [[0.14843906, -0.06374911, -0.17499854, 0.2455...          378       P   \n",
       "7577  [[0.15183444, -0.06203218, -0.17949831, 0.2441...          378       P   \n",
       "7578  [[0.15151685, -0.05828126, -0.18262146, 0.2455...          378       P   \n",
       "7579  [[0.14855538, -0.06585471, -0.17313176, 0.2429...          378       P   \n",
       "\n",
       "     alt_ref  \n",
       "0          M  \n",
       "1          A  \n",
       "2          Q  \n",
       "3          G  \n",
       "4          E  \n",
       "...      ...  \n",
       "7575       S  \n",
       "7576       H  \n",
       "7577       C  \n",
       "7578       N  \n",
       "7579       W  \n",
       "\n",
       "[7580 rows x 6 columns]"
      ]
     },
     "execution_count": 65,
     "metadata": {},
     "output_type": "execute_result"
    }
   ],
   "source": [
    "seqs_df"
   ]
  },
  {
   "cell_type": "code",
   "execution_count": 63,
   "id": "2efb99ae-1f9a-400d-b133-28b5c05b3003",
   "metadata": {},
   "outputs": [],
   "source": [
    "reference = seqs_df.iloc[0,2]"
   ]
  },
  {
   "cell_type": "code",
   "execution_count": 73,
   "id": "c1d1e8c7-242b-48e5-a2bc-d27308a82180",
   "metadata": {},
   "outputs": [],
   "source": [
    "to_plot = []\n",
    "for pos in [0, 10, 20, 50, 100]:\n",
    "\n",
    "    output = []\n",
    "    ref_embeddings = reference[pos]\n",
    "    for change_pos in range(100):\n",
    "\n",
    "        pos_embeddings = seqs_df[seqs_df.ref_res != seqs_df.alt_ref].query('changed_pos == @change_pos').embedding.str[pos]\n",
    "\n",
    "        cos_dist = []\n",
    "        for cemb in pos_embeddings:\n",
    "            d = distance.cosine(ref_embeddings, cemb)\n",
    "            if d:\n",
    "                cos_dist.append(d)\n",
    "\n",
    "        output.append(sum(cos_dist)/len(cos_dist))\n",
    "        #print(pos, sum(cos_dist)/len(cos_dist))\n",
    "    to_plot.append(output)\n",
    "    "
   ]
  },
  {
   "cell_type": "code",
   "execution_count": 85,
   "id": "3740d688-28a8-472c-bc04-bc5d54be573c",
   "metadata": {},
   "outputs": [
    {
     "data": {
      "image/png": "[encoded data removed]",
      "text/plain": [
       "<Figure size 640x480 with 1 Axes>"
      ]
     },
     "metadata": {},
     "output_type": "display_data"
    },
    {
     "data": {
      "image/png": "[encoded data removed]",
      "text/plain": [
       "<Figure size 640x480 with 1 Axes>"
      ]
     },
     "metadata": {},
     "output_type": "display_data"
    },
    {
     "data": {
      "image/png": "[encoded data removed]",
      "text/plain": [
       "<Figure size 640x480 with 1 Axes>"
      ]
     },
     "metadata": {},
     "output_type": "display_data"
    },
    {
     "data": {
      "image/png": "[encoded data removed]",
      "text/plain": [
       "<Figure size 640x480 with 1 Axes>"
      ]
     },
     "metadata": {},
     "output_type": "display_data"
    },
    {
     "data": {
      "image/png": "[encoded data removed]",
      "text/plain": [
       "<Figure size 640x480 with 1 Axes>"
      ]
     },
     "metadata": {},
     "output_type": "display_data"
    }
   ],
   "source": [
    "for n  in to_plot:\n",
    "    plt.bar(x=range(len(n)), height=n)\n",
    "    plt.show()"
   ]
  },
  {
   "cell_type": "code",
   "execution_count": null,
   "id": "3757edb0-3e2d-4f5c-aa7f-2126f2397143",
   "metadata": {},
   "outputs": [],
   "source": []
  }
 ],
 "metadata": {
  "kernelspec": {
   "display_name": "Python 3 (ipykernel)",
   "language": "python",
   "name": "python3"
  },
  "language_info": {
   "codemirror_mode": {
    "name": "ipython",
    "version": 3
   },
   "file_extension": ".py",
   "mimetype": "text/x-python",
   "name": "python",
   "nbconvert_exporter": "python",
   "pygments_lexer": "ipython3",
   "version": "3.9.12"
  }
 },
 "nbformat": 4,
 "nbformat_minor": 5
}
