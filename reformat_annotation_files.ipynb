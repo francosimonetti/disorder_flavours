{
 "cells": [
  {
   "cell_type": "code",
   "execution_count": 19,
   "id": "e71ccc40",
   "metadata": {},
   "outputs": [],
   "source": [
    "from Bio import SeqIO\n",
    "import os\n",
    "\n",
    "### Reformat DisProt fasta annotation\n",
    "\n",
    "disprot_annot = \"/data/franco/datasets/disprot/DisProt_release_2022_06_with_ambiguous_evidences_consensus_regions.fasta\"\n",
    "disprot_reformat = \"/data/franco/datasets/disprot/DisProt_release_2022_06_reformat_annot.fasta\"\n",
    "\n",
    "changes = dict()\n",
    "changes[\"A0A0F7RL08\"] = \"A0A6L8PPD0\"\n",
    "\n",
    "with open(disprot_reformat, 'w') as outfmt:\n",
    "    for record in SeqIO.parse(disprot_annot, 'fasta'):\n",
    "        uniprot_id = record.description.split(\"=\")[1]\n",
    "        if uniprot_id in changes:\n",
    "            new_id = changes[uniprot_id]\n",
    "            uniprot_id = new_id\n",
    "        outfmt.write(f\">{uniprot_id}\\n\")\n",
    "        outfmt.write(f\"{record.seq}\\n\")"
   ]
  },
  {
   "cell_type": "code",
   "execution_count": 18,
   "id": "191fbadb",
   "metadata": {},
   "outputs": [],
   "source": [
    "## Generate monomers annotation:\n",
    "# lower case -> disordered\n",
    "# upper case -> ordered\n",
    "\n",
    "monomers_fasta = \"/data/franco/datasets/disprot/monomers.fasta\"\n",
    "monomers_annot = \"/data/franco/datasets/disprot/monomers_annot.fasta\"\n",
    "\n",
    "with open(monomers_annot, 'w') as outfmt:\n",
    "    for record in SeqIO.parse(monomers_fasta, 'fasta'):\n",
    "        annot_seq = []\n",
    "        for aa in record.seq:\n",
    "            if aa.islower():\n",
    "                annot_seq.append(\"D\")\n",
    "            elif aa.isupper():\n",
    "                annot_seq.append(\"-\")\n",
    "            else:\n",
    "                print(\"not lower, not upper?\", aa)\n",
    "                raise\n",
    "        outfmt.write(f\">{record.id}\\n\")\n",
    "        new_seq = \"\".join(annot_seq)\n",
    "        outfmt.write(f\"{new_seq}\\n\")"
   ]
  },
  {
   "cell_type": "code",
   "execution_count": null,
   "id": "ab557ddc",
   "metadata": {},
   "outputs": [],
   "source": []
  }
 ],
 "metadata": {
  "kernelspec": {
   "display_name": "Python 3 (ipykernel)",
   "language": "python",
   "name": "python3"
  },
  "language_info": {
   "codemirror_mode": {
    "name": "ipython",
    "version": 3
   },
   "file_extension": ".py",
   "mimetype": "text/x-python",
   "name": "python",
   "nbconvert_exporter": "python",
   "pygments_lexer": "ipython3",
   "version": "3.9.0"
  }
 },
 "nbformat": 4,
 "nbformat_minor": 5
}
