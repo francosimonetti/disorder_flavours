{
 "cells": [
  {
   "cell_type": "code",
   "execution_count": 11,
   "id": "382aeb0f",
   "metadata": {},
   "outputs": [],
   "source": [
    "import matplotlib.pyplot as plt\n",
    "from matplotlib import cm\n",
    "from matplotlib.patches import Patch\n",
    "import pandas as pd\n",
    "import numpy as np\n",
    "import os\n",
    "import collections\n",
    "import mpl_stylesheet\n",
    "mpl_stylesheet.banskt_presentation(fontfamily = 'mono', fontsize = 20, colors = 'banskt', dpi = 300)\n"
   ]
  },
  {
   "cell_type": "code",
   "execution_count": 12,
   "id": "b4f7f57c",
   "metadata": {
    "scrolled": true
   },
   "outputs": [
    {
     "name": "stdout",
     "output_type": "stream",
     "text": [
      "umap_100_0.25.txt\n",
      "umap_200_0.01.txt\n",
      "umap_200_0.25.txt\n",
      "umap_200_0.5.txt\n",
      "umap_200_0.9.txt\n",
      "umap_200_0.1.txt\n",
      "umap_100_0.9.txt\n",
      "umap_100_0.01.txt\n",
      "umap_100_0.1.txt\n",
      "umap_100_0.5.txt\n"
     ]
    }
   ],
   "source": [
    "# basedir = \"/data/franco/disorder_flavours/local_umap_calc/umap_data/\"\n",
    "basedir = \"/data/franco/disorder_flavours/local_umap_calc/umap_data_disprot_regions/\"\n",
    "umap_datadict = dict()\n",
    "for f in os.listdir(basedir):\n",
    "    print(f)\n",
    "    arr = f[:-4].strip().split(\"_\")\n",
    "    neighbors = int(arr[1])\n",
    "    dist      = float(arr[2])\n",
    "    df = pd.read_table(basedir+f, sep=\" \", header=None)\n",
    "    key = f\"{neighbors}_{dist}\"\n",
    "    umap_datadict[key] = df.values\n",
    "    "
   ]
  },
  {
   "cell_type": "code",
   "execution_count": 13,
   "id": "5450e233",
   "metadata": {},
   "outputs": [
    {
     "name": "stdout",
     "output_type": "stream",
     "text": [
      "292368 292368\n"
     ]
    }
   ],
   "source": [
    "# load seq and annotation data\n",
    "seqfile = \"disprot_regions_plotdata/halft5/seq_data.txt\"\n",
    "annfile = \"disprot_regions_plotdata/halft5/annot_data.txt\"\n",
    "\n",
    "with open(seqfile) as instr:\n",
    "    seq = instr.readlines()[0]\n",
    "    \n",
    "with open(annfile) as instr:\n",
    "    annot = instr.readlines()[0]\n",
    "    \n",
    "print(len(seq), len(annot))"
   ]
  },
  {
   "cell_type": "code",
   "execution_count": 14,
   "id": "da147af6",
   "metadata": {},
   "outputs": [],
   "source": [
    "SEQ = [aa for aa in seq]\n",
    "ANNOT = [an for an in annot]\n",
    "AAs = set(SEQ)"
   ]
  },
  {
   "cell_type": "code",
   "execution_count": 15,
   "id": "b793f816",
   "metadata": {},
   "outputs": [
    {
     "data": {
      "text/plain": [
       "['D', 'F', 'S', 'T']"
      ]
     },
     "execution_count": 15,
     "metadata": {},
     "output_type": "execute_result"
    }
   ],
   "source": [
    "DDs = sorted(list(set(ANNOT)))\n",
    "DDs"
   ]
  },
  {
   "cell_type": "code",
   "execution_count": null,
   "id": "ac36ccd6",
   "metadata": {
    "scrolled": true
   },
   "outputs": [],
   "source": [
    "for key in list(umap_datadict.keys()):\n",
    "    print(key)\n",
    "    \n",
    "    AAs = list(set(SEQ))\n",
    "    cmapAA = cm.get_cmap('gist_rainbow', len(AAs))\n",
    "    colordictAA = dict(zip(AAs, np.arange(0, len(AAs))))\n",
    "\n",
    "    DDs = sorted(list(set(ANNOT)))\n",
    "    colorsDD = [\"red\", \"blue\", \"green\", \"cyan\"]\n",
    "    colordictDD = dict(zip(DDs, colorsDD))\n",
    "    \n",
    "    aa_means = dict()\n",
    "    for aa in AAs:\n",
    "        AAix = [x for x in range(0, len(SEQ)) if SEQ[x] == aa]\n",
    "        embed_aa = umap_datadict[key][AAix,:]\n",
    "        x_mean = np.mean(embed_aa[:,0])\n",
    "        y_mean = np.mean(embed_aa[:,1])\n",
    "        aa_means[aa] = (x_mean, y_mean)\n",
    "\n",
    "    # Aminoacid colors\n",
    "    fig = plt.figure(figsize=(34,16))\n",
    "    ax1 = fig.add_subplot(121)\n",
    "    ax1.scatter(umap_datadict[key][:,0], umap_datadict[key][:,1], s=1, alpha=0.2, \n",
    "               c=[cmapAA(colordictAA[x]) for x in SEQ])\n",
    "\n",
    "    for aa in aa_means.keys():\n",
    "        ax1.text(aa_means[aa][0], aa_means[aa][1], aa, fontsize='large', fontweight='bold')\n",
    "\n",
    "    legend_elements = [Patch(facecolor=cmapAA(colordictAA[x]), edgecolor=cmapAA(colordictAA[x]),label=x) for x in AAs]\n",
    "    ax1.legend(handles=legend_elements, loc='right')\n",
    "    \n",
    "    \n",
    "    # Disorder / Order colors\n",
    "    ax2 = fig.add_subplot(122)\n",
    "    ax2.scatter(umap_datadict[key][:,0], umap_datadict[key][:,1], s=1, alpha=0.2, \n",
    "               c=[colordictDD[x] for x in ANNOT])\n",
    "\n",
    "    for aa in aa_means.keys():\n",
    "        ax2.text(aa_means[aa][0], aa_means[aa][1], aa, fontsize='large', fontweight='bold')\n",
    "\n",
    "    legend_elements = [Patch(facecolor=colordictDD[x], edgecolor=colordictDD[x],label=x) for x in DDs]\n",
    "    ax2.legend(handles=legend_elements, loc='right')\n",
    "    plt.savefig(f\"/data/franco/disorder_flavours/local_umap_calc/umap_data_disprot_regions/umap_plot_{key}.png\", bbox_inches='tight')\n",
    "    plt.show()"
   ]
  },
  {
   "cell_type": "code",
   "execution_count": null,
   "id": "1f5f130f",
   "metadata": {},
   "outputs": [],
   "source": []
  }
 ],
 "metadata": {
  "kernelspec": {
   "display_name": "Python 3 (ipykernel)",
   "language": "python",
   "name": "python3"
  },
  "language_info": {
   "codemirror_mode": {
    "name": "ipython",
    "version": 3
   },
   "file_extension": ".py",
   "mimetype": "text/x-python",
   "name": "python",
   "nbconvert_exporter": "python",
   "pygments_lexer": "ipython3",
   "version": "3.9.12"
  }
 },
 "nbformat": 4,
 "nbformat_minor": 5
}
