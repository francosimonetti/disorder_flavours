{
 "cells": [
  {
   "cell_type": "code",
   "execution_count": 6,
   "id": "acc600af",
   "metadata": {},
   "outputs": [],
   "source": [
    "# import bio_embeddings\n",
    "from bio_embeddings.embed import ProtTransT5XLU50Embedder, ESM1bEmbedder # ProtTransBertBFDEmbedder #, \n",
    "from Bio import SeqIO\n",
    "import numpy as np\n",
    "\n",
    "halft5_dir = \"/data/franco/datasets/prot_embedding_weights/half_prottrans_t5_xl_u50/\"\n",
    "prott5_dir = \"/data/franco/datasets/prot_embedding_weights/prottrans_t5_xl_u50/\"\n",
    "esmb1_dir  = \"/data/franco/datasets/prot_embedding_weights/\"\n",
    "\n",
    "embedding_data = {}\n",
    "embedding_data['halft5'] = { 'dir': halft5_dir }\n",
    "embedding_data['prott5'] = { 'dir': prott5_dir }\n",
    "embedding_data['esmb1']  = { 'dir': esmb1_dir }\n",
    "\n",
    "sel_embedding = 'halft5'"
   ]
  },
  {
   "cell_type": "code",
   "execution_count": 7,
   "id": "1edbd1c3",
   "metadata": {},
   "outputs": [],
   "source": [
    "import os\n",
    "\n",
    "sequences = []\n",
    "fastadir = \"/data/franco/datasets/disprot/fasta/\"\n",
    "fastafiles = os.listdir(fastadir)\n",
    "for f in fastafiles:\n",
    "    for record in SeqIO.parse(os.path.join(fastadir, f), \"fasta\"):\n",
    "        sequences.append(record)"
   ]
  },
  {
   "cell_type": "code",
   "execution_count": 9,
   "id": "dedcfbb4",
   "metadata": {},
   "outputs": [],
   "source": [
    "embedder = ProtTransT5XLU50Embedder(model_directory=embedding_data[sel_embedding]['dir'], half_model=True)"
   ]
  },
  {
   "cell_type": "code",
   "execution_count": 37,
   "id": "b77c27e2",
   "metadata": {},
   "outputs": [
    {
     "name": "stdout",
     "output_type": "stream",
     "text": [
      "0\n"
     ]
    },
    {
     "ename": "RuntimeError",
     "evalue": "No active exception to reraise",
     "output_type": "error",
     "traceback": [
      "\u001b[0;31m---------------------------------------------------------------------------\u001b[0m",
      "\u001b[0;31mRuntimeError\u001b[0m                              Traceback (most recent call last)",
      "\u001b[0;32m<ipython-input-37-38e23b329852>\u001b[0m in \u001b[0;36m<module>\u001b[0;34m\u001b[0m\n\u001b[1;32m     21\u001b[0m         \u001b[0mnp\u001b[0m\u001b[0;34m.\u001b[0m\u001b[0msavetxt\u001b[0m\u001b[0;34m(\u001b[0m\u001b[0moutfile\u001b[0m\u001b[0;34m,\u001b[0m \u001b[0membeddings\u001b[0m\u001b[0;34m[\u001b[0m\u001b[0mi\u001b[0m\u001b[0;34m]\u001b[0m\u001b[0;34m)\u001b[0m\u001b[0;34m\u001b[0m\u001b[0;34m\u001b[0m\u001b[0m\n\u001b[1;32m     22\u001b[0m \u001b[0;34m\u001b[0m\u001b[0m\n\u001b[0;32m---> 23\u001b[0;31m     \u001b[0;32mraise\u001b[0m\u001b[0;34m\u001b[0m\u001b[0;34m\u001b[0m\u001b[0m\n\u001b[0m",
      "\u001b[0;31mRuntimeError\u001b[0m: No active exception to reraise"
     ]
    }
   ],
   "source": [
    "if not os.path.exists(sel_embedding):\n",
    "    os.makedirs(sel_embedding)\n",
    "\n",
    "for s in sequences:\n",
    "    name = s.name.split(\"|\")[1]\n",
    "    print(f\"working on {name}\")\n",
    "    if len(str(s.seq)) > 1200:\n",
    "        print(f\"Skipping {name}, len={len(str(s.seq))}\")\n",
    "        continue\n",
    "    outfile = os.path.join(sel_embedding, name+\".gz\")\n",
    "    if os.path.exists(outfile):\n",
    "        print(f\"File exists: {outfile}\")\n",
    "        continue\n",
    "    else:\n",
    "        embedding = embedder.embed(str(s.seq))\n",
    "    #     print(i, outfile)\n",
    "    #     print(embeddings[i].shape, )\n",
    "        np.savetxt(outfile, embedding)    \n",
    "    raise\n"
   ]
  },
  {
   "cell_type": "code",
   "execution_count": null,
   "id": "e9dfda23",
   "metadata": {},
   "outputs": [],
   "source": [
    "## This is CRAP\n",
    "# def reduce_per_protein(embedding):\n",
    "#         return embedding.mean(axis=0)\n",
    "\n",
    "# reduced_embeddings = [ProtTransT5XLU50Embedder.reduce_per_protein(e) for e in embeddings]"
   ]
  },
  {
   "cell_type": "code",
   "execution_count": null,
   "id": "c311521a",
   "metadata": {},
   "outputs": [],
   "source": [
    "for (per_amino_acid, per_protein) in zip(embeddings, reduced_embeddings):\n",
    "    print(per_amino_acid.shape, per_protein.shape)"
   ]
  },
  {
   "cell_type": "code",
   "execution_count": 24,
   "id": "ede5a5e7",
   "metadata": {},
   "outputs": [
    {
     "data": {
      "text/plain": [
       "array([[ 0.11954521, -0.10553657,  0.12872012, ...,  0.06615222,\n",
       "         0.2274612 ,  0.159693  ],\n",
       "       [ 0.13292682, -0.04854883,  0.29173443, ...,  0.25237882,\n",
       "         0.45104396,  0.02871982],\n",
       "       [ 0.05687558,  0.01526956,  0.31625488, ...,  0.13089967,\n",
       "         0.20586017,  0.05635437],\n",
       "       ...,\n",
       "       [-0.00792616,  0.02938294,  0.19943267, ..., -0.06603176,\n",
       "         0.05276122, -0.01395324],\n",
       "       [ 0.05537727, -0.05159276,  0.18817642, ...,  0.02753471,\n",
       "         0.01593462, -0.07532057],\n",
       "       [ 0.01452028, -0.20671138, -0.05469507, ..., -0.18915744,\n",
       "        -0.01922904,  0.15845397]], dtype=float32)"
      ]
     },
     "execution_count": 24,
     "metadata": {},
     "output_type": "execute_result"
    }
   ],
   "source": [
    "per_amino_acid"
   ]
  }
 ],
 "metadata": {
  "kernelspec": {
   "display_name": "Python 3",
   "language": "python",
   "name": "python3"
  },
  "language_info": {
   "codemirror_mode": {
    "name": "ipython",
    "version": 3
   },
   "file_extension": ".py",
   "mimetype": "text/x-python",
   "name": "python",
   "nbconvert_exporter": "python",
   "pygments_lexer": "ipython3",
   "version": "3.9.0"
  }
 },
 "nbformat": 4,
 "nbformat_minor": 5
}
