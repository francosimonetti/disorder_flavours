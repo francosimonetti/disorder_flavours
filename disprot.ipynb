{
 "cells": [
  {
   "cell_type": "code",
   "execution_count": 21,
   "id": "b3af5b40-add8-417a-92f5-693aabc5bcf9",
   "metadata": {},
   "outputs": [],
   "source": [
    "import pandas as pd"
   ]
  },
  {
   "cell_type": "code",
   "execution_count": 2,
   "id": "09caaae5-ced4-4529-b758-4be9f8e8579a",
   "metadata": {},
   "outputs": [
    {
     "name": "stderr",
     "output_type": "stream",
     "text": [
      "/home/fernando/miniconda3/lib/python3.9/site-packages/tqdm/auto.py:22: TqdmWarning: IProgress not found. Please update jupyter and ipywidgets. See https://ipywidgets.readthedocs.io/en/stable/user_install.html\n",
      "  from .autonotebook import tqdm as notebook_tqdm\n"
     ]
    }
   ],
   "source": [
    "from embedder import get_et5"
   ]
  },
  {
   "cell_type": "code",
   "execution_count": 38,
   "id": "41b04dc0-6f56-4f81-9a6f-fc26572af0a8",
   "metadata": {},
   "outputs": [],
   "source": [
    "regions = pd.read_table('disprot_data/DisProt release_2022_06 with_ambiguous_evidences.tsv')"
   ]
  },
  {
   "cell_type": "code",
   "execution_count": 39,
   "id": "5dcbbb98-0e7b-4330-859c-ba3dcfc4ae84",
   "metadata": {},
   "outputs": [],
   "source": [
    "regions = regions[['acc','start','end','region_sequence']].drop_duplicates()"
   ]
  },
  {
   "cell_type": "code",
   "execution_count": 40,
   "id": "3a2d6a85-551d-40dc-958c-aea95bced3c5",
   "metadata": {},
   "outputs": [],
   "source": [
    "regions['length'] = regions.end - regions.start + 1\n",
    "regions['idx'] = regions.apply(lambda row: f'{row.acc}_{row.start}_{row.end}',1)"
   ]
  },
  {
   "cell_type": "code",
   "execution_count": 43,
   "id": "5832386e-4634-47bb-931d-cbbd88b47091",
   "metadata": {},
   "outputs": [],
   "source": [
    "regions = regions[regions.length > 20][['idx', 'region_sequence']] "
   ]
  },
  {
   "cell_type": "code",
   "execution_count": 45,
   "id": "50b36c9d-f98b-41ca-aaaf-04f1be48220a",
   "metadata": {},
   "outputs": [],
   "source": [
    "regions['source'] = 'disprot'"
   ]
  },
  {
   "cell_type": "code",
   "execution_count": 89,
   "id": "5023f8e9-0dca-48c7-93c4-5e54e95e05da",
   "metadata": {},
   "outputs": [],
   "source": [
    "monomers = pd.read_table('disprot_data/monomers.tsv').rename(columns={'sequence':'region_sequence'})\n",
    "\n",
    "monomers.region_sequence = monomers.region_sequence.str.upper()\n",
    "monomers['source'] = \"monomers\"\n",
    "monomers = monomers[~monomers.region_sequence.str.contains('X') & ~monomers.region_sequence.str.contains('B')]\n"
   ]
  },
  {
   "cell_type": "code",
   "execution_count": 60,
   "id": "1d207a6f-ed53-4063-8c9c-efd4c7f4901a",
   "metadata": {},
   "outputs": [],
   "source": [
    "random = pd.read_csv('disprot_data/random_sequences.tsv', sep='\\t')\n",
    "random = random.rename(columns={'seq':'region_sequence'})\n",
    "random['source'] = \"random_\" + random.tipo"
   ]
  },
  {
   "cell_type": "code",
   "execution_count": 61,
   "id": "55be1824-c5b4-4cca-a1f4-07a319fed77b",
   "metadata": {},
   "outputs": [
    {
     "data": {
      "text/html": [
       "<div>\n",
       "<style scoped>\n",
       "    .dataframe tbody tr th:only-of-type {\n",
       "        vertical-align: middle;\n",
       "    }\n",
       "\n",
       "    .dataframe tbody tr th {\n",
       "        vertical-align: top;\n",
       "    }\n",
       "\n",
       "    .dataframe thead th {\n",
       "        text-align: right;\n",
       "    }\n",
       "</style>\n",
       "<table border=\"1\" class=\"dataframe\">\n",
       "  <thead>\n",
       "    <tr style=\"text-align: right;\">\n",
       "      <th></th>\n",
       "      <th>idx</th>\n",
       "      <th>region_sequence</th>\n",
       "      <th>tipo</th>\n",
       "      <th>dc</th>\n",
       "      <th>source</th>\n",
       "    </tr>\n",
       "  </thead>\n",
       "  <tbody>\n",
       "    <tr>\n",
       "      <th>0</th>\n",
       "      <td>unif_0</td>\n",
       "      <td>SAVCVACLYTEYTENWLKRGDMGCVDEHGSRMCYREWCDDFGGLYT...</td>\n",
       "      <td>unif</td>\n",
       "      <td>0.036667</td>\n",
       "      <td>random_unif</td>\n",
       "    </tr>\n",
       "    <tr>\n",
       "      <th>1</th>\n",
       "      <td>uniprot_0</td>\n",
       "      <td>RTDAGFKLFALATEAMDDITPEENDVVWFFALETSEFIVEDPIIQQ...</td>\n",
       "      <td>uniprot</td>\n",
       "      <td>0.000000</td>\n",
       "      <td>random_uniprot</td>\n",
       "    </tr>\n",
       "    <tr>\n",
       "      <th>2</th>\n",
       "      <td>idrs_disprot_0</td>\n",
       "      <td>TNNVPGQLQKQDKEMERFPSYSDNVTATEKSVCEEEAPVSENVMPT...</td>\n",
       "      <td>idrs</td>\n",
       "      <td>0.740000</td>\n",
       "      <td>random_idrs</td>\n",
       "    </tr>\n",
       "    <tr>\n",
       "      <th>3</th>\n",
       "      <td>monomers_0</td>\n",
       "      <td>NTFPSMDFKPGLCQFPLTLASLASPPKTSDLKTRVSQLGQASSQEL...</td>\n",
       "      <td>monomers</td>\n",
       "      <td>0.170000</td>\n",
       "      <td>random_monomers</td>\n",
       "    </tr>\n",
       "    <tr>\n",
       "      <th>4</th>\n",
       "      <td>unif_1</td>\n",
       "      <td>HPCIEAAHTYILEEWKPASEAKHLWHQEERYECYWMCECFMQFIVM...</td>\n",
       "      <td>unif</td>\n",
       "      <td>0.000000</td>\n",
       "      <td>random_unif</td>\n",
       "    </tr>\n",
       "    <tr>\n",
       "      <th>...</th>\n",
       "      <td>...</td>\n",
       "      <td>...</td>\n",
       "      <td>...</td>\n",
       "      <td>...</td>\n",
       "      <td>...</td>\n",
       "    </tr>\n",
       "    <tr>\n",
       "      <th>395</th>\n",
       "      <td>monomers_98</td>\n",
       "      <td>MFANTAAAGTVNLHVDARKFNGPWDANEEVNPMVYYVDNMEERYTD...</td>\n",
       "      <td>monomers</td>\n",
       "      <td>0.060000</td>\n",
       "      <td>random_monomers</td>\n",
       "    </tr>\n",
       "    <tr>\n",
       "      <th>396</th>\n",
       "      <td>unif_99</td>\n",
       "      <td>MARDYAFYFYEHVIVQENGGCGHLVDFTHLDQKSHFNLSAYNHDTT...</td>\n",
       "      <td>unif</td>\n",
       "      <td>0.000000</td>\n",
       "      <td>random_unif</td>\n",
       "    </tr>\n",
       "    <tr>\n",
       "      <th>397</th>\n",
       "      <td>uniprot_99</td>\n",
       "      <td>LHTSTNEALERNGLINRQYQACTPSVRCLKGDLSSILFGETMDAGI...</td>\n",
       "      <td>uniprot</td>\n",
       "      <td>0.040000</td>\n",
       "      <td>random_uniprot</td>\n",
       "    </tr>\n",
       "    <tr>\n",
       "      <th>398</th>\n",
       "      <td>idrs_disprot_99</td>\n",
       "      <td>YEDNYMEIEKYLALTKKRELLKSATSPLGFRKSSTARQLRVVLSGS...</td>\n",
       "      <td>idrs</td>\n",
       "      <td>0.736667</td>\n",
       "      <td>random_idrs</td>\n",
       "    </tr>\n",
       "    <tr>\n",
       "      <th>399</th>\n",
       "      <td>monomers_99</td>\n",
       "      <td>EKDFLLVMIRAKFGTTDKVINEVYDEHNSRAQDDWKEDSGNTDRTM...</td>\n",
       "      <td>monomers</td>\n",
       "      <td>0.143333</td>\n",
       "      <td>random_monomers</td>\n",
       "    </tr>\n",
       "  </tbody>\n",
       "</table>\n",
       "<p>400 rows × 5 columns</p>\n",
       "</div>"
      ],
      "text/plain": [
       "                 idx                                    region_sequence  \\\n",
       "0             unif_0  SAVCVACLYTEYTENWLKRGDMGCVDEHGSRMCYREWCDDFGGLYT...   \n",
       "1          uniprot_0  RTDAGFKLFALATEAMDDITPEENDVVWFFALETSEFIVEDPIIQQ...   \n",
       "2     idrs_disprot_0  TNNVPGQLQKQDKEMERFPSYSDNVTATEKSVCEEEAPVSENVMPT...   \n",
       "3         monomers_0  NTFPSMDFKPGLCQFPLTLASLASPPKTSDLKTRVSQLGQASSQEL...   \n",
       "4             unif_1  HPCIEAAHTYILEEWKPASEAKHLWHQEERYECYWMCECFMQFIVM...   \n",
       "..               ...                                                ...   \n",
       "395      monomers_98  MFANTAAAGTVNLHVDARKFNGPWDANEEVNPMVYYVDNMEERYTD...   \n",
       "396          unif_99  MARDYAFYFYEHVIVQENGGCGHLVDFTHLDQKSHFNLSAYNHDTT...   \n",
       "397       uniprot_99  LHTSTNEALERNGLINRQYQACTPSVRCLKGDLSSILFGETMDAGI...   \n",
       "398  idrs_disprot_99  YEDNYMEIEKYLALTKKRELLKSATSPLGFRKSSTARQLRVVLSGS...   \n",
       "399      monomers_99  EKDFLLVMIRAKFGTTDKVINEVYDEHNSRAQDDWKEDSGNTDRTM...   \n",
       "\n",
       "         tipo        dc           source  \n",
       "0        unif  0.036667      random_unif  \n",
       "1     uniprot  0.000000   random_uniprot  \n",
       "2        idrs  0.740000      random_idrs  \n",
       "3    monomers  0.170000  random_monomers  \n",
       "4        unif  0.000000      random_unif  \n",
       "..        ...       ...              ...  \n",
       "395  monomers  0.060000  random_monomers  \n",
       "396      unif  0.000000      random_unif  \n",
       "397   uniprot  0.040000   random_uniprot  \n",
       "398      idrs  0.736667      random_idrs  \n",
       "399  monomers  0.143333  random_monomers  \n",
       "\n",
       "[400 rows x 5 columns]"
      ]
     },
     "execution_count": 61,
     "metadata": {},
     "output_type": "execute_result"
    }
   ],
   "source": [
    "random"
   ]
  },
  {
   "cell_type": "code",
   "execution_count": 90,
   "id": "f04a915f-8160-4f23-84ac-8f1c5cc6e414",
   "metadata": {},
   "outputs": [],
   "source": [
    "sequences = pd.concat([regions, monomers, random[['idx', 'region_sequence', 'source']]])\n"
   ]
  },
  {
   "cell_type": "code",
   "execution_count": 91,
   "id": "011b8ea9-5340-4fc3-ba69-145c15780bd8",
   "metadata": {},
   "outputs": [],
   "source": [
    "sequences.to_csv('sequences.tsv', index=False)"
   ]
  },
  {
   "cell_type": "code",
   "execution_count": 67,
   "id": "fafe56ff-5cb8-4bf5-9066-258840a99db2",
   "metadata": {},
   "outputs": [
    {
     "name": "stdout",
     "output_type": "stream",
     "text": [
      "Starting at 09:02:52\n",
      "..........Finishing at 09:03:25\n",
      "Elapsed 0:00:32.957861\n",
      "3 seconds per sequence\n"
     ]
    }
   ],
   "source": [
    "embs = get_et5(sequences.region_sequence.head(10))"
   ]
  },
  {
   "cell_type": "code",
   "execution_count": 81,
   "id": "29cd7ce1-994b-41aa-95dc-e8552e2507f9",
   "metadata": {},
   "outputs": [],
   "source": [
    "import pickle\n",
    "embeddings = []\n",
    "CHUNK_SIZE = 500"
   ]
  },
  {
   "cell_type": "code",
   "execution_count": 94,
   "id": "4365df27-975d-4c09-8b3b-4e80d5d7b434",
   "metadata": {},
   "outputs": [
    {
     "name": "stdout",
     "output_type": "stream",
     "text": [
      "2500\n",
      "\n",
      "Starting at 10:15:59\n",
      ".....................................................................................................100/207\n",
      "....................................................................................................200/102\n",
      "....................................................................................................300/56\n",
      "....................................................................................................400/22\n",
      "...................................................................................................Finishing at 10:20:54\n",
      "Elapsed 0:04:54.103030\n",
      "0 seconds per sequence\n",
      "3000\n",
      "\n",
      "Starting at 10:20:58\n",
      ".....................................................................................................100/248\n",
      "....................................................................................................200/312\n",
      "....................................................................................................300/184\n",
      "....................................................................................................400/160\n",
      "...................................................................................................Finishing at 10:30:49\n",
      "Elapsed 0:09:50.928306\n",
      "1 seconds per sequence\n",
      "3500\n",
      "\n",
      "Starting at 10:30:55\n",
      ".....................................................................................................100/97\n",
      "....................................................................................................200/121\n",
      "....................................................................................................300/133\n",
      "....................................................................................................400/304\n",
      "...................................................................................................Finishing at 10:41:15\n",
      "Elapsed 0:10:19.938769\n",
      "1 seconds per sequence\n",
      "4000\n",
      "\n",
      "Starting at 10:41:23\n",
      ".....................................................................................................100/267\n",
      "....................................................................................................200/305\n",
      "....................................................................................................300/144\n",
      "....................................................................................................400/189\n",
      "...................................................................................................Finishing at 10:51:58\n",
      "Elapsed 0:10:35.202748\n",
      "1 seconds per sequence\n",
      "4500\n",
      "\n",
      "Starting at 10:52:08\n",
      ".....................................................................................................100/131\n",
      "....................................................................................................200/255\n",
      "....................................................................................................300/140\n",
      "....................................................................................................400/70\n",
      "...................................................................................................Finishing at 11:02:56\n",
      "Elapsed 0:10:48.207316\n",
      "1 seconds per sequence\n",
      "5000\n",
      "\n",
      "Starting at 11:03:07\n",
      ".....................................................................................................100/237\n",
      "....................................................................................................200/324\n",
      "....................................................................................................300/157\n",
      "....................................................................................................400/296\n",
      "...................................................................................................Finishing at 11:13:28\n",
      "Elapsed 0:10:21.256494\n",
      "1 seconds per sequence\n",
      "5500\n",
      "\n",
      "Starting at 11:13:42\n",
      ".....................................................................................................100/153\n",
      "....................................................................................................200/261\n",
      "....................................................................................................300/116\n",
      "....................................................................................................400/300\n",
      "...................................................................................................Finishing at 11:39:06\n",
      "Elapsed 0:25:23.867722\n",
      "3 seconds per sequence\n",
      "6000\n",
      "\n",
      "Starting at 11:39:24\n",
      ".....................................................................................................100/300\n",
      "....................................................................................................200/300\n",
      "........................Finishing at 11:48:24\n",
      "Elapsed 0:08:59.791453\n",
      "2 seconds per sequence\n"
     ]
    }
   ],
   "source": [
    "for i in range(len(embeddings) * CHUNK_SIZE,len(sequences), CHUNK_SIZE):\n",
    "    print(i)\n",
    "    print()\n",
    "    subset = sequences.region_sequence[i:i+CHUNK_SIZE]\n",
    "    embs = get_et5(subset)\n",
    "    embeddings.extend(embs)\n",
    "    \n",
    "    with open('tmp_seqs.pickle','wb') as pf:\n",
    "        pickle.dump(embeddings, pf)"
   ]
  },
  {
   "cell_type": "code",
   "execution_count": 99,
   "id": "7b36190a-e76b-4d45-9403-3be45bb0a548",
   "metadata": {},
   "outputs": [],
   "source": []
  },
  {
   "cell_type": "code",
   "execution_count": 101,
   "id": "d8da89db-4414-43b5-8495-f3358d3ee1b5",
   "metadata": {},
   "outputs": [],
   "source": [
    "sequences['embeddings'] = _emb"
   ]
  },
  {
   "cell_type": "code",
   "execution_count": 108,
   "id": "b7aaa30f-b8e6-4de2-ba0c-b9bf7274c2a7",
   "metadata": {},
   "outputs": [],
   "source": [
    "#with open('/data/fernando/elte/embeddings_dis_mono_random_25_10_df.pickle', 'bw') as pf:\n",
    "#    pickle.dump(sequences, pf)"
   ]
  },
  {
   "cell_type": "code",
   "execution_count": 135,
   "id": "a2ea713d-6263-40cb-bd71-f117403d7d9e",
   "metadata": {},
   "outputs": [
    {
     "data": {
      "text/html": [
       "<div>\n",
       "<style scoped>\n",
       "    .dataframe tbody tr th:only-of-type {\n",
       "        vertical-align: middle;\n",
       "    }\n",
       "\n",
       "    .dataframe tbody tr th {\n",
       "        vertical-align: top;\n",
       "    }\n",
       "\n",
       "    .dataframe thead th {\n",
       "        text-align: right;\n",
       "    }\n",
       "</style>\n",
       "<table border=\"1\" class=\"dataframe\">\n",
       "  <thead>\n",
       "    <tr style=\"text-align: right;\">\n",
       "      <th></th>\n",
       "      <th>idx</th>\n",
       "      <th>region_sequence</th>\n",
       "      <th>source</th>\n",
       "      <th>embeddings</th>\n",
       "    </tr>\n",
       "  </thead>\n",
       "  <tbody>\n",
       "    <tr>\n",
       "      <th>0</th>\n",
       "      <td>P03265_294_334</td>\n",
       "      <td>EHVIEMDVTSENGQRALKEQSSKAKIVKNRWGRNVVQISNT</td>\n",
       "      <td>disprot</td>\n",
       "      <td>[[-0.14546771, -0.22398427, -0.17456537, 0.087...</td>\n",
       "    </tr>\n",
       "    <tr>\n",
       "      <th>2</th>\n",
       "      <td>P49913_134_170</td>\n",
       "      <td>LLGDFFRKSKEKIGKEFKRIVQRIKDFLRNLVPRTES</td>\n",
       "      <td>disprot</td>\n",
       "      <td>[[0.25935963, -0.22279488, -0.22727492, 0.0090...</td>\n",
       "    </tr>\n",
       "    <tr>\n",
       "      <th>5</th>\n",
       "      <td>P03045_1_107</td>\n",
       "      <td>MDAQTRRRERRAEKQAQWKAANPLLVGVSAKPVNRPILSLNRKPKS...</td>\n",
       "      <td>disprot</td>\n",
       "      <td>[[0.09483907, -0.3427391, 0.4016453, 0.3597493...</td>\n",
       "    </tr>\n",
       "    <tr>\n",
       "      <th>14</th>\n",
       "      <td>P03045_1_22</td>\n",
       "      <td>MDAQTRRRERRAEKQAQWKAAN</td>\n",
       "      <td>disprot</td>\n",
       "      <td>[[0.07522084, -0.29852203, -0.082780525, 0.185...</td>\n",
       "    </tr>\n",
       "    <tr>\n",
       "      <th>20</th>\n",
       "      <td>P03045_1_36</td>\n",
       "      <td>MDAQTRRRERRAEKQAQWKAANPLLVGVSAKPVNRP</td>\n",
       "      <td>disprot</td>\n",
       "      <td>[[0.0069504166, -0.30938828, 0.24736862, 0.190...</td>\n",
       "    </tr>\n",
       "    <tr>\n",
       "      <th>...</th>\n",
       "      <td>...</td>\n",
       "      <td>...</td>\n",
       "      <td>...</td>\n",
       "      <td>...</td>\n",
       "    </tr>\n",
       "    <tr>\n",
       "      <th>394</th>\n",
       "      <td>idrs_disprot_98</td>\n",
       "      <td>LVVEPRYSIIIGYRPNSCKDHDDLNRAARIAKGEAATYMNIDLPSL...</td>\n",
       "      <td>random_idrs</td>\n",
       "      <td>[[0.029828181, -0.18922722, -0.024930023, 0.17...</td>\n",
       "    </tr>\n",
       "    <tr>\n",
       "      <th>395</th>\n",
       "      <td>monomers_98</td>\n",
       "      <td>MFANTAAAGTVNLHVDARKFNGPWDANEEVNPMVYYVDNMEERYTD...</td>\n",
       "      <td>random_monomers</td>\n",
       "      <td>[[0.1564757, 0.0012199524, 0.24375804, 0.31780...</td>\n",
       "    </tr>\n",
       "    <tr>\n",
       "      <th>396</th>\n",
       "      <td>unif_99</td>\n",
       "      <td>MARDYAFYFYEHVIVQENGGCGHLVDFTHLDQKSHFNLSAYNHDTT...</td>\n",
       "      <td>random_unif</td>\n",
       "      <td>[[0.12827691, -0.12420882, 0.25003305, 0.04886...</td>\n",
       "    </tr>\n",
       "    <tr>\n",
       "      <th>398</th>\n",
       "      <td>idrs_disprot_99</td>\n",
       "      <td>YEDNYMEIEKYLALTKKRELLKSATSPLGFRKSSTARQLRVVLSGS...</td>\n",
       "      <td>random_idrs</td>\n",
       "      <td>[[-0.06800358, -0.16696112, -0.052865274, 0.02...</td>\n",
       "    </tr>\n",
       "    <tr>\n",
       "      <th>399</th>\n",
       "      <td>monomers_99</td>\n",
       "      <td>EKDFLLVMIRAKFGTTDKVINEVYDEHNSRAQDDWKEDSGNTDRTM...</td>\n",
       "      <td>random_monomers</td>\n",
       "      <td>[[0.10820049, -0.35586837, 0.1033347, 0.023515...</td>\n",
       "    </tr>\n",
       "  </tbody>\n",
       "</table>\n",
       "<p>6125 rows × 4 columns</p>\n",
       "</div>"
      ],
      "text/plain": [
       "                 idx                                    region_sequence  \\\n",
       "0     P03265_294_334          EHVIEMDVTSENGQRALKEQSSKAKIVKNRWGRNVVQISNT   \n",
       "2     P49913_134_170              LLGDFFRKSKEKIGKEFKRIVQRIKDFLRNLVPRTES   \n",
       "5       P03045_1_107  MDAQTRRRERRAEKQAQWKAANPLLVGVSAKPVNRPILSLNRKPKS...   \n",
       "14       P03045_1_22                             MDAQTRRRERRAEKQAQWKAAN   \n",
       "20       P03045_1_36               MDAQTRRRERRAEKQAQWKAANPLLVGVSAKPVNRP   \n",
       "..               ...                                                ...   \n",
       "394  idrs_disprot_98  LVVEPRYSIIIGYRPNSCKDHDDLNRAARIAKGEAATYMNIDLPSL...   \n",
       "395      monomers_98  MFANTAAAGTVNLHVDARKFNGPWDANEEVNPMVYYVDNMEERYTD...   \n",
       "396          unif_99  MARDYAFYFYEHVIVQENGGCGHLVDFTHLDQKSHFNLSAYNHDTT...   \n",
       "398  idrs_disprot_99  YEDNYMEIEKYLALTKKRELLKSATSPLGFRKSSTARQLRVVLSGS...   \n",
       "399      monomers_99  EKDFLLVMIRAKFGTTDKVINEVYDEHNSRAQDDWKEDSGNTDRTM...   \n",
       "\n",
       "              source                                         embeddings  \n",
       "0            disprot  [[-0.14546771, -0.22398427, -0.17456537, 0.087...  \n",
       "2            disprot  [[0.25935963, -0.22279488, -0.22727492, 0.0090...  \n",
       "5            disprot  [[0.09483907, -0.3427391, 0.4016453, 0.3597493...  \n",
       "14           disprot  [[0.07522084, -0.29852203, -0.082780525, 0.185...  \n",
       "20           disprot  [[0.0069504166, -0.30938828, 0.24736862, 0.190...  \n",
       "..               ...                                                ...  \n",
       "394      random_idrs  [[0.029828181, -0.18922722, -0.024930023, 0.17...  \n",
       "395  random_monomers  [[0.1564757, 0.0012199524, 0.24375804, 0.31780...  \n",
       "396      random_unif  [[0.12827691, -0.12420882, 0.25003305, 0.04886...  \n",
       "398      random_idrs  [[-0.06800358, -0.16696112, -0.052865274, 0.02...  \n",
       "399  random_monomers  [[0.10820049, -0.35586837, 0.1033347, 0.023515...  \n",
       "\n",
       "[6125 rows x 4 columns]"
      ]
     },
     "execution_count": 135,
     "metadata": {},
     "output_type": "execute_result"
    }
   ],
   "source": [
    "sequences.query('source != \"random_uniprot\"')"
   ]
  },
  {
   "cell_type": "code",
   "execution_count": 138,
   "id": "644c3ad1-b36e-4dc9-978a-1775f4a83663",
   "metadata": {},
   "outputs": [],
   "source": [
    "df = sequences.query('source != \"random_uniprot\"')"
   ]
  },
  {
   "cell_type": "code",
   "execution_count": 139,
   "id": "5001b5c5-de4f-4716-9ec4-e644104c2684",
   "metadata": {},
   "outputs": [
    {
     "name": "stderr",
     "output_type": "stream",
     "text": [
      "/home/fernando/miniconda3/lib/python3.9/site-packages/umap/umap_.py:1356: RuntimeWarning:\n",
      "\n",
      "divide by zero encountered in power\n",
      "\n"
     ]
    },
    {
     "name": "stdout",
     "output_type": "stream",
     "text": [
      "UMAP(n_neighbors=50, random_state=10, spread=8, verbose=1)\n",
      "Tue Oct 25 12:50:04 2022 Construct fuzzy simplicial set\n",
      "Tue Oct 25 12:50:04 2022 Finding Nearest Neighbors\n",
      "Tue Oct 25 12:50:04 2022 Building RP forest with 9 trees\n",
      "Tue Oct 25 12:50:04 2022 NN descent for 13 iterations\n",
      "\t 1  /  13\n",
      "\t 2  /  13\n",
      "\t 3  /  13\n",
      "\tStopping threshold met -- exiting after 3 iterations\n",
      "Tue Oct 25 12:50:06 2022 Finished Nearest Neighbor Search\n",
      "Tue Oct 25 12:50:06 2022 Construct embedding\n"
     ]
    },
    {
     "name": "stderr",
     "output_type": "stream",
     "text": [
      "Epochs completed: 100%| ███████████████████████████████████████████████████████████████████████████████████████████████████████████████████████████████████████████████████████████████████ 500/500 [00:13]"
     ]
    },
    {
     "name": "stdout",
     "output_type": "stream",
     "text": [
      "Tue Oct 25 12:50:21 2022 Finished embedding\n"
     ]
    },
    {
     "name": "stderr",
     "output_type": "stream",
     "text": [
      "\n"
     ]
    }
   ],
   "source": [
    "reduced_embeddings = [embedder.reduce_per_protein(pre) for pre in df.embeddings]\n",
    "\n",
    "options = {\n",
    "    'min_dist': .1,\n",
    "    'spread': 8,\n",
    "    'n_neighbors': 50,\n",
    "    'metric': 'euclidean',\n",
    "    'n_components': 2,\n",
    "    'random_state': 10\n",
    "}\n",
    "\n",
    "projected_embeddings = umap_reduce(reduced_embeddings, **options)\n",
    "projected_embeddings_dataframe = pd.DataFrame(\n",
    "    projected_embeddings,\n",
    "    columns=[\"component_0\", \"component_1\"],\n",
    ")\n",
    "projected_embeddings_dataframe.index = list(df.idx)\n",
    "projected_embeddings_dataframe[\"label\"] = list(df.source)"
   ]
  },
  {
   "cell_type": "code",
   "execution_count": 147,
   "id": "1863e6cd-e590-4c2f-ade0-ba16861dc406",
   "metadata": {},
   "outputs": [
    {
     "data": {
      "text/html": [
       "<iframe\n",
       "    scrolling=\"no\"\n",
       "    width=\"100%\"\n",
       "    height=\"545px\"\n",
       "    src=\"iframe_figures/figure_147.html\"\n",
       "    frameborder=\"0\"\n",
       "    allowfullscreen\n",
       "></iframe>\n"
      ]
     },
     "metadata": {},
     "output_type": "display_data"
    }
   ],
   "source": [
    "figure = render_scatter_plotly(projected_embeddings_dataframe)\n",
    "figure.show(renderer='iframe')"
   ]
  },
  {
   "cell_type": "code",
   "execution_count": 144,
   "id": "fa3bcd5e-41fc-4021-91c2-fa45516395fa",
   "metadata": {},
   "outputs": [],
   "source": []
  },
  {
   "cell_type": "code",
   "execution_count": 146,
   "id": "a15d8645-4f8b-4141-9e6f-8437f6bbc995",
   "metadata": {},
   "outputs": [],
   "source": [
    "import plotly\n",
    "import plotly.express as px\n",
    "\n",
    "colores = ['rgb(228,26,28)',\n",
    " 'rgb(55,126,184)',\n",
    "  'rgb(152,78,163)',\n",
    " 'rgb(77,175,74)',\n",
    " 'rgb(255,127,0)',\n",
    " 'rgb(255,255,51)',\n",
    " 'rgb(166,86,40)',\n",
    " 'rgb(247,129,191)',\n",
    " 'rgb(153,153,153)']\n",
    "\n",
    "def render_scatter_plotly(embeddings_dataframe):\n",
    "    if 'label' in embeddings_dataframe.columns:\n",
    "        fig = px.scatter(embeddings_dataframe,\n",
    "                         x='component_0',\n",
    "                         y='component_1',\n",
    "                         color='label',\n",
    "                         symbol='label',\n",
    "                         hover_name=embeddings_dataframe.index,\n",
    "                         hover_data=[\"label\"],\n",
    "                         opacity = .4,\n",
    "                         color_discrete_sequence=colores\n",
    "                         )\n",
    "    else:\n",
    "        fig = px.scatter(embeddings_dataframe,\n",
    "                         x='component_0',\n",
    "                         y='component_1',\n",
    "                         hover_name=embeddings_dataframe.index,\n",
    "                         )\n",
    "\n",
    "    fig.update_layout(\n",
    "        # Remove axes ticks and labels as they are usually not informative\n",
    "        paper_bgcolor='rgba(0,0,0,0)',\n",
    "        plot_bgcolor='rgba(0,0,0,0)',\n",
    "        scene=dict(\n",
    "            xaxis=dict(\n",
    "                showticklabels=False,\n",
    "                showspikes=False,\n",
    "                title=\"\"\n",
    "            ),\n",
    "            yaxis=dict(\n",
    "                showticklabels=False,\n",
    "                showspikes=False,\n",
    "                title=\"\"\n",
    "            )\n",
    "        ),\n",
    "    )\n",
    "\n",
    "    return fig\n"
   ]
  },
  {
   "cell_type": "code",
   "execution_count": null,
   "id": "76f8061a-0b74-4302-bff3-2be5143fc219",
   "metadata": {},
   "outputs": [],
   "source": []
  },
  {
   "cell_type": "code",
   "execution_count": 142,
   "id": "dad0b443-bc68-4fb2-8969-b0e764a8a0fa",
   "metadata": {},
   "outputs": [
    {
     "data": {
      "text/html": [
       "<iframe\n",
       "    scrolling=\"no\"\n",
       "    width=\"100%\"\n",
       "    height=\"545px\"\n",
       "    src=\"iframe_figures/figure_142.html\"\n",
       "    frameborder=\"0\"\n",
       "    allowfullscreen\n",
       "></iframe>\n"
      ]
     },
     "metadata": {},
     "output_type": "display_data"
    }
   ],
   "source": [
    "figure = render_scatter_plotly(projected_embeddings_dataframe)\n",
    "figure.show(renderer='iframe')"
   ]
  },
  {
   "cell_type": "code",
   "execution_count": 150,
   "id": "64943985-60ca-4516-bfc5-af5034a28b1c",
   "metadata": {},
   "outputs": [],
   "source": [
    "s = sequences.query('source == \"monomers\"')"
   ]
  },
  {
   "cell_type": "code",
   "execution_count": 151,
   "id": "dd02b488-79d5-4c75-95fa-48987b86cfc0",
   "metadata": {},
   "outputs": [
    {
     "name": "stderr",
     "output_type": "stream",
     "text": [
      "/tmp/ipykernel_49241/2913622145.py:1: SettingWithCopyWarning:\n",
      "\n",
      "\n",
      "A value is trying to be set on a copy of a slice from a DataFrame.\n",
      "Try using .loc[row_indexer,col_indexer] = value instead\n",
      "\n",
      "See the caveats in the documentation: https://pandas.pydata.org/pandas-docs/stable/user_guide/indexing.html#returning-a-view-versus-a-copy\n",
      "\n"
     ]
    }
   ],
   "source": [
    "s['largo'] = s.region_sequence.str.len()"
   ]
  },
  {
   "cell_type": "code",
   "execution_count": 170,
   "id": "ff0ad5d7-4060-492e-9d58-35ffc4c625a2",
   "metadata": {},
   "outputs": [
    {
     "data": {
      "text/plain": [
       "idx                                                            2WY4A\n",
       "region_sequence    MTKEQIQIIKDCVPILQKNGEDLTNEFYKIMFNDYPEVKPMFNMEK...\n",
       "source                                                      monomers\n",
       "embeddings         [[-0.07032994, -0.2915927, 0.28830814, 0.22719...\n",
       "largo                                                            140\n",
       "Name: 839, dtype: object"
      ]
     },
     "execution_count": 170,
     "metadata": {},
     "output_type": "execute_result"
    }
   ],
   "source": [
    "s.query('largo == 140').iloc[5,:]"
   ]
  },
  {
   "cell_type": "code",
   "execution_count": 171,
   "id": "7ba8c37d-52e8-4dd1-b20e-3cda516d2828",
   "metadata": {},
   "outputs": [
    {
     "data": {
      "text/plain": [
       "<module 'pandas' from '/home/fernando/miniconda3/lib/python3.9/site-packages/pandas/__init__.py'>"
      ]
     },
     "execution_count": 171,
     "metadata": {},
     "output_type": "execute_result"
    }
   ],
   "source": [
    "pd"
   ]
  },
  {
   "cell_type": "code",
   "execution_count": 172,
   "id": "2fdba2b6-18ac-4c6e-84ec-ba72dea64a31",
   "metadata": {},
   "outputs": [
    {
     "data": {
      "text/html": [
       "<div>\n",
       "<style scoped>\n",
       "    .dataframe tbody tr th:only-of-type {\n",
       "        vertical-align: middle;\n",
       "    }\n",
       "\n",
       "    .dataframe tbody tr th {\n",
       "        vertical-align: top;\n",
       "    }\n",
       "\n",
       "    .dataframe thead th {\n",
       "        text-align: right;\n",
       "    }\n",
       "</style>\n",
       "<table border=\"1\" class=\"dataframe\">\n",
       "  <thead>\n",
       "    <tr style=\"text-align: right;\">\n",
       "      <th></th>\n",
       "      <th>component_0</th>\n",
       "      <th>component_1</th>\n",
       "      <th>label</th>\n",
       "    </tr>\n",
       "  </thead>\n",
       "  <tbody>\n",
       "    <tr>\n",
       "      <th>P03265_294_334</th>\n",
       "      <td>28.331701</td>\n",
       "      <td>9.450675</td>\n",
       "      <td>disprot</td>\n",
       "    </tr>\n",
       "    <tr>\n",
       "      <th>P49913_134_170</th>\n",
       "      <td>30.083553</td>\n",
       "      <td>10.574490</td>\n",
       "      <td>disprot</td>\n",
       "    </tr>\n",
       "    <tr>\n",
       "      <th>P03045_1_107</th>\n",
       "      <td>22.968891</td>\n",
       "      <td>9.131040</td>\n",
       "      <td>disprot</td>\n",
       "    </tr>\n",
       "    <tr>\n",
       "      <th>P03045_1_22</th>\n",
       "      <td>28.895761</td>\n",
       "      <td>7.952749</td>\n",
       "      <td>disprot</td>\n",
       "    </tr>\n",
       "    <tr>\n",
       "      <th>P03045_1_36</th>\n",
       "      <td>26.991978</td>\n",
       "      <td>7.300606</td>\n",
       "      <td>disprot</td>\n",
       "    </tr>\n",
       "    <tr>\n",
       "      <th>...</th>\n",
       "      <td>...</td>\n",
       "      <td>...</td>\n",
       "      <td>...</td>\n",
       "    </tr>\n",
       "    <tr>\n",
       "      <th>idrs_disprot_98</th>\n",
       "      <td>14.867069</td>\n",
       "      <td>-1.470438</td>\n",
       "      <td>random_idrs</td>\n",
       "    </tr>\n",
       "    <tr>\n",
       "      <th>monomers_98</th>\n",
       "      <td>13.006228</td>\n",
       "      <td>21.979971</td>\n",
       "      <td>random_monomers</td>\n",
       "    </tr>\n",
       "    <tr>\n",
       "      <th>unif_99</th>\n",
       "      <td>12.621278</td>\n",
       "      <td>36.086349</td>\n",
       "      <td>random_unif</td>\n",
       "    </tr>\n",
       "    <tr>\n",
       "      <th>idrs_disprot_99</th>\n",
       "      <td>14.245030</td>\n",
       "      <td>-3.185513</td>\n",
       "      <td>random_idrs</td>\n",
       "    </tr>\n",
       "    <tr>\n",
       "      <th>monomers_99</th>\n",
       "      <td>13.610007</td>\n",
       "      <td>23.351673</td>\n",
       "      <td>random_monomers</td>\n",
       "    </tr>\n",
       "  </tbody>\n",
       "</table>\n",
       "<p>6125 rows × 3 columns</p>\n",
       "</div>"
      ],
      "text/plain": [
       "                 component_0  component_1            label\n",
       "P03265_294_334     28.331701     9.450675          disprot\n",
       "P49913_134_170     30.083553    10.574490          disprot\n",
       "P03045_1_107       22.968891     9.131040          disprot\n",
       "P03045_1_22        28.895761     7.952749          disprot\n",
       "P03045_1_36        26.991978     7.300606          disprot\n",
       "...                      ...          ...              ...\n",
       "idrs_disprot_98    14.867069    -1.470438      random_idrs\n",
       "monomers_98        13.006228    21.979971  random_monomers\n",
       "unif_99            12.621278    36.086349      random_unif\n",
       "idrs_disprot_99    14.245030    -3.185513      random_idrs\n",
       "monomers_99        13.610007    23.351673  random_monomers\n",
       "\n",
       "[6125 rows x 3 columns]"
      ]
     },
     "execution_count": 172,
     "metadata": {},
     "output_type": "execute_result"
    }
   ],
   "source": [
    "projected_embeddings_dataframe"
   ]
  },
  {
   "cell_type": "code",
   "execution_count": 174,
   "id": "fa1dd19f-96a5-4c1b-b4d5-955a2d7c2b83",
   "metadata": {},
   "outputs": [
    {
     "name": "stderr",
     "output_type": "stream",
     "text": [
      "/tmp/ipykernel_49241/2976090136.py:1: SettingWithCopyWarning:\n",
      "\n",
      "\n",
      "A value is trying to be set on a copy of a slice from a DataFrame.\n",
      "Try using .loc[row_indexer,col_indexer] = value instead\n",
      "\n",
      "See the caveats in the documentation: https://pandas.pydata.org/pandas-docs/stable/user_guide/indexing.html#returning-a-view-versus-a-copy\n",
      "\n"
     ]
    }
   ],
   "source": [
    "df['largo'] = df.region_sequence.str.len()"
   ]
  },
  {
   "cell_type": "code",
   "execution_count": 178,
   "id": "6f32a81d-79cb-4b7e-954b-81309e0398fd",
   "metadata": {},
   "outputs": [
    {
     "data": {
      "text/html": [
       "<div>\n",
       "<style scoped>\n",
       "    .dataframe tbody tr th:only-of-type {\n",
       "        vertical-align: middle;\n",
       "    }\n",
       "\n",
       "    .dataframe tbody tr th {\n",
       "        vertical-align: top;\n",
       "    }\n",
       "\n",
       "    .dataframe thead th {\n",
       "        text-align: right;\n",
       "    }\n",
       "</style>\n",
       "<table border=\"1\" class=\"dataframe\">\n",
       "  <thead>\n",
       "    <tr style=\"text-align: right;\">\n",
       "      <th></th>\n",
       "      <th>idx</th>\n",
       "      <th>region_sequence</th>\n",
       "      <th>source</th>\n",
       "      <th>embeddings</th>\n",
       "      <th>largo</th>\n",
       "    </tr>\n",
       "  </thead>\n",
       "  <tbody>\n",
       "    <tr>\n",
       "      <th>104</th>\n",
       "      <td>P49918_1_316</td>\n",
       "      <td>MSDASLRSTSTMERLVARGTFPVLVRTSACRSLFGPVDHEELSREL...</td>\n",
       "      <td>disprot</td>\n",
       "      <td>[[0.08079723, -0.1480087, -0.0036148636, 0.186...</td>\n",
       "      <td>316</td>\n",
       "    </tr>\n",
       "    <tr>\n",
       "      <th>376</th>\n",
       "      <td>P07214_18_302</td>\n",
       "      <td>APQQTEVAEEIVEEETVVEETGVPVGANPVQVEMGEFEDGAEETVE...</td>\n",
       "      <td>disprot</td>\n",
       "      <td>[[-0.04136322, -0.32984945, 0.124414824, 0.159...</td>\n",
       "      <td>285</td>\n",
       "    </tr>\n",
       "    <tr>\n",
       "      <th>741</th>\n",
       "      <td>P10163_17_310</td>\n",
       "      <td>ESSSEDVSQEESLFLISGKPEGRRPQGGNQPQRPPPPPGKPQGPPP...</td>\n",
       "      <td>disprot</td>\n",
       "      <td>[[-0.0020476836, -0.21037327, 0.08818779, 0.20...</td>\n",
       "      <td>294</td>\n",
       "    </tr>\n",
       "    <tr>\n",
       "      <th>808</th>\n",
       "      <td>P03422_1_300</td>\n",
       "      <td>MAEEQARHVKNGLECIRALKAEPIGSLAIEEAMAAWSEISDNPGQE...</td>\n",
       "      <td>disprot</td>\n",
       "      <td>[[0.12868007, -0.20555663, -0.02795302, -0.024...</td>\n",
       "      <td>300</td>\n",
       "    </tr>\n",
       "    <tr>\n",
       "      <th>813</th>\n",
       "      <td>P03422_1_304</td>\n",
       "      <td>MAEEQARHVKNGLECIRALKAEPIGSLAIEEAMAAWSEISDNPGQE...</td>\n",
       "      <td>disprot</td>\n",
       "      <td>[[0.16955136, -0.18703653, -0.024619149, -0.03...</td>\n",
       "      <td>304</td>\n",
       "    </tr>\n",
       "    <tr>\n",
       "      <th>...</th>\n",
       "      <td>...</td>\n",
       "      <td>...</td>\n",
       "      <td>...</td>\n",
       "      <td>...</td>\n",
       "      <td>...</td>\n",
       "    </tr>\n",
       "    <tr>\n",
       "      <th>394</th>\n",
       "      <td>idrs_disprot_98</td>\n",
       "      <td>LVVEPRYSIIIGYRPNSCKDHDDLNRAARIAKGEAATYMNIDLPSL...</td>\n",
       "      <td>random_idrs</td>\n",
       "      <td>[[0.029828181, -0.18922722, -0.024930023, 0.17...</td>\n",
       "      <td>300</td>\n",
       "    </tr>\n",
       "    <tr>\n",
       "      <th>395</th>\n",
       "      <td>monomers_98</td>\n",
       "      <td>MFANTAAAGTVNLHVDARKFNGPWDANEEVNPMVYYVDNMEERYTD...</td>\n",
       "      <td>random_monomers</td>\n",
       "      <td>[[0.1564757, 0.0012199524, 0.24375804, 0.31780...</td>\n",
       "      <td>300</td>\n",
       "    </tr>\n",
       "    <tr>\n",
       "      <th>396</th>\n",
       "      <td>unif_99</td>\n",
       "      <td>MARDYAFYFYEHVIVQENGGCGHLVDFTHLDQKSHFNLSAYNHDTT...</td>\n",
       "      <td>random_unif</td>\n",
       "      <td>[[0.12827691, -0.12420882, 0.25003305, 0.04886...</td>\n",
       "      <td>300</td>\n",
       "    </tr>\n",
       "    <tr>\n",
       "      <th>398</th>\n",
       "      <td>idrs_disprot_99</td>\n",
       "      <td>YEDNYMEIEKYLALTKKRELLKSATSPLGFRKSSTARQLRVVLSGS...</td>\n",
       "      <td>random_idrs</td>\n",
       "      <td>[[-0.06800358, -0.16696112, -0.052865274, 0.02...</td>\n",
       "      <td>300</td>\n",
       "    </tr>\n",
       "    <tr>\n",
       "      <th>399</th>\n",
       "      <td>monomers_99</td>\n",
       "      <td>EKDFLLVMIRAKFGTTDKVINEVYDEHNSRAQDDWKEDSGNTDRTM...</td>\n",
       "      <td>random_monomers</td>\n",
       "      <td>[[0.10820049, -0.35586837, 0.1033347, 0.023515...</td>\n",
       "      <td>300</td>\n",
       "    </tr>\n",
       "  </tbody>\n",
       "</table>\n",
       "<p>704 rows × 5 columns</p>\n",
       "</div>"
      ],
      "text/plain": [
       "                 idx                                    region_sequence  \\\n",
       "104     P49918_1_316  MSDASLRSTSTMERLVARGTFPVLVRTSACRSLFGPVDHEELSREL...   \n",
       "376    P07214_18_302  APQQTEVAEEIVEEETVVEETGVPVGANPVQVEMGEFEDGAEETVE...   \n",
       "741    P10163_17_310  ESSSEDVSQEESLFLISGKPEGRRPQGGNQPQRPPPPPGKPQGPPP...   \n",
       "808     P03422_1_300  MAEEQARHVKNGLECIRALKAEPIGSLAIEEAMAAWSEISDNPGQE...   \n",
       "813     P03422_1_304  MAEEQARHVKNGLECIRALKAEPIGSLAIEEAMAAWSEISDNPGQE...   \n",
       "..               ...                                                ...   \n",
       "394  idrs_disprot_98  LVVEPRYSIIIGYRPNSCKDHDDLNRAARIAKGEAATYMNIDLPSL...   \n",
       "395      monomers_98  MFANTAAAGTVNLHVDARKFNGPWDANEEVNPMVYYVDNMEERYTD...   \n",
       "396          unif_99  MARDYAFYFYEHVIVQENGGCGHLVDFTHLDQKSHFNLSAYNHDTT...   \n",
       "398  idrs_disprot_99  YEDNYMEIEKYLALTKKRELLKSATSPLGFRKSSTARQLRVVLSGS...   \n",
       "399      monomers_99  EKDFLLVMIRAKFGTTDKVINEVYDEHNSRAQDDWKEDSGNTDRTM...   \n",
       "\n",
       "              source                                         embeddings  largo  \n",
       "104          disprot  [[0.08079723, -0.1480087, -0.0036148636, 0.186...    316  \n",
       "376          disprot  [[-0.04136322, -0.32984945, 0.124414824, 0.159...    285  \n",
       "741          disprot  [[-0.0020476836, -0.21037327, 0.08818779, 0.20...    294  \n",
       "808          disprot  [[0.12868007, -0.20555663, -0.02795302, -0.024...    300  \n",
       "813          disprot  [[0.16955136, -0.18703653, -0.024619149, -0.03...    304  \n",
       "..               ...                                                ...    ...  \n",
       "394      random_idrs  [[0.029828181, -0.18922722, -0.024930023, 0.17...    300  \n",
       "395  random_monomers  [[0.1564757, 0.0012199524, 0.24375804, 0.31780...    300  \n",
       "396      random_unif  [[0.12827691, -0.12420882, 0.25003305, 0.04886...    300  \n",
       "398      random_idrs  [[-0.06800358, -0.16696112, -0.052865274, 0.02...    300  \n",
       "399  random_monomers  [[0.10820049, -0.35586837, 0.1033347, 0.023515...    300  \n",
       "\n",
       "[704 rows x 5 columns]"
      ]
     },
     "execution_count": 178,
     "metadata": {},
     "output_type": "execute_result"
    }
   ],
   "source": [
    "df[(df.largo > 280)& (df.largo < 320)]"
   ]
  },
  {
   "cell_type": "code",
   "execution_count": 180,
   "id": "a69cddd6-f04c-4091-a046-81df6fbb8a44",
   "metadata": {},
   "outputs": [
    {
     "name": "stderr",
     "output_type": "stream",
     "text": [
      "/home/fernando/miniconda3/lib/python3.9/site-packages/umap/umap_.py:1356: RuntimeWarning:\n",
      "\n",
      "divide by zero encountered in power\n",
      "\n"
     ]
    },
    {
     "name": "stdout",
     "output_type": "stream",
     "text": [
      "UMAP(n_neighbors=50, random_state=10, spread=8, verbose=1)\n",
      "Thu Nov  3 15:36:05 2022 Construct fuzzy simplicial set\n",
      "Thu Nov  3 15:36:10 2022 Finding Nearest Neighbors\n",
      "Thu Nov  3 15:36:12 2022 Finished Nearest Neighbor Search\n",
      "Thu Nov  3 15:36:12 2022 Construct embedding\n"
     ]
    },
    {
     "name": "stderr",
     "output_type": "stream",
     "text": [
      "Epochs completed: 100%| ███████████████████████████████████████████████████████████████████████████████████████████████████████████████████████████████████████████████████████████████████ 500/500 [00:02]"
     ]
    },
    {
     "name": "stdout",
     "output_type": "stream",
     "text": [
      "Thu Nov  3 15:36:15 2022 Finished embedding\n"
     ]
    },
    {
     "name": "stderr",
     "output_type": "stream",
     "text": [
      "\n"
     ]
    }
   ],
   "source": [
    "reduced_embeddings = [embedder.reduce_per_protein(pre) for pre in df[(df.largo > 280)& (df.largo < 320)].embeddings]\n",
    "\n",
    "options = {\n",
    "    'min_dist': .1,\n",
    "    'spread': 8,\n",
    "    'n_neighbors': 50,\n",
    "    'metric': 'euclidean',\n",
    "    'n_components': 2,\n",
    "    'random_state': 10\n",
    "}\n",
    "\n",
    "projected_embeddings = umap_reduce(reduced_embeddings, **options)\n",
    "projected_embeddings_dataframe = pd.DataFrame(\n",
    "    projected_embeddings,\n",
    "    columns=[\"component_0\", \"component_1\"],\n",
    ")\n",
    "projected_embeddings_dataframe.index = list(df[(df.largo > 280)& (df.largo < 320)].idx)\n",
    "projected_embeddings_dataframe[\"label\"] = list(df[(df.largo > 280)& (df.largo < 320)].source)"
   ]
  },
  {
   "cell_type": "code",
   "execution_count": 181,
   "id": "3449657e-bafb-445f-902b-c41d030f6dba",
   "metadata": {},
   "outputs": [
    {
     "data": {
      "text/html": [
       "<iframe\n",
       "    scrolling=\"no\"\n",
       "    width=\"100%\"\n",
       "    height=\"545px\"\n",
       "    src=\"iframe_figures/figure_181.html\"\n",
       "    frameborder=\"0\"\n",
       "    allowfullscreen\n",
       "></iframe>\n"
      ]
     },
     "metadata": {},
     "output_type": "display_data"
    }
   ],
   "source": [
    "render_scatter_plotly(projected_embeddings_dataframe).show(renderer='iframe')"
   ]
  },
  {
   "cell_type": "code",
   "execution_count": null,
   "id": "843e9559-680a-4863-8219-201945ea1c70",
   "metadata": {},
   "outputs": [],
   "source": []
  }
 ],
 "metadata": {
  "kernelspec": {
   "display_name": "Python 3 (ipykernel)",
   "language": "python",
   "name": "python3"
  },
  "language_info": {
   "codemirror_mode": {
    "name": "ipython",
    "version": 3
   },
   "file_extension": ".py",
   "mimetype": "text/x-python",
   "name": "python",
   "nbconvert_exporter": "python",
   "pygments_lexer": "ipython3",
   "version": "3.9.12"
  }
 },
 "nbformat": 4,
 "nbformat_minor": 5
}
