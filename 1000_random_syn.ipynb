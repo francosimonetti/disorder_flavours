{
 "cells": [
  {
   "cell_type": "markdown",
   "id": "fef371dd-147b-4f5b-83f9-57582c728be4",
   "metadata": {},
   "source": [
    "## Randomize Sequence"
   ]
  },
  {
   "cell_type": "code",
   "execution_count": 12,
   "id": "95469fce-0131-4fef-b431-9fcc02ce10bd",
   "metadata": {},
   "outputs": [],
   "source": [
    "import random\n",
    "from collections import Counter\n",
    "import pandas as pd\n",
    "import numpy as np\n",
    "from embedder import get_et5"
   ]
  },
  {
   "cell_type": "code",
   "execution_count": null,
   "id": "f450734f-fe5c-4714-b781-76b75776ef02",
   "metadata": {},
   "outputs": [],
   "source": []
  },
  {
   "cell_type": "code",
   "execution_count": 4,
   "id": "3428deab-6f96-40a3-b566-fffade0bf23e",
   "metadata": {},
   "outputs": [],
   "source": [
    "def shuffle_by_nres(seq, zone_len=10):\n",
    "\n",
    "    chunked_list = [seq[i:i+zone_len] for i in range(0, len(seq), zone_len)]\n",
    "\n",
    "\n",
    "    randomized = []\n",
    "    for i in chunked_list:\n",
    "        li = list(i)\n",
    "        random.shuffle(li)\n",
    "        randomized.append(\"\".join(li))\n",
    "    return \"\".join(randomized)"
   ]
  },
  {
   "cell_type": "code",
   "execution_count": 5,
   "id": "82154bee-82f2-4235-92b3-4c9eee9b5ae7",
   "metadata": {},
   "outputs": [],
   "source": [
    "alfphasyn_seq = \"MDVFMKGLSKAKEGVVAAAEKTKQGVAEAAGKTKEGVLYVGSKTKEGVVHGVATVAEKTKEQVTNVGGAVVTGVTAVAQKTVEGAGSIAAATGFVKKDQLGKNEEGAPQEGILEDMPVDPDNEAYEMPSEEGYQDYEPEA\"\n",
    "\n",
    "monomer_seq = 'MTKEQIQIIKDCVPILQKNGEDLTNEFYKIMFNDYPEVKPMFNMEKQISGEQPKALAMAILMAAKNIENLENMRSFVDKVAITHVNLGVKEEHYPIVGACLLKAIKNLLNPDEATLKAWEVAYGKIAKFYIDIEKKLYDK'"
   ]
  },
  {
   "cell_type": "code",
   "execution_count": 6,
   "id": "baaa3b36-1e51-457b-a563-747772432098",
   "metadata": {},
   "outputs": [],
   "source": [
    "random_as_seqs = {\n",
    "'as_wt':alfphasyn_seq,\n",
    "'mono_wt':monomer_seq,\n",
    "}"
   ]
  },
  {
   "cell_type": "code",
   "execution_count": 7,
   "id": "958be3ce-9e06-42c4-9d28-530f74899fc6",
   "metadata": {},
   "outputs": [],
   "source": [
    "for s in [2, 5, 10, 100,1000_0000]:\n",
    "    for i in range(1000):\n",
    "        idx1 = f'as_{s}_n_{i}'\n",
    "        random_as_seqs[idx1] = shuffle_by_nres(alfphasyn_seq, zone_len=s)\n",
    "        idx2 = f'mono_{s}_n_{i}'\n",
    "        random_as_seqs[idx2] = shuffle_by_nres(monomer_seq, zone_len=s)"
   ]
  },
  {
   "cell_type": "code",
   "execution_count": 8,
   "id": "eae64372-2e1e-4a3c-b076-4fd145bd246d",
   "metadata": {},
   "outputs": [],
   "source": [
    "as_seqs = pd.DataFrame(random_as_seqs.items(), columns=['sid','seq'])\n",
    "as_seqs['sid'] = as_seqs['sid'].str.replace('10000000', 'full')"
   ]
  },
  {
   "cell_type": "code",
   "execution_count": 53,
   "id": "afc4f1a7-bde1-4087-9afa-e6b6db92a35b",
   "metadata": {},
   "outputs": [],
   "source": [
    "#as_seqs.to_csv('tables/alphasynuclein_sfuffled_sequences.csv',index=False)"
   ]
  },
  {
   "cell_type": "code",
   "execution_count": 54,
   "id": "9010c71f-11b5-41fe-a961-c5457b8a179b",
   "metadata": {},
   "outputs": [],
   "source": [
    "#as_seqs = pd.read_csv('tables/alphasynuclein_sfuffled_sequences.csv')"
   ]
  },
  {
   "cell_type": "markdown",
   "id": "02ad67c5-a3c4-4dfa-826c-375442ed4cc2",
   "metadata": {},
   "source": [
    "### Get Embeddings"
   ]
  },
  {
   "cell_type": "code",
   "execution_count": 15,
   "id": "0c21a8be-673f-4efd-a2a9-73ee8645ea04",
   "metadata": {},
   "outputs": [
    {
     "name": "stdout",
     "output_type": "stream",
     "text": [
      "Starting at 09:57:01\n",
      ".....................................................................................................100/140\n",
      "....................................................................................................200/140\n",
      "....................................................................................................300/140\n",
      "....................................................................................................400/140\n",
      "....................................................................................................500/140\n",
      "....................................................................................................600/140\n",
      "....................................................................................................700/140\n",
      "....................................................................................................800/140\n",
      "....................................................................................................900/140\n",
      "....................................................................................................1000/140\n",
      "....................................................................................................1100/140\n",
      "....................................................................................................1200/140\n",
      "....................................................................................................1300/140\n",
      "....................................................................................................1400/140\n",
      "....................................................................................................1500/140\n",
      "....................................................................................................1600/140\n",
      "....................................................................................................1700/140\n",
      "....................................................................................................1800/140\n",
      "....................................................................................................1900/140\n",
      "....................................................................................................2000/140\n",
      "....................................................................................................2100/140\n",
      "....................................................................................................2200/140\n",
      "....................................................................................................2300/140\n",
      "....................................................................................................2400/140\n",
      "....................................................................................................2500/140\n",
      "....................................................................................................2600/140\n",
      "....................................................................................................2700/140\n",
      "....................................................................................................2800/140\n",
      "....................................................................................................2900/140\n",
      "....................................................................................................3000/140\n",
      "....................................................................................................3100/140\n",
      "....................................................................................................3200/140\n",
      "....................................................................................................3300/140\n",
      "....................................................................................................3400/140\n",
      "....................................................................................................3500/140\n",
      "....................................................................................................3600/140\n",
      "....................................................................................................3700/140\n",
      "....................................................................................................3800/140\n",
      "....................................................................................................3900/140\n",
      "....................................................................................................4000/140\n",
      "....................................................................................................4100/140\n",
      "....................................................................................................4200/140\n",
      "....................................................................................................4300/140\n",
      "....................................................................................................4400/140\n",
      "....................................................................................................4500/140\n",
      "....................................................................................................4600/140\n",
      "....................................................................................................4700/140\n",
      "....................................................................................................4800/140\n",
      "....................................................................................................4900/140\n",
      "....................................................................................................5000/140\n",
      "....................................................................................................5100/140\n",
      "....................................................................................................5200/140\n",
      "....................................................................................................5300/140\n",
      "....................................................................................................5400/140\n",
      "....................................................................................................5500/140\n",
      "....................................................................................................5600/140\n",
      "....................................................................................................5700/140\n",
      "....................................................................................................5800/140\n",
      "....................................................................................................5900/140\n",
      "....................................................................................................6000/140\n",
      "....................................................................................................6100/140\n",
      "....................................................................................................6200/140\n",
      "....................................................................................................6300/140\n",
      "....................................................................................................6400/140\n",
      "....................................................................................................6500/140\n",
      "....................................................................................................6600/140\n",
      "....................................................................................................6700/140\n",
      "....................................................................................................6800/140\n",
      "....................................................................................................6900/140\n",
      "....................................................................................................7000/140\n",
      "....................................................................................................7100/140\n",
      "....................................................................................................7200/140\n",
      "....................................................................................................7300/140\n",
      "....................................................................................................7400/140\n",
      "....................................................................................................7500/140\n",
      "....................................................................................................7600/140\n",
      "....................................................................................................7700/140\n",
      "....................................................................................................7800/140\n",
      "....................................................................................................7900/140\n",
      "....................................................................................................8000/140\n",
      "....................................................................................................8100/140\n",
      "....................................................................................................8200/140\n",
      "....................................................................................................8300/140\n",
      "....................................................................................................8400/140\n",
      "....................................................................................................8500/140\n",
      "....................................................................................................8600/140\n",
      "....................................................................................................8700/140\n",
      "....................................................................................................8800/140\n",
      "....................................................................................................8900/140\n",
      "....................................................................................................9000/140\n",
      "....................................................................................................9100/140\n",
      "....................................................................................................9200/140\n",
      "....................................................................................................9300/140\n",
      "....................................................................................................9400/140\n",
      "....................................................................................................9500/140\n",
      "....................................................................................................9600/140\n",
      "....................................................................................................9700/140\n",
      "....................................................................................................9800/140\n",
      "....................................................................................................9900/140\n",
      "....................................................................................................10000/140\n",
      ".Finishing at 11:58:16\n",
      "Elapsed 2:01:14.848970\n",
      "0 seconds per sequence\n"
     ]
    }
   ],
   "source": [
    "embeddings = get_et5(as_seqs.seq)"
   ]
  },
  {
   "cell_type": "code",
   "execution_count": 20,
   "id": "b53f761d-d8e3-4619-bacf-6d8b720c53fa",
   "metadata": {},
   "outputs": [],
   "source": [
    "from bio_embeddings.project import umap_reduce\n",
    "from bio_embeddings.visualize import render_scatter_plotly\n",
    "from bio_embeddings.embed import ProtTransT5XLU50Embedder\n",
    "import time\n",
    "from datetime import datetime\n",
    "\n",
    "embedder = ProtTransT5XLU50Embedder(model_directory= \"/data/franco/datasets/prot_embedding_weights/half_prottrans_t5_xl_u50/\")"
   ]
  },
  {
   "cell_type": "code",
   "execution_count": 16,
   "id": "cde09a31-89fe-4a72-bc31-e560e804d135",
   "metadata": {},
   "outputs": [
    {
     "data": {
      "text/plain": [
       "10002"
      ]
     },
     "execution_count": 16,
     "metadata": {},
     "output_type": "execute_result"
    }
   ],
   "source": [
    "len(as_seqs)"
   ]
  },
  {
   "cell_type": "code",
   "execution_count": 17,
   "id": "75776a4d-3c1b-40a6-a287-06405554fbd1",
   "metadata": {},
   "outputs": [
    {
     "data": {
      "text/plain": [
       "10002"
      ]
     },
     "execution_count": 17,
     "metadata": {},
     "output_type": "execute_result"
    }
   ],
   "source": [
    "len(embeddings)"
   ]
  },
  {
   "cell_type": "code",
   "execution_count": 18,
   "id": "767c3c58-ea67-4628-8341-0100c2abac86",
   "metadata": {},
   "outputs": [],
   "source": [
    "as_seqs['embedding'] = embeddings"
   ]
  },
  {
   "cell_type": "code",
   "execution_count": 21,
   "id": "610602c6-233d-48bd-ad7a-26055fa2db07",
   "metadata": {},
   "outputs": [],
   "source": [
    "reduced_embeddings = [embedder.reduce_per_protein(pre) for pre in embeddings]"
   ]
  },
  {
   "cell_type": "code",
   "execution_count": 112,
   "id": "13946824-2006-4684-9bec-c67df5f6c8e7",
   "metadata": {},
   "outputs": [],
   "source": [
    "#import pickle\n",
    "#with open('emb_10_1000_redeuced.pickle', 'wb')as f:\n",
    "#    pickle.dump(reduced_embeddings, f)"
   ]
  },
  {
   "cell_type": "code",
   "execution_count": 22,
   "id": "caac50e9-5414-4674-96cb-c1ff4d4f7301",
   "metadata": {},
   "outputs": [],
   "source": [
    "as_seqs['label'] = as_seqs.sid.str.split('_').str[1] + as_seqs.sid.str.split('_').str[0]"
   ]
  },
  {
   "cell_type": "code",
   "execution_count": 23,
   "id": "d0ed2ceb-eb73-4ef4-a713-f26d23cdd5f4",
   "metadata": {},
   "outputs": [
    {
     "name": "stderr",
     "output_type": "stream",
     "text": [
      "/home/fernando/miniconda3/lib/python3.9/site-packages/umap/umap_.py:1356: RuntimeWarning: divide by zero encountered in power\n",
      "  return 1.0 / (1.0 + a * x ** (2 * b))\n",
      "OMP: Info #276: omp_set_nested routine deprecated, please use omp_set_max_active_levels instead.\n"
     ]
    },
    {
     "name": "stdout",
     "output_type": "stream",
     "text": [
      "UMAP(n_neighbors=50, random_state=10, spread=8, verbose=1)\n",
      "Wed Oct 26 12:07:06 2022 Construct fuzzy simplicial set\n",
      "Wed Oct 26 12:07:06 2022 Finding Nearest Neighbors\n",
      "Wed Oct 26 12:07:06 2022 Building RP forest with 10 trees\n",
      "Wed Oct 26 12:07:06 2022 NN descent for 13 iterations\n",
      "\t 1  /  13\n",
      "\t 2  /  13\n",
      "\t 3  /  13\n",
      "\tStopping threshold met -- exiting after 3 iterations\n",
      "Wed Oct 26 12:07:20 2022 Finished Nearest Neighbor Search\n",
      "Wed Oct 26 12:07:23 2022 Construct embedding\n"
     ]
    },
    {
     "name": "stderr",
     "output_type": "stream",
     "text": [
      "Epochs completed: 100%| ███████████████████████████████████████████████████████████████████████████████████████████████████████████████████████████████████████████████████████████████████ 200/200 [00:09]"
     ]
    },
    {
     "name": "stdout",
     "output_type": "stream",
     "text": [
      "Wed Oct 26 12:07:33 2022 Finished embedding\n"
     ]
    },
    {
     "name": "stderr",
     "output_type": "stream",
     "text": [
      "\n"
     ]
    }
   ],
   "source": [
    "options = {\n",
    "    'min_dist': .1,\n",
    "    'spread': 8,\n",
    "    'n_neighbors': 50,\n",
    "    'metric': 'euclidean',\n",
    "    'n_components': 2,\n",
    "    'random_state': 10\n",
    "}\n",
    "\n",
    "projected_embeddings = umap_reduce(reduced_embeddings, **options)\n",
    "projected_embeddings_dataframe = pd.DataFrame(\n",
    "    projected_embeddings,\n",
    "    columns=[\"component_0\", \"component_1\"],\n",
    ")\n",
    "projected_embeddings_dataframe[\"label\"] = list(as_seqs.label)"
   ]
  },
  {
   "cell_type": "code",
   "execution_count": 24,
   "id": "0c87aac0-d01d-4535-b606-c99c5cf0937b",
   "metadata": {},
   "outputs": [
    {
     "data": {
      "text/html": [
       "<iframe\n",
       "    scrolling=\"no\"\n",
       "    width=\"100%\"\n",
       "    height=\"545px\"\n",
       "    src=\"iframe_figures/figure_24.html\"\n",
       "    frameborder=\"0\"\n",
       "    allowfullscreen\n",
       "></iframe>\n"
      ]
     },
     "metadata": {},
     "output_type": "display_data"
    }
   ],
   "source": [
    "figure = render_scatter_plotly(projected_embeddings_dataframe)\n",
    "figure.show(renderer='iframe')"
   ]
  },
  {
   "cell_type": "code",
   "execution_count": 26,
   "id": "baaef354-c076-4dea-954a-f1904bb1ba70",
   "metadata": {},
   "outputs": [
    {
     "data": {
      "text/html": [
       "<iframe\n",
       "    scrolling=\"no\"\n",
       "    width=\"100%\"\n",
       "    height=\"545px\"\n",
       "    src=\"iframe_figures/figure_26.html\"\n",
       "    frameborder=\"0\"\n",
       "    allowfullscreen\n",
       "></iframe>\n"
      ]
     },
     "metadata": {},
     "output_type": "display_data"
    }
   ],
   "source": [
    "figure = render_scatter_plotly(projected_embeddings_dataframe)\n",
    "figure.show(renderer='iframe')"
   ]
  },
  {
   "cell_type": "code",
   "execution_count": 28,
   "id": "c567e6c7-dbe4-472b-95e5-42b8bbe4e4c6",
   "metadata": {},
   "outputs": [
    {
     "data": {
      "text/html": [
       "<div>\n",
       "<style scoped>\n",
       "    .dataframe tbody tr th:only-of-type {\n",
       "        vertical-align: middle;\n",
       "    }\n",
       "\n",
       "    .dataframe tbody tr th {\n",
       "        vertical-align: top;\n",
       "    }\n",
       "\n",
       "    .dataframe thead th {\n",
       "        text-align: right;\n",
       "    }\n",
       "</style>\n",
       "<table border=\"1\" class=\"dataframe\">\n",
       "  <thead>\n",
       "    <tr style=\"text-align: right;\">\n",
       "      <th></th>\n",
       "      <th>sid</th>\n",
       "      <th>seq</th>\n",
       "      <th>embedding</th>\n",
       "      <th>label</th>\n",
       "    </tr>\n",
       "  </thead>\n",
       "  <tbody>\n",
       "    <tr>\n",
       "      <th>0</th>\n",
       "      <td>as_wt</td>\n",
       "      <td>MDVFMKGLSKAKEGVVAAAEKTKQGVAEAAGKTKEGVLYVGSKTKE...</td>\n",
       "      <td>[[0.26118708, -0.047396153, -0.022661319, 0.01...</td>\n",
       "      <td>wtas</td>\n",
       "    </tr>\n",
       "    <tr>\n",
       "      <th>1</th>\n",
       "      <td>mono_wt</td>\n",
       "      <td>MTKEQIQIIKDCVPILQKNGEDLTNEFYKIMFNDYPEVKPMFNMEK...</td>\n",
       "      <td>[[-0.07032994, -0.2915927, 0.28830814, 0.22719...</td>\n",
       "      <td>wtmono</td>\n",
       "    </tr>\n",
       "    <tr>\n",
       "      <th>2</th>\n",
       "      <td>as_2_n_0</td>\n",
       "      <td>DMFVKMLGSKKAGEVVAAAETKQKGVEAAAKGTKGEVLVYSGKTKE...</td>\n",
       "      <td>[[0.10843041, -0.3450426, -0.21672495, 0.08743...</td>\n",
       "      <td>2as</td>\n",
       "    </tr>\n",
       "    <tr>\n",
       "      <th>3</th>\n",
       "      <td>mono_2_n_0</td>\n",
       "      <td>MTEKQIIQIKCDPVLIQKGNDETLENFYIKFMDNPYVEKPMFMNKE...</td>\n",
       "      <td>[[-0.029350068, -0.171996, 0.26766634, 0.39051...</td>\n",
       "      <td>2mono</td>\n",
       "    </tr>\n",
       "    <tr>\n",
       "      <th>4</th>\n",
       "      <td>as_2_n_1</td>\n",
       "      <td>MDVFKMGLKSKAEGVVAAAEKTKQGVEAAAGKKTGEVLVYGSTKEK...</td>\n",
       "      <td>[[0.13493991, 0.0050350963, -0.06172576, 0.019...</td>\n",
       "      <td>2as</td>\n",
       "    </tr>\n",
       "    <tr>\n",
       "      <th>...</th>\n",
       "      <td>...</td>\n",
       "      <td>...</td>\n",
       "      <td>...</td>\n",
       "      <td>...</td>\n",
       "    </tr>\n",
       "    <tr>\n",
       "      <th>9997</th>\n",
       "      <td>mono_full_n_997</td>\n",
       "      <td>DVKSAIIAPQFEDEEWMAIEYFMKIKRCGHNLKKEEYFMIEVINTT...</td>\n",
       "      <td>[[-0.032008912, -0.30854803, -0.037422325, 0.3...</td>\n",
       "      <td>fullmono</td>\n",
       "    </tr>\n",
       "    <tr>\n",
       "      <th>9998</th>\n",
       "      <td>as_full_n_998</td>\n",
       "      <td>QETEPQKVKTKGEDTGEAEKEYGSVDLEGTEGEVVADASKVAKVLE...</td>\n",
       "      <td>[[-0.027951447, -0.19980127, 0.039940525, 0.07...</td>\n",
       "      <td>fullas</td>\n",
       "    </tr>\n",
       "    <tr>\n",
       "      <th>9999</th>\n",
       "      <td>mono_full_n_998</td>\n",
       "      <td>EWKDKAYVKYHPENYLSGIKTQHKAIQFEKIQFNKAEMQGIGPLLK...</td>\n",
       "      <td>[[-0.060568176, -0.25262168, 0.15308204, 0.051...</td>\n",
       "      <td>fullmono</td>\n",
       "    </tr>\n",
       "    <tr>\n",
       "      <th>10000</th>\n",
       "      <td>as_full_n_999</td>\n",
       "      <td>PEGNSVTQEKKTDGGYQQAVAAAAVGEHGETGLTGEDPVVEPVQAA...</td>\n",
       "      <td>[[0.05588614, -0.09958536, 0.063227266, 0.1714...</td>\n",
       "      <td>fullas</td>\n",
       "    </tr>\n",
       "    <tr>\n",
       "      <th>10001</th>\n",
       "      <td>mono_full_n_999</td>\n",
       "      <td>DEQLYCMVKPDDAMEIEMKIYLKNKPLMVFNNILATVTNFNMIEYN...</td>\n",
       "      <td>[[0.06372654, -0.21828137, 0.10762604, 0.21862...</td>\n",
       "      <td>fullmono</td>\n",
       "    </tr>\n",
       "  </tbody>\n",
       "</table>\n",
       "<p>10002 rows × 4 columns</p>\n",
       "</div>"
      ],
      "text/plain": [
       "                   sid                                                seq  \\\n",
       "0                as_wt  MDVFMKGLSKAKEGVVAAAEKTKQGVAEAAGKTKEGVLYVGSKTKE...   \n",
       "1              mono_wt  MTKEQIQIIKDCVPILQKNGEDLTNEFYKIMFNDYPEVKPMFNMEK...   \n",
       "2             as_2_n_0  DMFVKMLGSKKAGEVVAAAETKQKGVEAAAKGTKGEVLVYSGKTKE...   \n",
       "3           mono_2_n_0  MTEKQIIQIKCDPVLIQKGNDETLENFYIKFMDNPYVEKPMFMNKE...   \n",
       "4             as_2_n_1  MDVFKMGLKSKAEGVVAAAEKTKQGVEAAAGKKTGEVLVYGSTKEK...   \n",
       "...                ...                                                ...   \n",
       "9997   mono_full_n_997  DVKSAIIAPQFEDEEWMAIEYFMKIKRCGHNLKKEEYFMIEVINTT...   \n",
       "9998     as_full_n_998  QETEPQKVKTKGEDTGEAEKEYGSVDLEGTEGEVVADASKVAKVLE...   \n",
       "9999   mono_full_n_998  EWKDKAYVKYHPENYLSGIKTQHKAIQFEKIQFNKAEMQGIGPLLK...   \n",
       "10000    as_full_n_999  PEGNSVTQEKKTDGGYQQAVAAAAVGEHGETGLTGEDPVVEPVQAA...   \n",
       "10001  mono_full_n_999  DEQLYCMVKPDDAMEIEMKIYLKNKPLMVFNNILATVTNFNMIEYN...   \n",
       "\n",
       "                                               embedding     label  \n",
       "0      [[0.26118708, -0.047396153, -0.022661319, 0.01...      wtas  \n",
       "1      [[-0.07032994, -0.2915927, 0.28830814, 0.22719...    wtmono  \n",
       "2      [[0.10843041, -0.3450426, -0.21672495, 0.08743...       2as  \n",
       "3      [[-0.029350068, -0.171996, 0.26766634, 0.39051...     2mono  \n",
       "4      [[0.13493991, 0.0050350963, -0.06172576, 0.019...       2as  \n",
       "...                                                  ...       ...  \n",
       "9997   [[-0.032008912, -0.30854803, -0.037422325, 0.3...  fullmono  \n",
       "9998   [[-0.027951447, -0.19980127, 0.039940525, 0.07...    fullas  \n",
       "9999   [[-0.060568176, -0.25262168, 0.15308204, 0.051...  fullmono  \n",
       "10000  [[0.05588614, -0.09958536, 0.063227266, 0.1714...    fullas  \n",
       "10001  [[0.06372654, -0.21828137, 0.10762604, 0.21862...  fullmono  \n",
       "\n",
       "[10002 rows x 4 columns]"
      ]
     },
     "execution_count": 28,
     "metadata": {},
     "output_type": "execute_result"
    }
   ],
   "source": [
    "as_seqs"
   ]
  },
  {
   "cell_type": "code",
   "execution_count": 27,
   "id": "9fe1f6d8-13d0-45a6-ae30-5fdbf0f79147",
   "metadata": {},
   "outputs": [],
   "source": [
    "import pickle"
   ]
  },
  {
   "cell_type": "code",
   "execution_count": 30,
   "id": "85fa1601-8d2d-415f-9bee-f6a503a6d7f6",
   "metadata": {},
   "outputs": [],
   "source": [
    "with open('random_as_mono.pickle', 'wb') as pf:\n",
    "    pickle.dump(as_seqs, pf)"
   ]
  },
  {
   "cell_type": "code",
   "execution_count": 131,
   "id": "90908fc3-6c3e-4f6c-aeb5-4173aca679f1",
   "metadata": {},
   "outputs": [
    {
     "data": {
      "text/html": [
       "<iframe\n",
       "    scrolling=\"no\"\n",
       "    width=\"100%\"\n",
       "    height=\"545px\"\n",
       "    src=\"iframe_figures/figure_131.html\"\n",
       "    frameborder=\"0\"\n",
       "    allowfullscreen\n",
       "></iframe>\n"
      ]
     },
     "metadata": {},
     "output_type": "display_data"
    }
   ],
   "source": [
    "figure = render_scatter_plotly(projected_embeddings_dataframe)\n",
    "figure.show(renderer='iframe')"
   ]
  },
  {
   "cell_type": "code",
   "execution_count": 73,
   "id": "c4f61206-ec7e-457c-beeb-565ed9e0f3da",
   "metadata": {},
   "outputs": [
    {
     "data": {
      "text/html": [
       "<iframe\n",
       "    scrolling=\"no\"\n",
       "    width=\"100%\"\n",
       "    height=\"545px\"\n",
       "    src=\"iframe_figures/figure_73.html\"\n",
       "    frameborder=\"0\"\n",
       "    allowfullscreen\n",
       "></iframe>\n"
      ]
     },
     "metadata": {},
     "output_type": "display_data"
    }
   ],
   "source": [
    "figure = render_scatter_plotly(projected_embeddings_dataframe)\n",
    "figure.show(renderer='iframe')"
   ]
  },
  {
   "cell_type": "code",
   "execution_count": 25,
   "id": "2a770751-5456-4e1e-814d-6bee474e4ec5",
   "metadata": {},
   "outputs": [],
   "source": [
    "import plotly\n",
    "import plotly.express as px\n",
    "\n",
    "colores = ['rgb(228,26,28)',\n",
    " 'rgb(55,126,184)',\n",
    "  'rgb(152,78,163)',\n",
    " 'rgb(77,175,74)',\n",
    " 'rgb(255,127,0)',\n",
    " 'rgb(255,255,51)',\n",
    " 'rgb(166,86,40)',\n",
    " 'rgb(247,129,191)',\n",
    " 'rgb(153,153,153)']\n",
    "\n",
    "def render_scatter_plotly(embeddings_dataframe):\n",
    "    if 'label' in embeddings_dataframe.columns:\n",
    "        fig = px.scatter(embeddings_dataframe,\n",
    "                         x='component_0',\n",
    "                         y='component_1',\n",
    "                         color='label',\n",
    "                         symbol='label',\n",
    "                         hover_name=embeddings_dataframe.index,\n",
    "                         hover_data=[\"label\"],\n",
    "                         opacity = .8,\n",
    "                         color_discrete_sequence=colores\n",
    "                         )\n",
    "    else:\n",
    "        fig = px.scatter(embeddings_dataframe,\n",
    "                         x='component_0',\n",
    "                         y='component_1',\n",
    "                         hover_name=embeddings_dataframe.index,\n",
    "                         )\n",
    "\n",
    "    fig.update_layout(\n",
    "        # Remove axes ticks and labels as they are usually not informative\n",
    "        paper_bgcolor='rgba(0,0,0,0)',\n",
    "        plot_bgcolor='rgba(0,0,0,0)',\n",
    "        scene=dict(\n",
    "            xaxis=dict(\n",
    "                showticklabels=False,\n",
    "                showspikes=False,\n",
    "                title=\"\"\n",
    "            ),\n",
    "            yaxis=dict(\n",
    "                showticklabels=False,\n",
    "                showspikes=False,\n",
    "                title=\"\"\n",
    "            )\n",
    "        ),\n",
    "    )\n",
    "\n",
    "    return fig\n"
   ]
  },
  {
   "cell_type": "code",
   "execution_count": 136,
   "id": "37a52505-1918-40e9-8451-f0eb06944727",
   "metadata": {},
   "outputs": [],
   "source": [
    "as_df = as_seqs[~as_seqs.sid.str.contains('mono')]\n",
    "mono_df = as_seqs[as_seqs.sid.str.contains('mono')]"
   ]
  },
  {
   "cell_type": "code",
   "execution_count": 143,
   "id": "49be4d82-db69-4377-a0c1-8924a1f7f32e",
   "metadata": {},
   "outputs": [
    {
     "name": "stderr",
     "output_type": "stream",
     "text": [
      "/home/fernando/miniconda3/lib/python3.9/site-packages/umap/umap_.py:1356: RuntimeWarning:\n",
      "\n",
      "divide by zero encountered in power\n",
      "\n"
     ]
    },
    {
     "name": "stdout",
     "output_type": "stream",
     "text": [
      "UMAP(n_neighbors=50, random_state=10, spread=8, verbose=1)\n",
      "Wed Oct 26 08:01:19 2022 Construct fuzzy simplicial set\n",
      "Wed Oct 26 08:01:19 2022 Finding Nearest Neighbors\n",
      "Wed Oct 26 08:01:19 2022 Building RP forest with 9 trees\n",
      "Wed Oct 26 08:01:19 2022 NN descent for 12 iterations\n",
      "\t 1  /  12\n",
      "\t 2  /  12\n",
      "\t 3  /  12\n",
      "\tStopping threshold met -- exiting after 3 iterations\n",
      "Wed Oct 26 08:01:20 2022 Finished Nearest Neighbor Search\n",
      "Wed Oct 26 08:01:20 2022 Construct embedding\n"
     ]
    },
    {
     "name": "stderr",
     "output_type": "stream",
     "text": [
      "Epochs completed: 100%| ███████████████████████████████████████████████████████████████████████████████████████████████████████████████████████████████████████████████████████████████████ 500/500 [00:11]\n"
     ]
    },
    {
     "name": "stdout",
     "output_type": "stream",
     "text": [
      "Wed Oct 26 08:01:31 2022 Finished embedding\n"
     ]
    }
   ],
   "source": [
    "reduced_embeddings = [embedder.reduce_per_protein(pre) for pre in as_df.embedding]\n",
    "\n",
    "projected_embeddings = umap_reduce(reduced_embeddings, **options)\n",
    "projected_embeddings_dataframe = pd.DataFrame(\n",
    "    projected_embeddings,\n",
    "    columns=[\"component_0\", \"component_1\"],\n",
    ")\n",
    "projected_embeddings_dataframe[\"label\"] = list(as_df.label.str.replace('as',''))"
   ]
  },
  {
   "cell_type": "code",
   "execution_count": 148,
   "id": "3a69a694-3d76-4aba-a7dc-2d3d54e451ab",
   "metadata": {},
   "outputs": [
    {
     "data": {
      "text/html": [
       "<iframe\n",
       "    scrolling=\"no\"\n",
       "    width=\"100%\"\n",
       "    height=\"545px\"\n",
       "    src=\"iframe_figures/figure_148.html\"\n",
       "    frameborder=\"0\"\n",
       "    allowfullscreen\n",
       "></iframe>\n"
      ]
     },
     "metadata": {},
     "output_type": "display_data"
    }
   ],
   "source": [
    "figure = render_scatter_plotly(projected_embeddings_dataframe)\n",
    "figure.show(renderer='iframe')"
   ]
  },
  {
   "cell_type": "code",
   "execution_count": null,
   "id": "85ebfa55-f032-4afd-a234-87cd71466390",
   "metadata": {},
   "outputs": [],
   "source": []
  }
 ],
 "metadata": {
  "kernelspec": {
   "display_name": "Python 3 (ipykernel)",
   "language": "python",
   "name": "python3"
  },
  "language_info": {
   "codemirror_mode": {
    "name": "ipython",
    "version": 3
   },
   "file_extension": ".py",
   "mimetype": "text/x-python",
   "name": "python",
   "nbconvert_exporter": "python",
   "pygments_lexer": "ipython3",
   "version": "3.9.12"
  }
 },
 "nbformat": 4,
 "nbformat_minor": 5
}
