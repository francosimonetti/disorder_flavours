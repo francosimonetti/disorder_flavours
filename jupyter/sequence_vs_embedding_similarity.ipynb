{
 "cells": [
  {
   "cell_type": "code",
   "execution_count": null,
   "metadata": {},
   "outputs": [],
   "source": [
    "# It looks like sequence similarity does not necessarily mean similar embeddings.\n",
    "# or at least in the context of subgroups or subfamilies (?).\n",
    "# Some sequences apppear to have high sequence identity/similarity/score and high embedding distance (dis-similarity)\n",
    "# Could this be used to pinpoint regions of interest that in terms of sequence are very short and don't add up to much,\n",
    "# but have high impact in embedding space?\n",
    "\n",
    "# Steps:\n",
    "# Grab a hot idp MSA, do pairwise alignment between the IDR sequences, this should be a triangular matrix of scores\n",
    "# Embed the sequences, calc dist between them, another triangular matrix of distances\n",
    "# Normally, high sequence similarity relates to low distance in embedding space, up to a point (which point? what's the limit?)\n",
    "# Instead, look for high seq similarity and HIGH distance in embedding space. Above point from above?\n",
    "# the limit point should be calibrted with IDRs that align very poorly? PFAMs that don't align? Anything that alignt to a \n",
    "# certain coverage limit?\n",
    "\n",
    "# This might all be an artifact, the alignments from HoTIDP are very forced onto sequence similarity minimums of 60%. \n",
    "# So that things of course align\n",
    "\n",
    "\n"
   ]
  }
 ],
 "metadata": {
  "language_info": {
   "name": "python"
  }
 },
 "nbformat": 4,
 "nbformat_minor": 2
}
