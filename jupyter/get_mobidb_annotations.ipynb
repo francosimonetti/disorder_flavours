{
 "cells": [
  {
   "cell_type": "code",
   "execution_count": 1,
   "metadata": {},
   "outputs": [
    {
     "name": "stdout",
     "output_type": "stream",
     "text": [
      "Q8PMB6 failed with exception: Expecting value: line 1 column 1 (char 0)\n",
      "A0A3N4AZ09 failed with exception: Expecting value: line 1 column 1 (char 0)\n",
      "A0A0F7RL08 failed with exception: Expecting value: line 1 column 1 (char 0)\n",
      "M0Y2D5 failed with exception: Expecting value: line 1 column 1 (char 0)\n",
      "A0A1L8HX71 failed with exception: Expecting value: line 1 column 1 (char 0)\n",
      "A0A256WXF2 failed with exception: Expecting value: line 1 column 1 (char 0)\n",
      "A0A5P2U9X4 failed with exception: Expecting value: line 1 column 1 (char 0)\n",
      "E9BNI3 failed with exception: Expecting value: line 1 column 1 (char 0)\n",
      "C4IN70 failed with exception: Expecting value: line 1 column 1 (char 0)\n",
      "C4IN68 failed with exception: Expecting value: line 1 column 1 (char 0)\n",
      "C4IN69 failed with exception: Expecting value: line 1 column 1 (char 0)\n",
      "Existing files: 2511\n",
      "To download: 11\n"
     ]
    }
   ],
   "source": [
    "import requests\n",
    "import json\n",
    "from Bio import SeqIO\n",
    "import os\n",
    "import time\n",
    "os.chdir(\"/biodata/franco/zsuzsa_lab/jupyter\")\n",
    "\n",
    "# Read the file disprot_OK_fullset.fasta and get all the identifiers\n",
    "identifiers = []\n",
    "#for record in SeqIO.parse(\"../disprot_OK_fullset_12_2023.fasta\", \"fasta\"):\n",
    "for record in SeqIO.parse(\"/biodata/franco/datasets/disprot/disprot_OK_fullset_2023_12.fasta\", \"fasta\"):\n",
    "    identifiers.append(record.id)\n",
    "\n",
    "exists_counter = 0\n",
    "download_counter = 0\n",
    "output_dir = \"mobidb_dev_10_2024\"\n",
    "# Get the mobidb data for each identifier\n",
    "failed_uniprots = []\n",
    "os.makedirs(output_dir, exist_ok=True)\n",
    "for uniprot_id in identifiers:\n",
    "    url = f\"https://mobidb.org/api/download?format=json&acc={uniprot_id}\"\n",
    "    #url = f\"https://dev.mobidb.org/api/download?format=json&acc={uniprot_id}\"\n",
    "    if not os.path.exists(f\"{output_dir}/{uniprot_id}.json\"):\n",
    "        # use a try-except block to catch exceptions\n",
    "        download_counter += 1\n",
    "        try:\n",
    "            response = requests.get(url)\n",
    "            if response.status_code == 200:\n",
    "                data = response.json()\n",
    "                # save the data to a file\n",
    "                with open(f\"{output_dir}/{uniprot_id}.json\", \"w\") as f:\n",
    "                    json.dump(data, f)\n",
    "            else:\n",
    "                print(f\"{uniprot_id} failed with status code:\", response.status_code)\n",
    "                failed_uniprots.append(uniprot_id)\n",
    "        except Exception as e:\n",
    "            print(f\"{uniprot_id} failed with exception:\", e)\n",
    "            failed_uniprots.append(uniprot_id)\n",
    "        time.sleep(0.5)\n",
    "    else:\n",
    "        exists_counter += 1\n",
    "print(f\"Existing files: {exists_counter}\")\n",
    "print(f\"To download: {download_counter}\")\n",
    "\n",
    "# Existing files: 2089\n",
    "# To download: 433\n"
   ]
  },
  {
   "cell_type": "code",
   "execution_count": null,
   "metadata": {},
   "outputs": [
    {
     "name": "stderr",
     "output_type": "stream",
     "text": [
      "11it [00:00, 109.21it/s]"
     ]
    },
    {
     "name": "stdout",
     "output_type": "stream",
     "text": [
      "7qe7_P failed with status code: 404\n",
      "7qe7_S failed with status code: 404\n",
      "8s4g_P failed with status code: 404\n"
     ]
    },
    {
     "name": "stderr",
     "output_type": "stream",
     "text": [
      "41it [00:03, 12.73it/s] "
     ]
    },
    {
     "name": "stdout",
     "output_type": "stream",
     "text": [
      "8s4g_S failed with status code: 404\n"
     ]
    },
    {
     "name": "stderr",
     "output_type": "stream",
     "text": [
      "233it [00:04, 108.27it/s]"
     ]
    },
    {
     "name": "stdout",
     "output_type": "stream",
     "text": [
      "7qe7_M failed with status code: 404\n",
      "7qe7_N failed with status code: 404\n",
      "8s4g_M failed with status code: 404\n",
      "8s4g_N failed with status code: 404\n"
     ]
    },
    {
     "name": "stderr",
     "output_type": "stream",
     "text": [
      "377it [00:07, 100.49it/s]"
     ]
    },
    {
     "name": "stdout",
     "output_type": "stream",
     "text": [
      "7qe7_F failed with status code: 404\n"
     ]
    },
    {
     "name": "stderr",
     "output_type": "stream",
     "text": [
      "404it [00:09, 38.63it/s] "
     ]
    },
    {
     "name": "stdout",
     "output_type": "stream",
     "text": [
      "8s4g_F failed with status code: 404\n"
     ]
    },
    {
     "name": "stderr",
     "output_type": "stream",
     "text": [
      "504it [00:10, 84.43it/s]"
     ]
    },
    {
     "name": "stdout",
     "output_type": "stream",
     "text": [
      "7tpq_A failed with status code: 404\n"
     ]
    },
    {
     "name": "stderr",
     "output_type": "stream",
     "text": [
      "527it [00:11, 33.89it/s]"
     ]
    },
    {
     "name": "stdout",
     "output_type": "stream",
     "text": [
      "7tpq_D failed with status code: 404\n"
     ]
    },
    {
     "name": "stderr",
     "output_type": "stream",
     "text": [
      "1159it [48:15, 12.86s/it] "
     ]
    },
    {
     "name": "stdout",
     "output_type": "stream",
     "text": [
      "7qe7_Q failed with status code: 404\n",
      "7qe7_R failed with status code: 404\n",
      "8s4g_Q failed with status code: 404\n",
      "8s4g_R failed with status code: 404\n"
     ]
    },
    {
     "name": "stderr",
     "output_type": "stream",
     "text": [
      "1279it [1:26:59,  8.41s/it] "
     ]
    },
    {
     "name": "stdout",
     "output_type": "stream",
     "text": [
      "7qe7_L failed with status code: 404\n",
      "8s4g_L failed with status code: 404\n"
     ]
    },
    {
     "name": "stderr",
     "output_type": "stream",
     "text": [
      "1369it [1:45:18,  8.90s/it]"
     ]
    },
    {
     "name": "stdout",
     "output_type": "stream",
     "text": [
      "7qe7_G failed with status code: 404\n"
     ]
    },
    {
     "name": "stderr",
     "output_type": "stream",
     "text": [
      "1370it [1:45:25,  8.22s/it]"
     ]
    },
    {
     "name": "stdout",
     "output_type": "stream",
     "text": [
      "8s4g_G failed with status code: 404\n"
     ]
    },
    {
     "name": "stderr",
     "output_type": "stream",
     "text": [
      "1379it [1:47:17, 10.75s/it]"
     ]
    },
    {
     "name": "stdout",
     "output_type": "stream",
     "text": [
      "7qe7_D failed with status code: 404\n",
      "8s4g_D failed with status code: 404\n"
     ]
    },
    {
     "name": "stderr",
     "output_type": "stream",
     "text": [
      "1430it [1:53:52, 12.62s/it]"
     ]
    },
    {
     "name": "stdout",
     "output_type": "stream",
     "text": [
      "7qe7_H failed with status code: 404\n",
      "7qe7_O failed with status code: 404\n",
      "8s4g_H failed with status code: 404\n",
      "8s4g_O failed with status code: 404\n"
     ]
    },
    {
     "name": "stderr",
     "output_type": "stream",
     "text": [
      "1506it [2:16:04, 19.25s/it] "
     ]
    }
   ],
   "source": [
    "import numpy as np\n",
    "from tqdm import tqdm\n",
    "\n",
    "mobifiles = os.listdir(\"mobidb_dev_10_2024\")\n",
    "\n",
    "os.makedirs(\"mobidb_dev_10_2024/PDB_data\", exist_ok=True)\n",
    "\n",
    "stats_dict = dict()\n",
    "\n",
    "failed_pdbs = []\n",
    "\n",
    "for i, mobifile in tqdm(enumerate(mobifiles)):\n",
    "\n",
    "    if not mobifile.endswith(\"json\"):\n",
    "        continue\n",
    "    uniprot_id = mobifile.split(\".\")[0]\n",
    "    #read json\n",
    "    with open(f\"mobidb_dev_10_2024/{mobifile}\") as f:\n",
    "        data = json.load(f)\n",
    "    \n",
    "    for k in data.keys():\n",
    "        if k.startswith(\"derived-observed-mobi-\"):\n",
    "            #print(k)\n",
    "            for l in data[k].keys():\n",
    "                #print(l, data[k][l])\n",
    "                if l == \"source_id\":\n",
    "                    pdbid, chain = data[k][l].split(\"_\")\n",
    "\n",
    "                    pdb_output_json = f\"mobidb_dev_10_2024/PDB_data/{pdbid}_{chain}.json\"\n",
    "\n",
    "                    if not os.path.exists(pdb_output_json):\n",
    "                        #print(pdbid, chain)\n",
    "                        res = requests.get(f\"https://data.rcsb.org/rest/v1/core/polymer_entity_instance/{pdbid.upper()}/{chain}\")\n",
    "                    \n",
    "                        if res.status_code == 200:\n",
    "                            #datadict = json.loads(res.content.decode())  # same as below\n",
    "                            datadict = res.json()\n",
    "                            with open(pdb_output_json, \"w\") as f:\n",
    "                                json.dump(datadict, f)\n",
    "\n",
    "                            #data = response.json()\n",
    "                        else:\n",
    "                            print(f\"{pdbid}_{chain} failed with status code:\", res.status_code)\n",
    "                            failed_pdbs.append(f\"{pdbid}_{chain}\")"
   ]
  },
  {
   "cell_type": "code",
   "execution_count": 6,
   "metadata": {},
   "outputs": [],
   "source": [
    "uniprot_id = \"P35638\"\n",
    "output_dir = \"/biodata/franco/zsuzsa_lab/jupyter/mobidb_dev_10_2024/temp\"\n",
    "url = f\"https://mobidb.org/api/download?format=json&acc={uniprot_id}\"\n",
    "if not os.path.exists(f\"{output_dir}/{uniprot_id}.json\"):\n",
    "    # use a try-except block to catch exceptions\n",
    "    try:\n",
    "        response = requests.get(url)\n",
    "        if response.status_code == 200:\n",
    "            data = response.json()\n",
    "            # save the data to a file\n",
    "            with open(f\"{output_dir}/{uniprot_id}.json\", \"w\") as f:\n",
    "                json.dump(data, f)\n",
    "        else:\n",
    "            print(f\"{uniprot_id} failed with status code:\", response.status_code)\n",
    "            failed_uniprots.append(uniprot_id)\n",
    "    except Exception as e:\n",
    "        print(f\"{uniprot_id} failed with exception:\", e)\n",
    "        failed_uniprots.append(uniprot_id)\n",
    "    time.sleep(0.5)"
   ]
  },
  {
   "cell_type": "code",
   "execution_count": 21,
   "metadata": {},
   "outputs": [
    {
     "name": "stdout",
     "output_type": "stream",
     "text": [
      "new_dict: prediction-low_complexity-merge NONE\n",
      "dev_dict: prediction-low_complexity-merge NONE\n",
      "old_dict: level NONE\n",
      "new_dict: prediction-rigidity-dynamine NONE\n",
      "dev_dict: prediction-rigidity-dynamine NONE\n",
      "old_dict: homology-msa_conservation NONE\n",
      "new_dict: prediction-disorder-vsl NONE\n",
      "dev_dict: prediction-disorder-vsl NONE\n",
      "new_dict: prediction-coil-fess NONE\n",
      "dev_dict: prediction-coil-fess NONE\n",
      "new_dict: prediction-low_complexity-pfilt NONE\n",
      "dev_dict: prediction-low_complexity-pfilt NONE\n",
      "old_dict: curated-phase_separation-merge NONE\n",
      "new_dict: prediction-sheet-fess NONE\n",
      "dev_dict: prediction-sheet-fess NONE\n",
      "old_dict: curated-phase_separation-priority NONE\n",
      "new_dict: prediction-helix-fess NONE\n",
      "dev_dict: prediction-helix-fess NONE\n",
      "old_dict: curated-phase_separation-phasepdb NONE\n",
      "old_dict: _id NONE\n",
      "new_dict: _id NONE\n"
     ]
    }
   ],
   "source": [
    "### Compare dictionary for previous and dev annotations of this protein..\n",
    "\n",
    "\n",
    "with open(f\"mobidb/{uniprot_id}.json\") as f:\n",
    "    data_old = json.load(f)\n",
    "\n",
    "with open(f\"mobidb_dev_10_2024/temp/{uniprot_id}.json\") as f:\n",
    "    data_new = json.load(f)\n",
    "\n",
    "with open(f\"mobidb_dev_10_2024/{uniprot_id}.json\") as f:\n",
    "    data_dev = json.load(f)\n",
    "\n",
    "keys_1 = set(sorted([k for k in data_old.keys()]))\n",
    "keys_2 = set(sorted([k for k in data_new.keys()]))\n",
    "keys_3 = set(sorted([k for k in data_dev.keys()]))\n",
    "\n",
    "joint = set.union(keys_1, keys_2, keys_3)\n",
    "list_equals = []\n",
    "list_olds = []\n",
    "list_k = []\n",
    "for k in joint:\n",
    "    if k in data_old:\n",
    "        old_dict = data_old[k]\n",
    "    else:\n",
    "        old_dict = None\n",
    "        print(f\"old_dict: {k} NONE\")\n",
    "    if k in data_new:\n",
    "        new_dict = data_new[k]\n",
    "    else:\n",
    "        print(f\"new_dict: {k} NONE\")\n",
    "        new_dict = None\n",
    "    if k in data_dev:\n",
    "        dev_dict = data_dev[k]\n",
    "    else:\n",
    "        dev_dict = None\n",
    "        print(f\"dev_dict: {k} NONE\")\n",
    "    #print(old_dict == new_dict)\n",
    "    list_equals.append(new_dict == dev_dict)\n",
    "    list_olds.append(new_dict == old_dict)\n",
    "    list_k.append(k)"
   ]
  },
  {
   "cell_type": "code",
   "execution_count": 23,
   "metadata": {},
   "outputs": [
    {
     "name": "stdout",
     "output_type": "stream",
     "text": [
      "0 prediction-low_complexity-merge True False\n",
      "1 level True False\n",
      "2 acc True True\n",
      "3 processing True True\n",
      "4 proteome True True\n",
      "5 prediction-rigidity-dynamine True False\n",
      "6 homology-msa_conservation True False\n",
      "7 msa_consensus True False\n",
      "8 homology-msa_occupancy-psiblast True False\n",
      "9 uniref50 True True\n",
      "10 prediction-disorder-vsl True False\n",
      "11 name True True\n",
      "12 prediction-disorder-espX True True\n",
      "13 prediction-plddt-alphafold True True\n",
      "14 prediction-disorder-dis465 True True\n",
      "15 uniref100 True True\n",
      "16 prediction-disorder-espD True True\n",
      "17 prediction-coil-fess True False\n",
      "18 prediction-disorder-espN True True\n",
      "19 prediction-low_complexity-pfilt True False\n",
      "20 curated-phase_separation-merge True False\n",
      "21 uniparc True True\n",
      "22 homology-msa_information_content-psiblast True False\n",
      "23 homology-msa_entropy-psiblast True False\n",
      "24 localization True True\n",
      "25 prediction-polyampholyte-mobidb_lite_sub True True\n",
      "26 uniref90 True True\n",
      "27 prediction-disorder-glo True True\n",
      "28 reviewed True True\n",
      "29 prediction-sheet-fess True False\n",
      "30 sequence True True\n",
      "31 prediction-disorder-disHL True True\n",
      "32 ptms True True\n",
      "33 curated-disorder-priority True True\n",
      "34 curated-phase_separation-priority True False\n",
      "35 length True True\n",
      "36 curated-disorder-disprot True False\n",
      "37 prediction-disorder-th_50 True False\n",
      "38 prediction-helix-fess True False\n",
      "39 gene True True\n",
      "40 prediction-disorder-mobidb_lite True True\n",
      "41 curated-disorder-merge True False\n",
      "42 prediction-low_complexity-mobidb_lite_sub True True\n",
      "43 prediction-disorder-iupl True True\n",
      "44 prediction-lip-priority True True\n",
      "45 prediction-disorder-priority True True\n",
      "46 prediction-low_complexity-seg True True\n",
      "47 organism True True\n",
      "48 prediction-disorder-iups True True\n",
      "49 taxonomy True True\n",
      "50 prediction-lip-alphafold True True\n",
      "51 prediction-disorder-alphafold True True\n",
      "52 ncbi_taxon_id True True\n",
      "53 curated-phase_separation-phasepdb True False\n",
      "54 _id False True\n",
      "55 prediction-lip-anchor True False\n"
     ]
    }
   ],
   "source": [
    "for i in range(len(list_equals)):\n",
    "    print(i, list_k[i], list_equals[i], list_olds[i])"
   ]
  },
  {
   "cell_type": "code",
   "execution_count": 38,
   "metadata": {},
   "outputs": [
    {
     "name": "stdout",
     "output_type": "stream",
     "text": [
      "curated-disorder-disprot {'source_id': 'DP00071', 'regions': [[1, 156]], 'content_fraction': 0.419, 'content_count': 156}\n",
      "curated-disorder-merge {'regions': [[1, 156]], 'content_fraction': 0.419, 'content_count': 156}\n",
      "prediction-disorder-priority {'regions': [[157, 160], [228, 372]], 'content_fraction': 0.401, 'content_count': 149}\n",
      "curated-disorder-priority {'regions': [[1, 156]], 'content_fraction': 0.419, 'content_count': 156}\n",
      "prediction-low_complexity-merge {'regions': [[39, 69], [133, 147], [224, 254], [273, 323], [346, 356]], 'content_count': 139, 'content_fraction': 0.374}\n",
      "prediction-disorder-alphafold {'scores': [0.837, 0.826, 0.832, 0.829, 0.824, 0.825, 0.818, 0.815, 0.804, 0.801, 0.798, 0.786, 0.788, 0.785, 0.789, 0.787, 0.797, 0.797, 0.799, 0.801, 0.796, 0.812, 0.812, 0.816, 0.831, 0.843, 0.86, 0.87, 0.879, 0.885, 0.894, 0.9, 0.905, 0.917, 0.917, 0.925, 0.938, 0.94, 0.94, 0.936, 0.936, 0.926, 0.918, 0.918, 0.913, 0.92, 0.911, 0.91, 0.907, 0.908, 0.906, 0.91, 0.915, 0.911, 0.909, 0.914, 0.909, 0.909, 0.908, 0.907, 0.911, 0.904, 0.904, 0.9, 0.893, 0.897, 0.891, 0.898, 0.894, 0.897, 0.897, 0.904, 0.898, 0.902, 0.907, 0.909, 0.897, 0.897, 0.901, 0.894, 0.894, 0.901, 0.893, 0.893, 0.897, 0.891, 0.894, 0.894, 0.892, 0.896, 0.887, 0.894, 0.892, 0.894, 0.893, 0.892, 0.887, 0.89, 0.888, 0.874, 0.874, 0.885, 0.879, 0.876, 0.885, 0.882, 0.868, 0.876, 0.871, 0.866, 0.865, 0.864, 0.859, 0.861, 0.861, 0.87, 0.877, 0.872, 0.87, 0.875, 0.869, 0.871, 0.879, 0.877, 0.891, 0.885, 0.887, 0.894, 0.894, 0.895, 0.899, 0.906, 0.902, 0.908, 0.907, 0.913, 0.919, 0.913, 0.92, 0.926, 0.925, 0.918, 0.923, 0.925, 0.922, 0.919, 0.913, 0.909, 0.909, 0.908, 0.912, 0.908, 0.891, 0.888, 0.887, 0.859, 0.845, 0.842, 0.828, 0.802, 0.771, 0.758, 0.737, 0.698, 0.673, 0.653, 0.636, 0.6, 0.593, 0.58, 0.566, 0.55, 0.544, 0.514, 0.491, 0.474, 0.463, 0.455, 0.431, 0.416, 0.427, 0.41, 0.38, 0.381, 0.392, 0.386, 0.397, 0.392, 0.411, 0.412, 0.417, 0.418, 0.417, 0.407, 0.402, 0.393, 0.38, 0.373, 0.39, 0.38, 0.372, 0.368, 0.373, 0.382, 0.384, 0.384, 0.404, 0.428, 0.429, 0.431, 0.454, 0.439, 0.451, 0.456, 0.468, 0.474, 0.49, 0.522, 0.532, 0.55, 0.578, 0.609, 0.624, 0.639, 0.673, 0.7, 0.716, 0.736, 0.756, 0.771, 0.788, 0.8, 0.811, 0.821, 0.833, 0.844, 0.86, 0.879, 0.894, 0.902, 0.909, 0.918, 0.916, 0.917, 0.92, 0.925, 0.928, 0.926, 0.919, 0.914, 0.909, 0.91, 0.904, 0.902, 0.898, 0.893, 0.896, 0.898, 0.898, 0.903, 0.905, 0.904, 0.906, 0.904, 0.905, 0.905, 0.903, 0.912, 0.917, 0.909, 0.907, 0.911, 0.903, 0.911, 0.909, 0.912, 0.91, 0.916, 0.911, 0.911, 0.913, 0.913, 0.912, 0.912, 0.915, 0.91, 0.912, 0.914, 0.914, 0.918, 0.917, 0.916, 0.914, 0.907, 0.915, 0.911, 0.911, 0.923, 0.923, 0.93, 0.931, 0.934, 0.935, 0.928, 0.931, 0.93, 0.927, 0.931, 0.927, 0.921, 0.917, 0.918, 0.917, 0.908, 0.909, 0.908, 0.909, 0.906, 0.911, 0.9, 0.902, 0.903, 0.902, 0.899, 0.897, 0.896, 0.893, 0.888, 0.899, 0.897, 0.892, 0.895, 0.891, 0.889, 0.889, 0.899, 0.888, 0.887, 0.897, 0.895, 0.887, 0.887, 0.888, 0.891, 0.901, 0.905, 0.893, 0.893, 0.892, 0.885, 0.884, 0.877, 0.879, 0.881, 0.88, 0.884, 0.887, 0.881, 0.879, 0.885, 0.877, 0.878, 0.881, 0.875, 0.875, 0.887, 0.887, 0.88, 0.878, 0.871, 0.867, 0.877], 'content_fraction': 0.86, 'content_count': 320, 'regions': [[1, 169], [222, 372]]}\n",
      "prediction-plddt-alphafold {'scores': [0.504, 0.467, 0.542, 0.48, 0.685, 0.514, 0.48, 0.529, 0.639, 0.694, 0.563, 0.758, 0.598, 0.707, 0.71, 0.68, 0.611, 0.627, 0.58, 0.541, 0.511, 0.5, 0.47, 0.363, 0.453, 0.434, 0.413, 0.401, 0.435, 0.386, 0.376, 0.389, 0.376, 0.498, 0.39, 0.432, 0.454, 0.461, 0.441, 0.406, 0.415, 0.47, 0.438, 0.511, 0.449, 0.507, 0.501, 0.674, 0.574, 0.435, 0.524, 0.482, 0.562, 0.454, 0.42, 0.514, 0.414, 0.49, 0.421, 0.447, 0.452, 0.442, 0.474, 0.48, 0.431, 0.452, 0.428, 0.53, 0.447, 0.54, 0.447, 0.462, 0.458, 0.485, 0.524, 0.459, 0.411, 0.461, 0.419, 0.467, 0.394, 0.45, 0.515, 0.424, 0.425, 0.445, 0.501, 0.407, 0.387, 0.372, 0.382, 0.443, 0.451, 0.414, 0.423, 0.398, 0.509, 0.625, 0.471, 0.415, 0.439, 0.349, 0.493, 0.41, 0.384, 0.34, 0.374, 0.371, 0.465, 0.454, 0.482, 0.396, 0.55, 0.386, 0.396, 0.446, 0.493, 0.543, 0.525, 0.622, 0.625, 0.54, 0.593, 0.572, 0.561, 0.543, 0.554, 0.563, 0.52, 0.513, 0.52, 0.429, 0.515, 0.418, 0.595, 0.573, 0.47, 0.493, 0.462, 0.539, 0.414, 0.48, 0.473, 0.438, 0.435, 0.497, 0.429, 0.448, 0.464, 0.483, 0.518, 0.461, 0.557, 0.571, 0.569, 0.61, 0.603, 0.614, 0.67, 0.687, 0.709, 0.803, 0.803, 0.882, 0.907, 0.907, 0.947, 0.974, 0.981, 0.981, 0.983, 0.984, 0.984, 0.984, 0.985, 0.987, 0.984, 0.983, 0.981, 0.984, 0.977, 0.977, 0.977, 0.976, 0.984, 0.979, 0.983, 0.982, 0.982, 0.983, 0.985, 0.985, 0.985, 0.985, 0.986, 0.984, 0.981, 0.98, 0.983, 0.98, 0.984, 0.985, 0.984, 0.981, 0.986, 0.984, 0.983, 0.984, 0.986, 0.983, 0.981, 0.979, 0.981, 0.979, 0.959, 0.94, 0.954, 0.94, 0.909, 0.887, 0.892, 0.881, 0.86, 0.842, 0.86, 0.823, 0.802, 0.767, 0.754, 0.69, 0.631, 0.607, 0.603, 0.55, 0.515, 0.483, 0.461, 0.408, 0.399, 0.419, 0.387, 0.417, 0.452, 0.384, 0.484, 0.433, 0.437, 0.395, 0.466, 0.47, 0.471, 0.493, 0.519, 0.536, 0.462, 0.582, 0.518, 0.498, 0.615, 0.563, 0.526, 0.62, 0.61, 0.587, 0.644, 0.502, 0.519, 0.404, 0.499, 0.543, 0.404, 0.49, 0.387, 0.425, 0.5, 0.495, 0.433, 0.455, 0.416, 0.447, 0.431, 0.431, 0.49, 0.409, 0.444, 0.525, 0.423, 0.395, 0.462, 0.447, 0.39, 0.415, 0.511, 0.442, 0.378, 0.42, 0.434, 0.356, 0.432, 0.401, 0.404, 0.333, 0.406, 0.381, 0.445, 0.431, 0.443, 0.399, 0.444, 0.431, 0.405, 0.437, 0.468, 0.457, 0.461, 0.412, 0.568, 0.572, 0.449, 0.463, 0.556, 0.58, 0.488, 0.497, 0.507, 0.433, 0.517, 0.412, 0.584, 0.437, 0.492, 0.464, 0.484, 0.521, 0.45, 0.537, 0.429, 0.643, 0.455, 0.413, 0.467, 0.423, 0.511, 0.489, 0.478, 0.425, 0.433, 0.474, 0.428, 0.467, 0.514, 0.413, 0.385, 0.421, 0.4, 0.41, 0.44, 0.378, 0.391, 0.371, 0.457, 0.416, 0.415, 0.384, 0.48, 0.432, 0.46, 0.45, 0.411, 0.476, 0.474, 0.405], 'content_fraction': 0.194, 'content_count': 72, 'regions': [[161, 229]]}\n",
      "prediction-disorder-mobidb_lite {'regions': [[219, 258], [269, 288], [312, 340]], 'content_count': 89, 'content_fraction': 0.239, 'scores': [0.875, 0.75, 0.875, 0.875, 0.75, 0.625, 0.75, 0.875, 0.75, 0.875, 0.75, 0.625, 0.625, 0.625, 0.5, 0.375, 0.25, 0.25, 0.25, 0.25, 0.25, 0.375, 0.25, 0.25, 0.25, 0.25, 0.375, 0.5, 0.375, 0.375, 0.375, 0.375, 0.25, 0.25, 0.25, 0.25, 0.125, 0.25, 0.25, 0.25, 0.25, 0.125, 0.25, 0.375, 0.375, 0.375, 0.375, 0.375, 0.375, 0.375, 0.375, 0.5, 0.5, 0.5, 0.375, 0.375, 0.25, 0.375, 0.25, 0.25, 0.125, 0.125, 0.125, 0.125, 0.125, 0.125, 0.125, 0.125, 0.125, 0.125, 0.125, 0.125, 0.125, 0.125, 0.125, 0.125, 0.125, 0.125, 0.25, 0.25, 0.25, 0.25, 0.25, 0.25, 0.25, 0.25, 0.25, 0.25, 0.25, 0.25, 0.25, 0.25, 0.25, 0.375, 0.375, 0.375, 0.375, 0.5, 0.5, 0.5, 0.5, 0.5, 0.5, 0.5, 0.375, 0.375, 0.375, 0.375, 0.375, 0.375, 0.5, 0.5, 0.375, 0.25, 0.375, 0.375, 0.25, 0.25, 0.25, 0.25, 0.25, 0.25, 0.25, 0.25, 0.5, 0.375, 0.375, 0.375, 0.25, 0.25, 0.25, 0.25, 0.25, 0.25, 0.25, 0.25, 0.25, 0.25, 0.375, 0.375, 0.375, 0.375, 0.375, 0.375, 0.25, 0.375, 0.375, 0.375, 0.375, 0.375, 0.375, 0.375, 0.5, 0.5, 0.625, 0.625, 0.75, 0.625, 0.5, 0.5, 0.5, 0.375, 0.25, 0.375, 0.25, 0.125, 0.25, 0.25, 0.125, 0.125, 0.125, 0, 0, 0, 0, 0, 0, 0, 0, 0.25, 0.25, 0.25, 0.125, 0.25, 0.25, 0.25, 0.25, 0.25, 0.125, 0.125, 0.25, 0.25, 0.25, 0.25, 0.25, 0.375, 0.375, 0.25, 0.25, 0.25, 0.25, 0.125, 0.125, 0.125, 0.125, 0, 0, 0, 0.25, 0.125, 0.25, 0.25, 0.25, 0.125, 0.125, 0.375, 0.375, 0.5, 0.625, 0.625, 0.625, 0.625, 0.625, 0.625, 0.625, 0.625, 0.625, 0.625, 0.75, 0.75, 0.75, 0.75, 0.75, 0.75, 0.75, 0.75, 0.75, 0.75, 0.75, 0.75, 0.75, 0.75, 0.75, 0.75, 0.75, 0.75, 0.75, 0.75, 0.625, 0.625, 0.625, 0.625, 0.75, 0.75, 0.75, 0.75, 0.625, 0.625, 0.5, 0.5, 0.5, 0.5, 0.5, 0.5, 0.5, 0.5, 0.5, 0.5, 0.625, 0.625, 0.625, 0.75, 0.75, 0.75, 0.75, 0.75, 0.75, 0.75, 0.75, 0.75, 0.75, 0.625, 0.625, 0.625, 0.625, 0.625, 0.625, 0.625, 0.375, 0.5, 0.5, 0.5, 0.375, 0.5, 0.375, 0.375, 0.375, 0.375, 0.375, 0.375, 0.5, 0.5, 0.5, 0.375, 0.375, 0.375, 0.375, 0.5, 0.5, 0.5, 0.5, 0.625, 0.625, 0.625, 0.625, 0.625, 0.75, 0.75, 0.75, 0.75, 0.75, 0.75, 0.75, 0.75, 0.75, 0.75, 0.75, 0.75, 0.75, 0.75, 0.75, 0.625, 0.625, 0.625, 0.625, 0.625, 0.625, 0.625, 0.625, 0.625, 0.5, 0.5, 0.5, 0.5, 0.5, 0.5, 0.5, 0.5, 0.5, 0.5, 0.625, 0.625, 0.625, 0.625, 0.625, 0.5, 0.5, 0.5, 0.5, 0.5, 0.5, 0.375, 0.5, 0.375, 0.25, 0.25, 0.375, 0.5, 0.5, 0.75, 0.625, 0.625]}\n"
     ]
    },
    {
     "data": {
      "image/png": "[encoded data removed]",
      "text/plain": [
       "<Figure size 640x480 with 1 Axes>"
      ]
     },
     "metadata": {},
     "output_type": "display_data"
    }
   ],
   "source": [
    "import matplotlib.pyplot as plt\n",
    "\n",
    "#read json\n",
    "with open(\"mobidb/P23441.json\") as f:\n",
    "    data = json.load(f)\n",
    "\n",
    "L = data['length']\n",
    "msa_entropy = [\"homology-msa_entropy-psiblast\",\"homology-msa_entropy-hhblits\"]\n",
    "disorder_keys = [\"curated-disorder-disprot\",\"curated-disorder-merge\",\"prediction-disorder-alphafold\",\"prediction-disorder-mobidb_lite\"]\n",
    "mykeys = [\"curated-disorder-disprot\",\"curated-disorder-merge\",\"prediction-disorder-priority\",\"curated-disorder-priority\",\"curated-binding_mode_disorder_to_disorder-priority\",\"prediction-low_complexity-merge\",\"prediction-disorder-alphafold\",\"prediction-plddt-alphafold\",\"prediction-disorder-mobidb_lite\"]\n",
    "for i,k in enumerate(mykeys):\n",
    "    if k in data:\n",
    "        print(k, data[k])\n",
    "        plt.plot([0, L], [i, i], color='blue')\n",
    "        # for each key, if it contains a 'regions' key, then plot the regions in red, the rest in blue. The x-axis should be the of length L\n",
    "        if 'regions' in data[k]:\n",
    "            for region in data[k]['regions']:\n",
    "                plt.plot([region[0], region[1]], [i, i], color='red')        \n",
    "        # add a label to each line in the plot\n",
    "        plt.text(L, i, k, fontsize=12, verticalalignment=\"center\")\n",
    "plt.show()\n"
   ]
  }
 ],
 "metadata": {
  "kernelspec": {
   "display_name": "Python 3",
   "language": "python",
   "name": "python3"
  },
  "language_info": {
   "codemirror_mode": {
    "name": "ipython",
    "version": 3
   },
   "file_extension": ".py",
   "mimetype": "text/x-python",
   "name": "python",
   "nbconvert_exporter": "python",
   "pygments_lexer": "ipython3",
   "version": "3.9.19"
  }
 },
 "nbformat": 4,
 "nbformat_minor": 2
}
