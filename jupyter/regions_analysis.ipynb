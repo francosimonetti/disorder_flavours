{
 "cells": [
  {
   "cell_type": "code",
   "execution_count": 1,
   "id": "d2b64584-32e8-4c0a-b4ee-033c45dc8360",
   "metadata": {},
   "outputs": [],
   "source": [
    "import os\n",
    "import numpy as np\n",
    "import warnings\n",
    "warnings.simplefilter(action='ignore', category=FutureWarning)\n",
    "\n",
    "import pandas as pd\n",
    "from Bio import SeqIO\n",
    "import matplotlib.pyplot as plt\n",
    "import seaborn as sns\n",
    "from matplotlib import cm\n",
    "from matplotlib.patches import Patch\n",
    "import mpl_stylesheet\n",
    "import re\n",
    "import gc\n",
    "mpl_stylesheet.banskt_presentation(fontfamily = 'mono', fontsize = 20, colors = 'banskt', dpi = 300)"
   ]
  },
  {
   "cell_type": "code",
   "execution_count": 2,
   "id": "f780e3dc-e0ee-4743-bc1c-b46acb890bc0",
   "metadata": {},
   "outputs": [
    {
     "name": "stdout",
     "output_type": "stream",
     "text": [
      "Loaded 2145 proteins\n"
     ]
    }
   ],
   "source": [
    "# Load the data\n",
    "import json\n",
    "import collections\n",
    "\n",
    "datadict = collections.defaultdict(dict)\n",
    "for record in SeqIO.parse(\"disprot_OK_fullset.fasta\", \"fasta\"):\n",
    "    uniprot_id = record.id\n",
    "    seq = str(record.seq)\n",
    "    datadict[uniprot_id]['seq'] = seq\n",
    "\n",
    "for record in SeqIO.parse(\"disprot_OK_fullset_annotations.fasta\", \"fasta\"):\n",
    "    uniprot_id = record.id\n",
    "    seq = str(record.seq)\n",
    "    datadict[uniprot_id]['disorder'] = seq\n",
    "\n",
    "print(f\"Loaded {len(datadict.keys())} proteins\")"
   ]
  },
  {
   "cell_type": "code",
   "execution_count": 4,
   "id": "d0aeb9db-0674-4e10-a227-3b7034f2f5a9",
   "metadata": {},
   "outputs": [
    {
     "name": "stdout",
     "output_type": "stream",
     "text": [
      "Loaded 2145 proteins\n"
     ]
    }
   ],
   "source": [
    "AA2num = dict(zip(sorted(list(set([i for i in datadict[\"P19793\"]['seq']]))),np.arange(20)))\n",
    "AA2num['</s>'] = 20\n",
    "AA2num['X'] = 21\n",
    "num2AA = dict(zip(np.arange(20),sorted(list(set([i for i in datadict[\"P19793\"]['seq']])))))\n",
    "num2AA[20] = \"</s>\"\n",
    "num2AA[21] = \"X\"\n",
    "AAsize = len(list(AA2num.keys()))\n",
    "\n",
    "uniprots = list(datadict.keys())\n",
    "delcounter = 0\n",
    "for unip in uniprots:\n",
    "    lossfile = f\"loss/{unip}.json\"\n",
    "    if os.path.exists(lossfile):\n",
    "        #print(unip)\n",
    "        with open(lossfile) as instrm:\n",
    "            lossdict = json.load(instrm)\n",
    "        datadict[unip][\"aamask_1\"] = lossdict[unip][\"aamask_1\"]\n",
    "    else:\n",
    "        del(datadict[unip])\n",
    "        delcounter += 1\n",
    "\n",
    "print(f\"Loaded {len(datadict.keys())} proteins\")"
   ]
  },
  {
   "cell_type": "code",
   "execution_count": 17,
   "id": "76d16379-21fa-498e-b794-952a21ab2267",
   "metadata": {},
   "outputs": [],
   "source": [
    "### Do a per-region analysis\n",
    "import copy\n",
    "\n",
    "def get_regions(diso_ix):\n",
    "    local_acum = 0\n",
    "    current_status = None\n",
    "    this_regions = list()\n",
    "    for e in diso_ix:\n",
    "        if current_status is None:\n",
    "            current_status = copy.copy(e)\n",
    "            local_acum += 1\n",
    "        if e is current_status:\n",
    "            local_acum += 1\n",
    "        else:\n",
    "            this_regions.append([local_acum, current_status])\n",
    "            current_status = e\n",
    "            local_acum = 1\n",
    "    this_regions.append([local_acum, current_status])\n",
    "    return this_regions\n",
    "    \n",
    "protlengths = list()\n",
    "regions_dict = dict()\n",
    "regions_disorder_length = list()\n",
    "regions_order_length = list()\n",
    "regions_disorder_length_large = list()\n",
    "regions_order_length_large = list()\n",
    "for unip in datadict:\n",
    "    L = len(datadict[unip]['seq'])\n",
    "    protlengths.append(L)\n",
    "    this_seq = datadict[unip]['seq']\n",
    "    diso_ix = [True if e != \"-\" else False for e in datadict[unip]['disorder'] ]\n",
    "    #loss = np.array(datadict[unip]['aamask_1']['loss'])\n",
    "    #matches = datadict[unip]['aamask_1']['match']\n",
    "    #seq_pos = np.arange(len(matches))\n",
    "    regions = get_regions(diso_ix) # [(378, False), (12, True), (38, False), (22, True), (63, False)]\n",
    "    if L < 700:\n",
    "        regions_dict[unip] = regions\n",
    "        for r in regions:\n",
    "            if r[1]:\n",
    "                regions_disorder_length.append(r[0])\n",
    "            else:\n",
    "                regions_order_length.append(r[0])\n",
    "    else:\n",
    "        #regions_dict[unip] = regions\n",
    "        for r in regions:\n",
    "            if r[1]:\n",
    "                regions_disorder_length_large.append(r[0])\n",
    "            else:\n",
    "                regions_order_length_large.append(r[0])"
   ]
  },
  {
   "cell_type": "code",
   "execution_count": 20,
   "id": "45ed3e0a-672b-41ec-8085-33a461e3b4c6",
   "metadata": {},
   "outputs": [
    {
     "data": {
      "image/png": "[encoded data removed]",
      "text/plain": [
       "<Figure size 864x432 with 2 Axes>"
      ]
     },
     "metadata": {},
     "output_type": "display_data"
    }
   ],
   "source": [
    "# regions length distribution\n",
    "\n",
    "fig = plt.figure(figsize=(12,6), dpi=72)\n",
    "ax1 = fig.add_subplot(121)\n",
    "ax2 = fig.add_subplot(122)\n",
    "ax1.hist(regions_order_length, label=\"order\", alpha=0.4)\n",
    "ax1.hist(regions_disorder_length, label=\"disorder\", alpha=0.4)\n",
    "ax1.set_xlabel(\"Prot length < 700\")\n",
    "ax2.hist(regions_order_length_large, label=\"order\", alpha=0.4)\n",
    "ax2.hist(regions_disorder_length_large, label=\"disorder\", alpha=0.4)\n",
    "ax2.set_xlabel(\"Prot length > 700\")\n",
    "plt.legend()\n",
    "plt.show()"
   ]
  },
  {
   "cell_type": "code",
   "execution_count": 26,
   "id": "24a47505-0196-416e-af0b-97366ad1ac15",
   "metadata": {},
   "outputs": [],
   "source": [
    "\n",
    "disordered_region_match_acum = list()\n",
    "ordered_region_match_acum    = list()\n",
    "for unip in regions_dict:\n",
    "    matches = datadict[unip]['aamask_1']['match']\n",
    "    start_acum = 0\n",
    "    for region in regions_dict[unip]:\n",
    "        if region[1]: #disordered region\n",
    "            this_matches = matches[start_acum:start_acum+region[0]]\n",
    "            for i,m in enumerate(this_matches):\n",
    "                if m:\n",
    "                    disordered_region_match_acum.append(i/region[0])\n",
    "        else:\n",
    "            this_matches = matches[start_acum:start_acum+region[0]]\n",
    "            for i,m in enumerate(this_matches):\n",
    "                if m:\n",
    "                    ordered_region_match_acum.append(i/region[0])\n",
    "        start_acum += region[0]"
   ]
  },
  {
   "cell_type": "code",
   "execution_count": 30,
   "id": "507af1c1-69a3-4565-8cb0-122027801a4f",
   "metadata": {},
   "outputs": [
    {
     "data": {
      "image/png": "[encoded data removed]",
      "text/plain": [
       "<Figure size 576x576 with 1 Axes>"
      ]
     },
     "metadata": {},
     "output_type": "display_data"
    }
   ],
   "source": [
    "fig = plt.figure(figsize=(8,8), dpi=72)\n",
    "plt.hist(ordered_region_match_acum, bins=50, alpha=0.3)\n",
    "plt.hist(disordered_region_match_acum, bins=50, alpha=0.3)\n",
    "plt.show()"
   ]
  },
  {
   "cell_type": "code",
   "execution_count": null,
   "id": "cc40a23d-6adf-4833-9631-42a56daad641",
   "metadata": {},
   "outputs": [],
   "source": []
  }
 ],
 "metadata": {
  "kernelspec": {
   "display_name": "Python 3 (ipykernel)",
   "language": "python",
   "name": "python3"
  },
  "language_info": {
   "codemirror_mode": {
    "name": "ipython",
    "version": 3
   },
   "file_extension": ".py",
   "mimetype": "text/x-python",
   "name": "python",
   "nbconvert_exporter": "python",
   "pygments_lexer": "ipython3",
   "version": "3.10.10"
  }
 },
 "nbformat": 4,
 "nbformat_minor": 5
}
