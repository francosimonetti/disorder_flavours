{
 "cells": [
  {
   "cell_type": "code",
   "execution_count": 4,
   "metadata": {},
   "outputs": [],
   "source": [
    "disprot_sequencefile = \"/biodata/franco/zsuzsa_lab/disprot_OK_fullset_12_2023.fasta\"\n",
    "monomer_sequencefile = \"/biodata/franco/zsuzsa_lab/monomer_OK_fullset.fasta\"\n",
    "\n",
    "disprot_annotationsfile = \"/biodata/franco/zsuzsa_lab/disprot_OK_fullset_annotations_12_2023.fasta\"\n",
    "monomer_annotationsfile = \"/biodata/franco/zsuzsa_lab/monomer_OK_fullset_annotations.fasta\"\n",
    "\n",
    "from Bio import SeqIO\n",
    "\n",
    "disprot_sequences = [str(r.seq) for r in list(SeqIO.parse(disprot_sequencefile, \"fasta\"))]\n",
    "disprot_annotations = [str(r.seq) for r in list(SeqIO.parse(disprot_annotationsfile, \"fasta\"))]\n",
    "\n",
    "monomer_sequences = [str(r.seq) for r in list(SeqIO.parse(monomer_sequencefile, \"fasta\"))]\n",
    "monomer_annotations = [str(r.seq) for r in list(SeqIO.parse(monomer_annotationsfile, \"fasta\"))]"
   ]
  },
  {
   "cell_type": "code",
   "execution_count": 5,
   "metadata": {},
   "outputs": [],
   "source": [
    "from collections import defaultdict\n",
    "\n",
    "disprot_disorder_distrib_dict = defaultdict(int)\n",
    "disprot_order_distrib_dict = defaultdict(int)\n",
    "\n",
    "monomer_disorder_distrib_dict = defaultdict(int)\n",
    "monomer_order_distrib_dict = defaultdict(int)\n",
    "\n",
    "for i in range(len(disprot_sequences)):\n",
    "    this_seq = disprot_sequences[i]\n",
    "    this_annot = disprot_annotations[i]\n",
    "    if len(this_seq) != len(this_annot):\n",
    "        print(\"Error: sequence and annotation length mismatch for disprot sequence\", i)\n",
    "    else:\n",
    "        for j in range(len(this_seq)):\n",
    "            if this_annot[j] != \"-\":\n",
    "                disprot_disorder_distrib_dict[this_seq[j]] += 1\n",
    "            else:\n",
    "                disprot_order_distrib_dict[this_seq[j]] += 1\n",
    "\n",
    "for i in range(len(monomer_sequences)):\n",
    "    this_seq = monomer_sequences[i]\n",
    "    this_annot = monomer_annotations[i]\n",
    "    if len(this_seq) != len(this_annot):\n",
    "        print(\"Error: sequence and annotation length mismatch for monomer sequence\", i)\n",
    "    else:\n",
    "        for j in range(len(this_seq)):\n",
    "            if this_annot[j] != \"-\":\n",
    "                monomer_disorder_distrib_dict[this_seq[j]] += 1\n",
    "            else:\n",
    "                monomer_order_distrib_dict[this_seq[j]] += 1"
   ]
  },
  {
   "cell_type": "code",
   "execution_count": 6,
   "metadata": {},
   "outputs": [
    {
     "name": "stdout",
     "output_type": "stream",
     "text": [
      "defaultdict(<class 'int'>, {'M': 3821, 'Q': 9339, 'R': 9875, 'G': 14592, 'N': 8027, 'F': 4730, 'K': 13346, 'E': 16201, 'A': 14951, 'L': 12092, 'I': 6058, 'W': 1257, 'P': 13251, 'S': 17279, 'Y': 3731, 'D': 11718, 'T': 10274, 'H': 3740, 'V': 8773, 'C': 1638, 'Z': 1})\n",
      "defaultdict(<class 'int'>, {'M': 14810, 'G': 41374, 'A': 44377, 'R': 34195, 'S': 45756, 'V': 39505, 'L': 59063, 'E': 43459, 'D': 33692, 'W': 7413, 'K': 38011, 'I': 31689, 'P': 34852, 'Y': 19034, 'H': 14402, 'F': 24168, 'N': 26161, 'T': 32925, 'C': 10887, 'Q': 27832, 'U': 1, 'X': 1})\n",
      "defaultdict(<class 'int'>, {'R': 29641, 'S': 36004, 'L': 54126, 'T': 31958, 'A': 46284, 'D': 35565, 'E': 39551, 'Y': 21425, 'K': 35487, 'I': 33111, 'Q': 22839, 'P': 26680, 'C': 7858, 'W': 8569, 'M': 11499, 'V': 41267, 'G': 41335, 'H': 13779, 'F': 24344, 'N': 25958, 'X': 286, 'B': 1})\n",
      "defaultdict(<class 'int'>, {'S': 4209, 'D': 1968, 'T': 1829, 'M': 1806, 'A': 2842, 'Q': 1365, 'N': 1600, 'P': 1855, 'K': 2098, 'W': 162, 'C': 174, 'G': 3802, 'H': 4968, 'E': 2504, 'L': 2056, 'Y': 506, 'V': 1464, 'I': 932, 'R': 1647, 'F': 684, 'X': 22})\n"
     ]
    }
   ],
   "source": [
    "print(disprot_disorder_distrib_dict)\n",
    "print(disprot_order_distrib_dict)\n",
    "print(monomer_order_distrib_dict)\n",
    "print(monomer_disorder_distrib_dict)\n",
    "\n",
    "import json\n",
    "\n",
    "## write dictionaries to json\n",
    "with open(\"disprot_disorder_distrib_dict.json\", \"w\") as f:\n",
    "    json.dump(disprot_disorder_distrib_dict, f)\n",
    "\n",
    "with open(\"disprot_order_distrib_dict.json\", \"w\") as f:\n",
    "    json.dump(disprot_order_distrib_dict, f)\n",
    "\n",
    "with open(\"monomer_order_distrib_dict.json\", \"w\") as f:\n",
    "    json.dump(monomer_order_distrib_dict, f)\n",
    "\n",
    "with open(\"monomer_disorder_distrib_dict.json\", \"w\") as f:\n",
    "    json.dump(monomer_disorder_distrib_dict, f)"
   ]
  },
  {
   "cell_type": "code",
   "execution_count": 8,
   "metadata": {},
   "outputs": [
    {
     "name": "stdout",
     "output_type": "stream",
     "text": [
      "M 2.06882735768352\n",
      "Q 5.056471785764562\n",
      "R 5.346681538111688\n",
      "G 7.900635645987417\n",
      "N 4.346107615840255\n",
      "F 2.5609927772423577\n",
      "K 7.226006259001375\n",
      "E 8.771806339133919\n",
      "A 8.095011207727376\n",
      "L 6.547045383174331\n",
      "I 3.2800199248486686\n",
      "W 0.6805851841424193\n",
      "P 7.174569829014478\n",
      "S 9.35547446045892\n",
      "Y 2.0200981082222484\n",
      "D 6.344548279857494\n",
      "T 5.562714544056655\n",
      "H 2.024971033168376\n",
      "V 4.750018950263679\n",
      "C 0.8868723401951335\n",
      "Z 0.0005414361051252342\n"
     ]
    }
   ],
   "source": [
    "total = sum([disprot_disorder_distrib_dict[aa] for aa in disprot_disorder_distrib_dict.keys()])\n",
    "for aa in disprot_disorder_distrib_dict.keys():\n",
    "    print(aa, disprot_disorder_distrib_dict[aa]/total * 100)"
   ]
  }
 ],
 "metadata": {
  "kernelspec": {
   "display_name": "Python 3",
   "language": "python",
   "name": "python3"
  },
  "language_info": {
   "codemirror_mode": {
    "name": "ipython",
    "version": 3
   },
   "file_extension": ".py",
   "mimetype": "text/x-python",
   "name": "python",
   "nbconvert_exporter": "python",
   "pygments_lexer": "ipython3",
   "version": "3.9.19"
  }
 },
 "nbformat": 4,
 "nbformat_minor": 2
}
