{
 "cells": [
  {
   "cell_type": "code",
   "execution_count": 11,
   "metadata": {},
   "outputs": [],
   "source": [
    "from Bio import SeqIO\n",
    "import os\n",
    "\n",
    "os.chdir(\"/biodata/franco/zsuzsa_lab/jupyter\")\n",
    "\n",
    "# read proteome sequences\n",
    "# yeast proteome\n",
    "\n",
    "yeast_seq_dict = dict()\n",
    "with open(\"../uniprotkb_proteome_UP000002311_2024_06_17.fasta\") as instrm:\n",
    "    yeast_handler = SeqIO.parse(instrm, \"fasta\")\n",
    "    for seq in yeast_handler:\n",
    "        yeast_seq_dict[seq.id] = str(seq.seq)\n",
    "\n",
    "# human proteome\n",
    "human_seq_dict = dict()\n",
    "with open(\"../uniprotkb_proteome_UP000005640_2024_06_17.fasta\") as instrm:\n",
    "    human_handler = SeqIO.parse(instrm, \"fasta\")\n",
    "    for seq in human_handler:\n",
    "        human_seq_dict[seq.id] = str(seq.seq)"
   ]
  },
  {
   "cell_type": "code",
   "execution_count": 18,
   "metadata": {},
   "outputs": [
    {
     "name": "stdout",
     "output_type": "stream",
     "text": [
      "seqs larger than 600aa in yeast: 1314\n",
      "seqs larger than 600aa in human: 10075\n"
     ]
    }
   ],
   "source": [
    "# make a histogram of sequence lengths for both proteomes\n",
    "\n",
    "import matplotlib.pyplot as plt\n",
    "\n",
    "yeast_seq_lengths = [len(seq) for seq in yeast_seq_dict.values()]\n",
    "human_seq_lengths = [len(seq) for seq in human_seq_dict.values()]\n",
    "\n",
    "# How many sequences larger than 600 in length?\n",
    "nlarge_seqs_yeast = sum([1 for length in yeast_seq_lengths if (length > 600) and (length < 1200)])\n",
    "nlarge_seqs_human = sum([1 for length in human_seq_lengths if (length > 600) and (length < 1200)])\n",
    "print(f\"seqs larger than 600aa in yeast: {nlarge_seqs_yeast}\")\n",
    "print(f\"seqs larger than 600aa in human: {nlarge_seqs_human}\")\n"
   ]
  },
  {
   "cell_type": "code",
   "execution_count": 22,
   "metadata": {},
   "outputs": [],
   "source": [
    "# save this two sets of proteins with those length restrictions up to 1000 proteins\n",
    "\n",
    "hcounter = 0\n",
    "with open(\"human_proteome_600_to_1200aa.fasta\", 'w') as outstream:\n",
    "    for uid in human_seq_dict.keys():\n",
    "        uniprot_id = uid.split(\"|\")[1]\n",
    "        seq = human_seq_dict[uid]\n",
    "        if hcounter >= 1000:\n",
    "            break\n",
    "        if (len(seq) > 600) and (len(seq) < 1200):\n",
    "            outstream.write(f\">{uniprot_id}\\n\")\n",
    "            outstream.write(f\"{seq}\\n\")\n",
    "            hcounter += 1\n",
    "\n",
    "ycounter = 0\n",
    "with open(\"yeast_proteome_600_to_1200aa.fasta\", 'w') as outstream:\n",
    "    for uid in yeast_seq_dict.keys():\n",
    "        uniprot_id = uid.split(\"|\")[1]\n",
    "        seq = yeast_seq_dict[uid]\n",
    "        if ycounter >= 1000:\n",
    "            break\n",
    "        if (len(seq) > 600) and (len(seq) < 1200):\n",
    "            outstream.write(f\">{uniprot_id}\\n\")\n",
    "            outstream.write(f\"{seq}\\n\")\n",
    "            ycounter += 1"
   ]
  }
 ],
 "metadata": {
  "kernelspec": {
   "display_name": "Python 3",
   "language": "python",
   "name": "python3"
  },
  "language_info": {
   "codemirror_mode": {
    "name": "ipython",
    "version": 3
   },
   "file_extension": ".py",
   "mimetype": "text/x-python",
   "name": "python",
   "nbconvert_exporter": "python",
   "pygments_lexer": "ipython3",
   "version": "3.9.19"
  }
 },
 "nbformat": 4,
 "nbformat_minor": 2
}
