{
 "cells": [
  {
   "cell_type": "code",
   "execution_count": 57,
   "metadata": {},
   "outputs": [
    {
     "name": "stdout",
     "output_type": "stream",
     "text": [
      "Loaded 2145 proteins\n"
     ]
    }
   ],
   "source": [
    "import os\n",
    "import json\n",
    "import numpy as np\n",
    "import collections\n",
    "from Bio import SeqIO\n",
    "\n",
    "datadict = {}\n",
    "\n",
    "datadict = collections.defaultdict(dict)\n",
    "for record in SeqIO.parse(\"../disprot_OK_fullset.fasta\", \"fasta\"):\n",
    "    uniprot_id = record.id\n",
    "    seq = str(record.seq)\n",
    "    datadict[uniprot_id]['seq'] = seq\n",
    "\n",
    "for record in SeqIO.parse(\"../disprot_OK_fullset_annotations.fasta\", \"fasta\"):\n",
    "    uniprot_id = record.id\n",
    "    seq = str(record.seq)\n",
    "    datadict[uniprot_id]['disorder'] = seq\n",
    "\n",
    "print(f\"Loaded {len(datadict.keys())} proteins\")"
   ]
  },
  {
   "cell_type": "code",
   "execution_count": 58,
   "metadata": {},
   "outputs": [],
   "source": [
    "disprot_annot_file = \"/biodata/franco/datasets/disprot/DisProt_release_2023_12_with_ambiguous_evidences_consensus_regions.fasta\"\n",
    "disprot_json_file = \"/biodata/franco/datasets/disprot/DisProt_release_2023_12_with_ambiguous_evidences.json\"\n",
    "\n",
    "with open(disprot_json_file) as f:\n",
    "    new_disprot_data = json.load(f)\n",
    "\n",
    "new_datadict = {}\n",
    "new_datadict = collections.defaultdict(dict)\n",
    "for record in SeqIO.parse(disprot_annot_file, \"fasta\"):\n",
    "    acc = record.description.split(\" \")[1].split(\"=\")[1]\n",
    "    seq = str(record.seq)\n",
    "    new_datadict[acc]['disorder'] = seq"
   ]
  },
  {
   "cell_type": "code",
   "execution_count": 59,
   "metadata": {},
   "outputs": [
    {
     "name": "stdout",
     "output_type": "stream",
     "text": [
      "DP00003\n",
      "P03265\n",
      "529\n",
      "MASREEEQRETTPERGRGAARRPPTMEDVSSPSPSPPPPRAPPKKRMRRRIESEDEEDSSQDALVPRTPSPRPSTSAADLAIAPKKKKKRPSPKPERPPSPEVIVDSEEEREDVALQMVGFSNPPVLIKHGKGGKRTVRRLNEDDPVARGMRTQEEEEEPSEAESEITVMNPLSVPIVSAWEKGMEAARALMDKYHVDNDLKANFKLLPDQVEALAAVCKTWLNEEHRGLQLTFTSKKTFVTMMGRFLQAYLQSFAEVTYKHHEPTGCALWLHRCAEIEGELKCLHGSIMINKEHVIEMDVTSENGQRALKEQSSKAKIVKNRWGRNVVQISNTDARCCVHDAACPANQFSGKSCGMFFSEGAKAQVAFKQIKAFMQALYPNAQTGHGHLLMPLRCECNSKPGHAPFLGRQLPKLTPFALSNAEDLDADLISDKSVLASVHHPALIVFQCCNPVYRNSRAQGGGPNCDFKISAPDLLNALVMVRSLWSENFTELPRMVVPEFKWSTKHQYRNVSLPVAHSDARQNPFDF\n"
     ]
    }
   ],
   "source": [
    "new_disprot_data['data'][0].keys()\n",
    "print(new_disprot_data['data'][0]['disprot_id'])\n",
    "print(new_disprot_data['data'][0]['acc'])\n",
    "print(new_disprot_data['data'][0]['length'])\n",
    "print(new_disprot_data['data'][0]['sequence'])\n",
    "\n",
    "for protein in new_disprot_data['data']:\n",
    "    acc = protein['acc']\n",
    "    if acc in datadict:\n",
    "        new_datadict[acc]['seq'] = protein['sequence']"
   ]
  },
  {
   "cell_type": "code",
   "execution_count": 67,
   "metadata": {},
   "outputs": [
    {
     "data": {
      "text/plain": [
       "{'disorder': '-----------------------------------------------------------------------------------------------------------------------------------------------------------------------------------------------------------------------------------------------------------------------------------------------------DDDDDDDDDDDDDDDDDDDDDDDDDDDDDDDDDDDDDDDDD-----------------------------------------------------------------------------------------------------------------------DDDDDDDDDDD-----------------------------------------------------------------',\n",
       " 'seq': 'MASREEEQRETTPERGRGAARRPPTMEDVSSPSPSPPPPRAPPKKRMRRRIESEDEEDSSQDALVPRTPSPRPSTSAADLAIAPKKKKKRPSPKPERPPSPEVIVDSEEEREDVALQMVGFSNPPVLIKHGKGGKRTVRRLNEDDPVARGMRTQEEEEEPSEAESEITVMNPLSVPIVSAWEKGMEAARALMDKYHVDNDLKANFKLLPDQVEALAAVCKTWLNEEHRGLQLTFTSKKTFVTMMGRFLQAYLQSFAEVTYKHHEPTGCALWLHRCAEIEGELKCLHGSIMINKEHVIEMDVTSENGQRALKEQSSKAKIVKNRWGRNVVQISNTDARCCVHDAACPANQFSGKSCGMFFSEGAKAQVAFKQIKAFMQALYPNAQTGHGHLLMPLRCECNSKPGHAPFLGRQLPKLTPFALSNAEDLDADLISDKSVLASVHHPALIVFQCCNPVYRNSRAQGGGPNCDFKISAPDLLNALVMVRSLWSENFTELPRMVVPEFKWSTKHQYRNVSLPVAHSDARQNPFDF'}"
      ]
     },
     "execution_count": 67,
     "metadata": {},
     "output_type": "execute_result"
    }
   ],
   "source": [
    "new_datadict['P03265']"
   ]
  },
  {
   "cell_type": "code",
   "execution_count": 76,
   "metadata": {},
   "outputs": [
    {
     "name": "stdout",
     "output_type": "stream",
     "text": [
      "OK. 2092 uniprots. 1905 same.\n",
      "47 fails. 187 differences. 0 length differences. 6 seq differences.\n"
     ]
    }
   ],
   "source": [
    "disodiff = 0\n",
    "disofails = 0\n",
    "lenfails = 0\n",
    "seqfails = 0\n",
    "same = 0\n",
    "ok_uniprots = []\n",
    "for uniprot_id in datadict:\n",
    "    if uniprot_id in new_datadict:\n",
    "        if datadict[uniprot_id]['seq'] == new_datadict[uniprot_id]['seq']:\n",
    "            if datadict[uniprot_id]['disorder'] != new_datadict[uniprot_id]['disorder']:\n",
    "                disodiff += 1\n",
    "                if len(datadict[uniprot_id]['disorder']) == len(new_datadict[uniprot_id]['disorder']):\n",
    "                    #print(f\"Lengths differ: {len(datadict[uniprot_id]['disorder'])} vs {len(new_datadict[uniprot_id]['disorder'])}\")\n",
    "                    ok_uniprots.append(uniprot_id)\n",
    "                else:\n",
    "                    lenfails += 1\n",
    "            else:\n",
    "                ok_uniprots.append(uniprot_id)\n",
    "                same += 1\n",
    "        else:\n",
    "            # print(f\"Uniprot {uniprot_id} seq is different\")\n",
    "            # print(f\"Seq1: {datadict[uniprot_id]['seq']}\")\n",
    "            # print(f\"Seq2: {new_datadict[uniprot_id]['seq']}\")\n",
    "            seqfails += 1\n",
    "    else:\n",
    "        disofails += 1\n",
    "\n",
    "if lenfails != 0:\n",
    "    raise\n",
    "\n",
    "if lenfails == 0:\n",
    "    print(f\"OK. {len(ok_uniprots)} uniprots. {same} same.\")\n",
    "    print(f\"{disofails} fails. {disodiff} differences. {lenfails} length differences. {seqfails} seq differences.\")\n",
    "else:\n",
    "    print(f\"{disofails} fails. {disodiff} differences. {lenfails} length differences. {seqfails} seq differences.\")\n",
    "    raise\n"
   ]
  },
  {
   "cell_type": "code",
   "execution_count": 78,
   "metadata": {},
   "outputs": [],
   "source": [
    "\n",
    "# export new annotations as fasta for all previous uniprots\n",
    "with open(f\"../disprot_OK_fullset_annotations_12_2023.fasta\", \"w\") as f:\n",
    "    with open(f\"../disprot_OK_fullset_12_2023.fasta\", \"w\") as f2:\n",
    "        for uniprot_id in ok_uniprots:\n",
    "            if uniprot_id in new_datadict:\n",
    "                f.write(f\">{uniprot_id}\\n{new_datadict[uniprot_id]['disorder']}\\n\")\n",
    "                f2.write(f\">{uniprot_id}\\n{datadict[uniprot_id]['seq']}\\n\")"
   ]
  }
 ],
 "metadata": {
  "kernelspec": {
   "display_name": "Python 3 (ipykernel)",
   "language": "python",
   "name": "python3"
  },
  "language_info": {
   "codemirror_mode": {
    "name": "ipython",
    "version": 3
   },
   "file_extension": ".py",
   "mimetype": "text/x-python",
   "name": "python",
   "nbconvert_exporter": "python",
   "pygments_lexer": "ipython3",
   "version": "3.9.18"
  }
 },
 "nbformat": 4,
 "nbformat_minor": 2
}
