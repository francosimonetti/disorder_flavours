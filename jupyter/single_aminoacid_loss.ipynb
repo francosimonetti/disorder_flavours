{
 "cells": [
  {
   "cell_type": "code",
   "execution_count": 1,
   "metadata": {},
   "outputs": [
    {
     "name": "stdout",
     "output_type": "stream",
     "text": [
      "No CUDA\n"
     ]
    }
   ],
   "source": [
    "import os\n",
    "import numpy as np\n",
    "import pandas as pd\n",
    "from Bio import SeqIO\n",
    "import matplotlib.pyplot as plt\n",
    "from matplotlib import cm\n",
    "from matplotlib.patches import Patch\n",
    "import mpl_stylesheet\n",
    "import re\n",
    "import gc\n",
    "# mpl_stylesheet.banskt_presentation(fontfamily = 'mono', fontsize = 20, colors = 'banskt', dpi = 300)\n",
    "\n",
    "from transformers import T5Tokenizer, T5ForConditionalGeneration\n",
    "import torch\n",
    "device = torch.device('cuda:0' if torch.cuda.is_available() else 'cpu')\n",
    "\n",
    "fullmodel = T5ForConditionalGeneration.from_pretrained(\"../models/prottrans_t5_xl_u50/\").to(device)\n",
    "\n",
    "#fullmodel.full() if str(device)=='cpu' else fullmodel.half()\n",
    "\n",
    "# Load the tokenizer\n",
    "tokenizer = T5Tokenizer.from_pretrained('../models/prottrans_t5_xl_u50', do_lower_case=False, legacy=False)\n",
    "\n",
    "if device == \"cuda:0\":\n",
    "    torch.cuda.empty_cache()\n",
    "else:\n",
    "    print(\"No CUDA\")"
   ]
  },
  {
   "cell_type": "code",
   "execution_count": 2,
   "metadata": {},
   "outputs": [],
   "source": [
    "### Load sequences and annotations for disprot\n",
    "\n",
    "def get_sequences(fastadir=None, fastafile=None):\n",
    "    sequences = []\n",
    "    if fastadir is None and fastafile is None:\n",
    "        print(\"No fasta dir or file\")\n",
    "        raise\n",
    "    if fastadir is not None and fastafile is not None:\n",
    "        print(\"Choose one, fasta dir or multi fasta filr\")\n",
    "        raise\n",
    "    # check for a directory with individual fasta files\n",
    "    # or a multi fasta file\n",
    "    if fastadir is not None:\n",
    "        fastafiles = os.listdir(fastadir)\n",
    "        for f in fastafiles:\n",
    "            counter = 0\n",
    "            for record in SeqIO.parse(os.path.join(fastadir, f), \"fasta\"):\n",
    "                sequences.append(record)\n",
    "                counter += 1\n",
    "                if counter > 1:\n",
    "                    print(\"More than one fasta record?\", f)\n",
    "                    raise\n",
    "    elif fastafile is not None:\n",
    "        for record in SeqIO.parse(fastafile, \"fasta\"):\n",
    "            sequences.append(record)\n",
    "    return sequences\n",
    "\n",
    "# Disprot\n",
    "# embeddir=\"/data/franco/disorder_flavours/testset/\" #\"/data/franco/datasets/prot_embedding_weights/disprot/halft5/\"\n",
    "fasta_file = \"../testset_sequences.fasta\"\n",
    "counter = 0\n",
    "\n",
    "# find annotation for each sequence\n",
    "annotfile = \"../testset_annotations.fasta\"\n",
    "annots    = get_sequences(fastadir=None, fastafile=annotfile)\n",
    "sequences = get_sequences(fastadir=None, fastafile=fasta_file)"
   ]
  },
  {
   "cell_type": "code",
   "execution_count": 3,
   "metadata": {},
   "outputs": [
    {
     "name": "stdout",
     "output_type": "stream",
     "text": [
      "Input protein: ['M E E P Q S D P S V E P P L S Q E T F S D L W K L L P E N N V L S P L P S Q A M D D L M L S P D D I E Q W F T E D P G P D E A P R M P E A A P P V A P A P A A P T P A A P A P A P S W P L S S S V P S Q K T Y Q G S Y G F R L G F L H S G T A K S V T C T Y S P A L N K M F C Q L A K T C P V Q L W V D S T P P P G T R V R A M A I Y K Q S Q H M T E V V R R C P H H E R C S D S D G L A P P Q H L I R V E G N L R V E Y L D D R N T F R H S V V V P Y E P P E V G S D C T T I H Y N Y M C N S S C M G G M N R R P I L T I I T L E D S S G N L L G R N S F E V R V C A C P G R D R R T E E E N L R K K G E P H H E L P P G S T K R A L P N N T S S S P Q P K K K P L D G E Y F T L Q I R G R E R F E M F R E L N E A L E L K D A Q A G K E P G G S R A H S S H L K S K K G Q S T S R H K K L M F K T E G P D S D']\n",
      "{'input_ids': [[19, 9, 9, 13, 16, 7, 10, 13, 7, 6, 9, 13, 13, 4, 7, 16, 9, 11, 15, 7, 10, 4, 21, 14, 4, 4, 13, 9, 17, 17, 6, 4, 7, 13, 4, 13, 7, 16, 3, 19, 10, 10, 4, 19, 4, 7, 13, 10, 10, 12, 9, 16, 21, 15, 11, 9, 10, 13, 5, 13, 10, 9, 3, 13, 8, 19, 13, 9, 3, 3, 13, 13, 6, 3, 13, 3, 13, 3, 3, 13, 11, 13, 3, 3, 13, 3, 13, 3, 13, 7, 21, 13, 4, 7, 7, 7, 6, 13, 7, 16, 14, 11, 18, 16, 5, 7, 18, 5, 15, 8, 4, 5, 15, 4, 20, 7, 5, 11, 3, 14, 7, 6, 11, 22, 11, 18, 7, 13, 3, 4, 17, 14, 19, 15, 22, 16, 4, 3, 14, 11, 22, 13, 6, 16, 4, 21, 6, 10, 7, 11, 13, 13, 13, 5, 11, 8, 6, 8, 3, 19, 3, 12, 18, 14, 16, 7, 16, 20, 19, 11, 9, 6, 6, 8, 8, 22, 13, 20, 20, 9, 8, 22, 7, 10, 7, 10, 5, 4, 3, 13, 13, 16, 20, 4, 12, 8, 6, 9, 5, 17, 4, 8, 6, 9, 18, 4, 10, 10, 8, 17, 11, 15, 8, 20, 7, 6, 6, 6, 13, 18, 9, 13, 13, 9, 6, 5, 7, 10, 22, 11, 11, 12, 20, 18, 17, 18, 19, 22, 17, 7, 7, 22, 19, 5, 5, 19, 17, 8, 8, 13, 12, 4, 11, 12, 12, 11, 4, 9, 10, 7, 7, 5, 17, 4, 4, 5, 8, 17, 7, 15, 9, 6, 8, 6, 22, 3, 22, 13, 5, 8, 10, 8, 8, 11, 9, 9, 9, 17, 4, 8, 14, 14, 5, 9, 13, 20, 20, 9, 4, 13, 13, 5, 7, 11, 14, 8, 3, 4, 13, 17, 17, 11, 7, 7, 7, 13, 16, 13, 14, 14, 14, 13, 4, 10, 5, 9, 18, 15, 11, 4, 16, 12, 8, 5, 8, 9, 8, 15, 9, 19, 15, 8, 9, 4, 17, 9, 3, 4, 9, 4, 14, 10, 3, 16, 3, 5, 14, 9, 13, 5, 5, 7, 8, 3, 20, 7, 7, 20, 4, 14, 7, 14, 14, 5, 16, 7, 11, 7, 8, 20, 14, 14, 4, 19, 15, 14, 11, 9, 5, 13, 10, 7, 10, 1]], 'attention_mask': [[1, 1, 1, 1, 1, 1, 1, 1, 1, 1, 1, 1, 1, 1, 1, 1, 1, 1, 1, 1, 1, 1, 1, 1, 1, 1, 1, 1, 1, 1, 1, 1, 1, 1, 1, 1, 1, 1, 1, 1, 1, 1, 1, 1, 1, 1, 1, 1, 1, 1, 1, 1, 1, 1, 1, 1, 1, 1, 1, 1, 1, 1, 1, 1, 1, 1, 1, 1, 1, 1, 1, 1, 1, 1, 1, 1, 1, 1, 1, 1, 1, 1, 1, 1, 1, 1, 1, 1, 1, 1, 1, 1, 1, 1, 1, 1, 1, 1, 1, 1, 1, 1, 1, 1, 1, 1, 1, 1, 1, 1, 1, 1, 1, 1, 1, 1, 1, 1, 1, 1, 1, 1, 1, 1, 1, 1, 1, 1, 1, 1, 1, 1, 1, 1, 1, 1, 1, 1, 1, 1, 1, 1, 1, 1, 1, 1, 1, 1, 1, 1, 1, 1, 1, 1, 1, 1, 1, 1, 1, 1, 1, 1, 1, 1, 1, 1, 1, 1, 1, 1, 1, 1, 1, 1, 1, 1, 1, 1, 1, 1, 1, 1, 1, 1, 1, 1, 1, 1, 1, 1, 1, 1, 1, 1, 1, 1, 1, 1, 1, 1, 1, 1, 1, 1, 1, 1, 1, 1, 1, 1, 1, 1, 1, 1, 1, 1, 1, 1, 1, 1, 1, 1, 1, 1, 1, 1, 1, 1, 1, 1, 1, 1, 1, 1, 1, 1, 1, 1, 1, 1, 1, 1, 1, 1, 1, 1, 1, 1, 1, 1, 1, 1, 1, 1, 1, 1, 1, 1, 1, 1, 1, 1, 1, 1, 1, 1, 1, 1, 1, 1, 1, 1, 1, 1, 1, 1, 1, 1, 1, 1, 1, 1, 1, 1, 1, 1, 1, 1, 1, 1, 1, 1, 1, 1, 1, 1, 1, 1, 1, 1, 1, 1, 1, 1, 1, 1, 1, 1, 1, 1, 1, 1, 1, 1, 1, 1, 1, 1, 1, 1, 1, 1, 1, 1, 1, 1, 1, 1, 1, 1, 1, 1, 1, 1, 1, 1, 1, 1, 1, 1, 1, 1, 1, 1, 1, 1, 1, 1, 1, 1, 1, 1, 1, 1, 1, 1, 1, 1, 1, 1, 1, 1, 1, 1, 1, 1, 1, 1, 1, 1, 1, 1, 1, 1, 1, 1, 1, 1, 1, 1, 1, 1, 1, 1, 1, 1, 1, 1, 1, 1, 1, 1, 1, 1]]}\n",
      "['M E E P Q <extra_id_0> D P S V E P P L S Q E T F S D L W K L L P E N N V L S P L P S Q A M D D L M L S P D D I E Q W F T E D P G P D E A P R M P E A A P P V A P A P A A P T P A A P A P A P S W P L S S S V P S Q K T Y Q G S Y G F R L G F L H S G T A K S V T C T Y S P A L N K M F C Q L A K T C P V Q L W V D S T P P P G T R V R A M A I Y K Q S Q H M T E V V R R C P H H E R C S D S D G L A P P Q H L I R V E G N L R V E Y L D D R N T F R H S V V V P Y E P P E V G S D C T T I H Y N Y M C N S S C M G G M N R R P I L T I I T L E D S S G N L L G R N S F E V R V C A C P G R D R R T E E E N L R K K G E P H H E L P P G S T K R A L P N N T S S S P Q P K K K P L D G E Y F T L Q I R G R E R F E M F R E L N E A L E L K D A Q A G K E P G G S R A H S S H L K S K K G Q S T S R H K K L M F K T E G P D S D']\n",
      "{'input_ids': [[19, 9, 9, 13, 16, 127, 2, 13, 7, 6, 9, 13, 13, 4, 7, 16, 9, 11, 15, 7, 10, 4, 21, 14, 4, 4, 13, 9, 17, 17, 6, 4, 7, 13, 4, 13, 7, 16, 3, 19, 10, 10, 4, 19, 4, 7, 13, 10, 10, 12, 9, 16, 21, 15, 11, 9, 10, 13, 5, 13, 10, 9, 3, 13, 8, 19, 13, 9, 3, 3, 13, 13, 6, 3, 13, 3, 13, 3, 3, 13, 11, 13, 3, 3, 13, 3, 13, 3, 13, 7, 21, 13, 4, 7, 7, 7, 6, 13, 7, 16, 14, 11, 18, 16, 5, 7, 18, 5, 15, 8, 4, 5, 15, 4, 20, 7, 5, 11, 3, 14, 7, 6, 11, 22, 11, 18, 7, 13, 3, 4, 17, 14, 19, 15, 22, 16, 4, 3, 14, 11, 22, 13, 6, 16, 4, 21, 6, 10, 7, 11, 13, 13, 13, 5, 11, 8, 6, 8, 3, 19, 3, 12, 18, 14, 16, 7, 16, 20, 19, 11, 9, 6, 6, 8, 8, 22, 13, 20, 20, 9, 8, 22, 7, 10, 7, 10, 5, 4, 3, 13, 13, 16, 20, 4, 12, 8, 6, 9, 5, 17, 4, 8, 6, 9, 18, 4, 10, 10, 8, 17, 11, 15, 8, 20, 7, 6, 6, 6, 13, 18, 9, 13, 13, 9, 6, 5, 7, 10, 22, 11, 11, 12, 20, 18, 17, 18, 19, 22, 17, 7, 7, 22, 19, 5, 5, 19, 17, 8, 8, 13, 12, 4, 11, 12, 12, 11, 4, 9, 10, 7, 7, 5, 17, 4, 4, 5, 8, 17, 7, 15, 9, 6, 8, 6, 22, 3, 22, 13, 5, 8, 10, 8, 8, 11, 9, 9, 9, 17, 4, 8, 14, 14, 5, 9, 13, 20, 20, 9, 4, 13, 13, 5, 7, 11, 14, 8, 3, 4, 13, 17, 17, 11, 7, 7, 7, 13, 16, 13, 14, 14, 14, 13, 4, 10, 5, 9, 18, 15, 11, 4, 16, 12, 8, 5, 8, 9, 8, 15, 9, 19, 15, 8, 9, 4, 17, 9, 3, 4, 9, 4, 14, 10, 3, 16, 3, 5, 14, 9, 13, 5, 5, 7, 8, 3, 20, 7, 7, 20, 4, 14, 7, 14, 14, 5, 16, 7, 11, 7, 8, 20, 14, 14, 4, 19, 15, 14, 11, 9, 5, 13, 10, 7, 10, 1]], 'attention_mask': [[1, 1, 1, 1, 1, 1, 1, 1, 1, 1, 1, 1, 1, 1, 1, 1, 1, 1, 1, 1, 1, 1, 1, 1, 1, 1, 1, 1, 1, 1, 1, 1, 1, 1, 1, 1, 1, 1, 1, 1, 1, 1, 1, 1, 1, 1, 1, 1, 1, 1, 1, 1, 1, 1, 1, 1, 1, 1, 1, 1, 1, 1, 1, 1, 1, 1, 1, 1, 1, 1, 1, 1, 1, 1, 1, 1, 1, 1, 1, 1, 1, 1, 1, 1, 1, 1, 1, 1, 1, 1, 1, 1, 1, 1, 1, 1, 1, 1, 1, 1, 1, 1, 1, 1, 1, 1, 1, 1, 1, 1, 1, 1, 1, 1, 1, 1, 1, 1, 1, 1, 1, 1, 1, 1, 1, 1, 1, 1, 1, 1, 1, 1, 1, 1, 1, 1, 1, 1, 1, 1, 1, 1, 1, 1, 1, 1, 1, 1, 1, 1, 1, 1, 1, 1, 1, 1, 1, 1, 1, 1, 1, 1, 1, 1, 1, 1, 1, 1, 1, 1, 1, 1, 1, 1, 1, 1, 1, 1, 1, 1, 1, 1, 1, 1, 1, 1, 1, 1, 1, 1, 1, 1, 1, 1, 1, 1, 1, 1, 1, 1, 1, 1, 1, 1, 1, 1, 1, 1, 1, 1, 1, 1, 1, 1, 1, 1, 1, 1, 1, 1, 1, 1, 1, 1, 1, 1, 1, 1, 1, 1, 1, 1, 1, 1, 1, 1, 1, 1, 1, 1, 1, 1, 1, 1, 1, 1, 1, 1, 1, 1, 1, 1, 1, 1, 1, 1, 1, 1, 1, 1, 1, 1, 1, 1, 1, 1, 1, 1, 1, 1, 1, 1, 1, 1, 1, 1, 1, 1, 1, 1, 1, 1, 1, 1, 1, 1, 1, 1, 1, 1, 1, 1, 1, 1, 1, 1, 1, 1, 1, 1, 1, 1, 1, 1, 1, 1, 1, 1, 1, 1, 1, 1, 1, 1, 1, 1, 1, 1, 1, 1, 1, 1, 1, 1, 1, 1, 1, 1, 1, 1, 1, 1, 1, 1, 1, 1, 1, 1, 1, 1, 1, 1, 1, 1, 1, 1, 1, 1, 1, 1, 1, 1, 1, 1, 1, 1, 1, 1, 1, 1, 1, 1, 1, 1, 1, 1, 1, 1, 1, 1, 1, 1, 1, 1, 1, 1, 1, 1, 1, 1, 1, 1, 1, 1, 1, 1, 1, 1, 1, 1, 1, 1, 1, 1]]}\n"
     ]
    }
   ],
   "source": [
    "\n",
    "def sequence_masker(seq, i, j, same_extra_token=False):\n",
    "    masked_sequence_list = seq.split()\n",
    "    token_num = 0\n",
    "    if j<=i:\n",
    "        print(f\"index j={j} must be greater than i={i}\")\n",
    "        raise\n",
    "    for x in range(i, j):\n",
    "        if j > len(seq):\n",
    "            break\n",
    "        masked_sequence_list[x] = f\"<extra_id_{token_num}>\"\n",
    "        if not same_extra_token:\n",
    "            token_num += 1\n",
    "    return \" \".join(masked_sequence_list)\n",
    "\n",
    "\n",
    "seqnum = 0\n",
    "input_seq = [\" \".join(list(re.sub(r\"[UZOB]\", \"X\", str(sequences[seqnum].seq))))]\n",
    "seqlen = len(str(sequences[seqnum].seq))\n",
    "print(f\"Input protein: {input_seq}\")\n",
    "\n",
    "ids = tokenizer.batch_encode_plus(input_seq, add_special_tokens=True, padding=\"longest\")\n",
    "print(ids)\n",
    "\n",
    "masked_seq = [sequence_masker(input_seq[0], 5, 6)]\n",
    "print(masked_seq)\n",
    "m_ids = tokenizer.batch_encode_plus(masked_seq, add_special_tokens=True, padding=\"longest\")\n",
    "print(m_ids)"
   ]
  },
  {
   "cell_type": "code",
   "execution_count": 4,
   "metadata": {},
   "outputs": [
    {
     "data": {
      "text/plain": [
       "{'<pad>': 0,\n",
       " '</s>': 1,\n",
       " '<unk>': 2,\n",
       " '▁A': 3,\n",
       " '▁L': 4,\n",
       " '▁G': 5,\n",
       " '▁V': 6,\n",
       " '▁S': 7,\n",
       " '▁R': 8,\n",
       " '▁E': 9,\n",
       " '▁D': 10,\n",
       " '▁T': 11,\n",
       " '▁I': 12,\n",
       " '▁P': 13,\n",
       " '▁K': 14,\n",
       " '▁F': 15,\n",
       " '▁Q': 16,\n",
       " '▁N': 17,\n",
       " '▁Y': 18,\n",
       " '▁M': 19,\n",
       " '▁H': 20,\n",
       " '▁W': 21,\n",
       " '▁C': 22,\n",
       " '▁X': 23,\n",
       " '▁B': 24,\n",
       " '▁O': 25,\n",
       " '▁U': 26,\n",
       " '▁Z': 27,\n",
       " '<extra_id_99>': 28,\n",
       " '<extra_id_98>': 29,\n",
       " '<extra_id_97>': 30,\n",
       " '<extra_id_96>': 31,\n",
       " '<extra_id_95>': 32,\n",
       " '<extra_id_94>': 33,\n",
       " '<extra_id_93>': 34,\n",
       " '<extra_id_92>': 35,\n",
       " '<extra_id_91>': 36,\n",
       " '<extra_id_90>': 37,\n",
       " '<extra_id_89>': 38,\n",
       " '<extra_id_88>': 39,\n",
       " '<extra_id_87>': 40,\n",
       " '<extra_id_86>': 41,\n",
       " '<extra_id_85>': 42,\n",
       " '<extra_id_84>': 43,\n",
       " '<extra_id_83>': 44,\n",
       " '<extra_id_82>': 45,\n",
       " '<extra_id_81>': 46,\n",
       " '<extra_id_80>': 47,\n",
       " '<extra_id_79>': 48,\n",
       " '<extra_id_78>': 49,\n",
       " '<extra_id_77>': 50,\n",
       " '<extra_id_76>': 51,\n",
       " '<extra_id_75>': 52,\n",
       " '<extra_id_74>': 53,\n",
       " '<extra_id_73>': 54,\n",
       " '<extra_id_72>': 55,\n",
       " '<extra_id_71>': 56,\n",
       " '<extra_id_70>': 57,\n",
       " '<extra_id_69>': 58,\n",
       " '<extra_id_68>': 59,\n",
       " '<extra_id_67>': 60,\n",
       " '<extra_id_66>': 61,\n",
       " '<extra_id_65>': 62,\n",
       " '<extra_id_64>': 63,\n",
       " '<extra_id_63>': 64,\n",
       " '<extra_id_62>': 65,\n",
       " '<extra_id_61>': 66,\n",
       " '<extra_id_60>': 67,\n",
       " '<extra_id_59>': 68,\n",
       " '<extra_id_58>': 69,\n",
       " '<extra_id_57>': 70,\n",
       " '<extra_id_56>': 71,\n",
       " '<extra_id_55>': 72,\n",
       " '<extra_id_54>': 73,\n",
       " '<extra_id_53>': 74,\n",
       " '<extra_id_52>': 75,\n",
       " '<extra_id_51>': 76,\n",
       " '<extra_id_50>': 77,\n",
       " '<extra_id_49>': 78,\n",
       " '<extra_id_48>': 79,\n",
       " '<extra_id_47>': 80,\n",
       " '<extra_id_46>': 81,\n",
       " '<extra_id_45>': 82,\n",
       " '<extra_id_44>': 83,\n",
       " '<extra_id_43>': 84,\n",
       " '<extra_id_42>': 85,\n",
       " '<extra_id_41>': 86,\n",
       " '<extra_id_40>': 87,\n",
       " '<extra_id_39>': 88,\n",
       " '<extra_id_38>': 89,\n",
       " '<extra_id_37>': 90,\n",
       " '<extra_id_36>': 91,\n",
       " '<extra_id_35>': 92,\n",
       " '<extra_id_34>': 93,\n",
       " '<extra_id_33>': 94,\n",
       " '<extra_id_32>': 95,\n",
       " '<extra_id_31>': 96,\n",
       " '<extra_id_30>': 97,\n",
       " '<extra_id_29>': 98,\n",
       " '<extra_id_28>': 99,\n",
       " '<extra_id_27>': 100,\n",
       " '<extra_id_26>': 101,\n",
       " '<extra_id_25>': 102,\n",
       " '<extra_id_24>': 103,\n",
       " '<extra_id_23>': 104,\n",
       " '<extra_id_22>': 105,\n",
       " '<extra_id_21>': 106,\n",
       " '<extra_id_20>': 107,\n",
       " '<extra_id_19>': 108,\n",
       " '<extra_id_18>': 109,\n",
       " '<extra_id_17>': 110,\n",
       " '<extra_id_16>': 111,\n",
       " '<extra_id_15>': 112,\n",
       " '<extra_id_14>': 113,\n",
       " '<extra_id_13>': 114,\n",
       " '<extra_id_12>': 115,\n",
       " '<extra_id_11>': 116,\n",
       " '<extra_id_10>': 117,\n",
       " '<extra_id_9>': 118,\n",
       " '<extra_id_8>': 119,\n",
       " '<extra_id_7>': 120,\n",
       " '<extra_id_6>': 121,\n",
       " '<extra_id_5>': 122,\n",
       " '<extra_id_4>': 123,\n",
       " '<extra_id_3>': 124,\n",
       " '<extra_id_2>': 125,\n",
       " '<extra_id_1>': 126,\n",
       " '<extra_id_0>': 127}"
      ]
     },
     "execution_count": 4,
     "metadata": {},
     "output_type": "execute_result"
    }
   ],
   "source": [
    "tokenizer.get_vocab()"
   ]
  },
  {
   "cell_type": "code",
   "execution_count": 5,
   "metadata": {},
   "outputs": [
    {
     "name": "stdout",
     "output_type": "stream",
     "text": [
      "True seq loss: 1.9363943337680212e-08\n",
      "Masked seq loss: 0.014227996580302715\n"
     ]
    }
   ],
   "source": [
    "input_ids = torch.tensor(ids['input_ids']).to(device)\n",
    "masked_ids = torch.tensor(m_ids['input_ids']).to(device)\n",
    "\n",
    "with torch.no_grad():\n",
    "    emb = fullmodel(input_ids=input_ids, labels=input_ids)\n",
    "    loss = emb.loss\n",
    "    emb_mask = fullmodel(input_ids=masked_ids, labels=input_ids)\n",
    "    loss_mask = emb_mask.loss\n",
    "print(f\"True seq loss: {loss.item()}\")\n",
    "print(f\"Masked seq loss: {loss_mask.item()}\")"
   ]
  },
  {
   "cell_type": "code",
   "execution_count": 6,
   "metadata": {},
   "outputs": [
    {
     "name": "stdout",
     "output_type": "stream",
     "text": [
      "M E E P Q S D P S V E P P L S Q E T F S D L W K L L P E N N V L S P L P S Q A M D D L M L S P D D I E Q W F T E D P G P D E A P R M P E A A P P V A P A P A A P T P A A P A P A P S W P L S S S V P S Q K T Y Q G S Y G F R L G F L H S G T A K S V T C T Y S P A L N K M F C Q L A K T C P V Q L W V D S T P P P G T R V R A M A I Y K Q S Q H M T E V V R R C P H H E R C S D S D G L A P P Q H L I R V E G N L R V E Y L D D R N T F R H S V V V P Y E P P E V G S D C T T I H Y N Y M C N S S C M G G M N R R P I L T I I T L E D S S G N L L G R N S F E V R V C A C P G R D R R T E E E N L R K K G E P H H E L P P G S T K R A L P N N T S S S P Q P K K K P L D G E Y F T L Q I R G R E R F E M F R E L N E A L E L K D A Q A G K E P G G S R A H S S H L K S K K G Q S T S R H K K L M F K T E G P D S D\n",
      "M E E P Q S D P S V E P P L S Q E T F S D L W K L L P E N N V L S P L P S Q A M D D L M L S P D D I E Q W F T E D P G P D E A P R M P E A A P P V A P A P A A P T P A A P A P A P S W P L S S S V P S Q K T Y Q G S Y G F R L G F L H S G T A K S V T C T Y S P A L N K M F C Q L A K T C P V Q L W V D S T P P P G T R V R A M A I Y K Q S Q H M T E V V R R C P H H E R C S D S D G L A P P Q H L I R V E G N L R V E Y L D D R N T F R H S V V V P Y E P P E V G S D C T T I H Y N Y M C N S S C M G G M N R R P I L T I I T L E D S S G N L L G R N S F E V R V C A C P G R D R R T E E E N L R K K G E P H H E L P P G S T K R A L P N N T S S S P Q P K K K P L D G E Y F T L Q I R G R E R F E M F R E L N E A L E L K D A Q A G K E P G G S R A H S S H L K S K K G Q S T S R H K K L M F K T E G P D S D\n"
     ]
    }
   ],
   "source": [
    "cpulogits = emb.logits.cpu()\n",
    "fastpred = tokenizer.decode(torch.tensor(cpulogits[:,:-1,:].numpy().argmax(-1)[0]), skip_special_tokens=False).replace(\"<\",\" <\").replace(\">\",\"> \")\n",
    "print(fastpred)\n",
    "fastpred = tokenizer.decode(torch.argmax(cpulogits.squeeze()[:-1], dim=1), skip_special_tokens=False).replace(\"<\",\" <\").replace(\">\",\"> \")\n",
    "print(fastpred)"
   ]
  },
  {
   "cell_type": "code",
   "execution_count": 12,
   "metadata": {},
   "outputs": [],
   "source": [
    "cpulogits = emb.logits[:-1].cpu()\n",
    "torch.save(cpulogits, f\"test_logits.pt\")"
   ]
  },
  {
   "cell_type": "code",
   "execution_count": 20,
   "metadata": {},
   "outputs": [
    {
     "data": {
      "text/plain": [
       "torch.Size([393, 128])"
      ]
     },
     "execution_count": 20,
     "metadata": {},
     "output_type": "execute_result"
    }
   ],
   "source": [
    "## Remember to squeeze the logits before subsetting!!\n",
    "emb.logits.squeeze()[:-1].shape"
   ]
  },
  {
   "cell_type": "code",
   "execution_count": 13,
   "metadata": {},
   "outputs": [
    {
     "data": {
      "text/plain": [
       "tensor([], size=(0, 394, 128))"
      ]
     },
     "execution_count": 13,
     "metadata": {},
     "output_type": "execute_result"
    }
   ],
   "source": [
    "torch.load(\"test_logits.pt\")"
   ]
  },
  {
   "cell_type": "code",
   "execution_count": 8,
   "metadata": {},
   "outputs": [
    {
     "name": "stdout",
     "output_type": "stream",
     "text": [
      "loss:            tensor(1.9364e-08)\n",
      "acumulated loss: tensor(1.9463e-08)\n",
      "acumulated mask loss: tensor(0.0143)\n"
     ]
    }
   ],
   "source": [
    "from torch.nn import CrossEntropyLoss\n",
    "\n",
    "celoss = CrossEntropyLoss()\n",
    "print(\"loss:           \",celoss(emb.logits.squeeze(), input_ids.squeeze()))\n",
    "\n",
    "# get whole-protein loss from single aminoacid losses\n",
    "acum = 0\n",
    "for i in range(seqlen-1):\n",
    "    acum += celoss(emb.logits.squeeze()[i], input_ids.squeeze()[i])\n",
    "print(\"acumulated loss:\", acum/(seqlen-1))\n",
    "\n",
    "# single aminoacid loss on masked sequence\n",
    "celoss(emb_mask.logits.squeeze()[5], input_ids.squeeze()[5])\n",
    "\n",
    "# get whole-protein loss from single aminoacid losses in masked sequence\n",
    "acum = 0\n",
    "for i in range(seqlen-1):\n",
    "    acum += celoss(emb_mask.logits.squeeze()[i], input_ids.squeeze()[i])\n",
    "print(\"acumulated mask loss:\", acum/(seqlen-1))"
   ]
  },
  {
   "cell_type": "code",
   "execution_count": 9,
   "metadata": {},
   "outputs": [],
   "source": [
    "## calculate loss but using generate function\n",
    "\n",
    "with torch.no_grad():\n",
    "    gen = fullmodel.generate(input_ids, max_length=seqlen+1, return_dict_in_generate=True, output_scores=True)\n",
    "    gen_mask = fullmodel.generate(masked_ids, max_length=seqlen+1, return_dict_in_generate=True, output_scores=True)\n"
   ]
  },
  {
   "cell_type": "code",
   "execution_count": 10,
   "metadata": {},
   "outputs": [
    {
     "ename": "NameError",
     "evalue": "name 'gen_scores' is not defined",
     "output_type": "error",
     "traceback": [
      "\u001b[0;31m---------------------------------------------------------------------------\u001b[0m",
      "\u001b[0;31mNameError\u001b[0m                                 Traceback (most recent call last)",
      "Cell \u001b[0;32mIn[10], line 1\u001b[0m\n\u001b[0;32m----> 1\u001b[0m \u001b[43mgen_scores\u001b[49m\u001b[38;5;241m.\u001b[39mshape\n",
      "\u001b[0;31mNameError\u001b[0m: name 'gen_scores' is not defined"
     ]
    }
   ],
   "source": [
    "gen_scores.shape"
   ]
  },
  {
   "cell_type": "code",
   "execution_count": null,
   "metadata": {},
   "outputs": [
    {
     "name": "stdout",
     "output_type": "stream",
     "text": [
      "<pad>M E E P Q S D P S V E P P L S Q E T F S D L W K L L P E N N V L S P L P S Q A M D D L M L S P D D I E Q W F T E D P G P D E A P R M P E A A P P V A P A P A A P T P A A P A P A P S W P L S S S V P S Q K T Y Q G S Y G F R L G F L H S G T A K S V T C T Y S P A L N K M F C Q L A K T C P V Q L W V D S T P P P G T R V R A M A I Y K Q S Q H M T E V V R R C P H H E R C S D S D G L A P P Q H L I R V E G N L R V E Y L D D R N T F R H S V V V P Y E P P E V G S D C T T I H Y N Y M C N S S C M G G M N R R P I L T I I T L E D S S G N L L G R N S F E V R V C A C P G R D R R T E E E N L R K K G E P H H E L P P G S T K R A L P N N T S S S P Q P K K K P L D G E Y F T L Q I R G R E R F E M F R E L N E A L E L K D A Q A G K E P G G S R A H S S H L K S K K G Q S T S R H K K L M F K T E G P D S D\n",
      "<pad>M E E P Q P G P S V E P P L S Q E T F S D L W K L L P E N N V L S P L P S Q A M D D L M L S P D D I E Q W F T E D P G P D E A P R M P E A A P P V A P A P A A P T P A A P A P A P S W P L S S S V P S Q K T Y Q G S Y G F R L G F L H S G T A K S V T C T Y S P A L N K M F C Q L A K T C P V Q L W V D S T P P P G T R V R A M A I Y K Q S Q H M T E V V R R C P H H E R C S D S D G L A P P Q H L I R V E G N L R V E Y L D D R N T F R H S V V V P Y E P P E V G S D C T T I H Y N Y M C N S S C M G G M N R R P I L T I I T L E D S S G N L L G R N S F E V R V C A C P G R D R R T E E E N L R K K G E P H H E L P P G S T K R A L P N N T S S S P Q P K K K P L D G E Y F T L Q I R G R E R F E M F R E L N E A L E L K D A Q A G K E P G G S R A H S S H L K S K K G Q S T S R H K K L M F K T E G P D S D\n",
      "['M E E P Q S D P S V E P P L S Q E T F S D L W K L L P E N N V L S P L P S Q A M D D L M L S P D D I E Q W F T E D P G P D E A P R M P E A A P P V A P A P A A P T P A A P A P A P S W P L S S S V P S Q K T Y Q G S Y G F R L G F L H S G T A K S V T C T Y S P A L N K M F C Q L A K T C P V Q L W V D S T P P P G T R V R A M A I Y K Q S Q H M T E V V R R C P H H E R C S D S D G L A P P Q H L I R V E G N L R V E Y L D D R N T F R H S V V V P Y E P P E V G S D C T T I H Y N Y M C N S S C M G G M N R R P I L T I I T L E D S S G N L L G R N S F E V R V C A C P G R D R R T E E E N L R K K G E P H H E L P P G S T K R A L P N N T S S S P Q P K K K P L D G E Y F T L Q I R G R E R F E M F R E L N E A L E L K D A Q A G K E P G G S R A H S S H L K S K K G Q S T S R H K K L M F K T E G P D S D']\n",
      "M E E P Q S D P S V E P P L S Q E T F S D L W K L L P E N N V L S P L P S Q A M D D L M L S P D D I E Q W F T E D P G P D E A P R M P E A A P P V A P A P A A P T P A A P A P A P S W P L S S S V P S Q K T Y Q G S Y G F R L G F L H S G T A K S V T C T Y S P A L N K M F C Q L A K T C P V Q L W V D S T P P P G T R V R A M A I Y K Q S Q H M T E V V R R C P H H E R C S D S D G L A P P Q H L I R V E G N L R V E Y L D D R N T F R H S V V V P Y E P P E V G S D C T T I H Y N Y M C N S S C M G G M N R R P I L T I I T L E D S S G N L L G R N S F E V R V C A C P G R D R R T E E E N L R K K G E P H H E L P P G S T K R A L P N N T S S S P Q P K K K P L D G E Y F T L Q I R G R E R F E M F R E L N E A L E L K D A Q A G K E P G G S R A H S S H L K S K K G Q S T S R H K K L M F K T E G P D S D\n",
      "M E E P Q P G P S V E P P L S Q E T F S D L W K L L P E N N V L S P L P S Q A M D D L M L S P D D I E Q W F T E D P G P D E A P R M P E A A P P V A P A P A A P T P A A P A P A P S W P L S S S V P S Q K T Y Q G S Y G F R L G F L H S G T A K S V T C T Y S P A L N K M F C Q L A K T C P V Q L W V D S T P P P G T R V R A M A I Y K Q S Q H M T E V V R R C P H H E R C S D S D G L A P P Q H L I R V E G N L R V E Y L D D R N T F R H S V V V P Y E P P E V G S D C T T I H Y N Y M C N S S C M G G M N R R P I L T I I T L E D S S G N L L G R N S F E V R V C A C P G R D R R T E E E N L R K K G E P H H E L P P G S T K R A L P N N T S S S P Q P K K K P L D G E Y F T L Q I R G R E R F E M F R E L N E A L E L K D A Q A G K E P G G S R A H S S H L K S K K G Q S T S R H K K L M F K T E G P D S D\n",
      "M E E P Q P G P S V E P P L S Q E T F S D L W K L L P E N N V L S P L P S Q A M D D L M L S P D D I E Q W F T E D P G P D E A P R M P E A A P P V A P A P A A P T P A A P A P A P S W P L S S S V P S Q K T Y Q G S Y G F R L G F L H S G T A K S V T C T Y S P A L N K M F C Q L A K T C P V Q L W V D S T P P P G T R V R A M A I Y K Q S Q H M T E V V R R C P H H E R C S D S D G L A P P Q H L I R V E G N L R V E Y L D D R N T F R H S V V V P Y E P P E V G S D C T T I H Y N Y M C N S S C M G G M N R R P I L T I I T L E D S S G N L L G R N S F E V R V C A C P G R D R R T E E E N L R K K G E P H H E L P P G S T K R A L P N N T S S S P Q P K K K P L D G E Y F T L Q I R G R E R F E M F R E L N E A L E L K D A Q A G K E P G G S R A H S S H L K S K K G Q S T S R H K K L M F K T E G P D S D\n",
      "torch.Size([393, 128])\n",
      "torch.Size([393, 128])\n",
      "M E E P Q P G P S V E P P L S Q E T F S D L W K L L P E N N V L S P L P S Q A M D D L M L S P D D I E Q W F T E D P G P D E A P R M P E A A P P V A P A P A A P T P A A P A P A P S W P L S S S V P S Q K T Y Q G S Y G F R L G F L H S G T A K S V T C T Y S P A L N K M F C Q L A K T C P V Q L W V D S T P P P G T R V R A M A I Y K Q S Q H M T E V V R R C P H H E R C S D S D G L A P P Q H L I R V E G N L R V E Y L D D R N T F R H S V V V P Y E P P E V G S D C T T I H Y N Y M C N S S C M G G M N R R P I L T I I T L E D S S G N L L G R N S F E V R V C A C P G R D R R T E E E N L R K K G E P H H E L P P G S T K R A L P N N T S S S P Q P K K K P L D G E Y F T L Q I R G R E R F E M F R E L N E A L E L K D A Q A G K E P G G S R A H S S H L K S K K G Q S T S R H K K L M F K T E G P D S D\n",
      "393\n",
      "torch.Size([1, 394])\n",
      "torch.Size([1, 394])\n",
      "M E E P Q S D P S V E P P L S Q E T F S D L W K L L P E N N V L S P L P S Q A M D D L M L S P D D I E Q W F T E D P G P D E A P R M P E A A P P V A P A P A A P T P A A P A P A P S W P L S S S V P S Q K T Y Q G S Y G F R L G F L H S G T A K S V T C T Y S P A L N K M F C Q L A K T C P V Q L W V D S T P P P G T R V R A M A I Y K Q S Q H M T E V V R R C P H H E R C S D S D G L A P P Q H L I R V E G N L R V E Y L D D R N T F R H S V V V P Y E P P E V G S D C T T I H Y N Y M C N S S C M G G M N R R P I L T I I T L E D S S G N L L G R N S F E V R V C A C P G R D R R T E E E N L R K K G E P H H E L P P G S T K R A L P N N T S S S P Q P K K K P L D G E Y F T L Q I R G R E R F E M F R E L N E A L E L K D A Q A G K E P G G S R A H S S H L K S K K G Q S T S R H K K L M F K T E G P D S D</s>\n"
     ]
    }
   ],
   "source": [
    "print(tokenizer.decode(gen.sequences[0]))\n",
    "print(tokenizer.decode(gen_mask.sequences[0]))\n",
    "print(input_seq)\n",
    "gen_scores = torch.stack([s.squeeze() for s in gen.scores], dim=0)\n",
    "gen_mask_scores = torch.stack([s.squeeze() for s in gen_mask.scores], dim=0)\n",
    "fastpred = tokenizer.decode(torch.tensor(gen_scores.numpy().argmax(-1)), skip_special_tokens=False).replace(\"<\",\" <\").replace(\">\",\"> \")\n",
    "print(fastpred)\n",
    "fastpred = tokenizer.decode(torch.tensor(gen_mask_scores.numpy().argmax(-1)), skip_special_tokens=False).replace(\"<\",\" <\").replace(\">\",\"> \")\n",
    "print(fastpred)\n",
    "fastpred = tokenizer.decode(torch.argmax(gen_mask_scores, dim=1), skip_special_tokens=False).replace(\"<\",\" <\").replace(\">\",\"> \")\n",
    "print(fastpred)\n",
    "\n",
    "\n",
    "print(gen_scores.shape)\n",
    "print(gen_mask_scores.shape)\n",
    "print(tokenizer.decode(torch.argmax(gen_mask_scores, dim=1)))\n",
    "print(seqlen)\n",
    "print(masked_ids.shape)\n",
    "print(input_ids.shape)\n",
    "print(tokenizer.decode(input_ids[0]))"
   ]
  },
  {
   "cell_type": "code",
   "execution_count": null,
   "metadata": {},
   "outputs": [
    {
     "name": "stdout",
     "output_type": "stream",
     "text": [
      "tensor(1.9413e-08)\n",
      "tensor(0.0139)\n",
      "acumulated loss: tensor(1.9463e-08)\n",
      "acumulated mask loss: tensor(0.0139)\n"
     ]
    }
   ],
   "source": [
    "# in input_ids we chop the end of sequence token\n",
    "print(celoss(gen_scores, input_ids.squeeze()[:-1,]))\n",
    "print(celoss(gen_mask_scores, input_ids.squeeze()[:-1,]))\n",
    "\n",
    "acum = 0\n",
    "for i in range(seqlen-1):\n",
    "    acum += celoss(torch.stack([s.squeeze() for s in gen.scores], dim=0)[i], input_ids.squeeze()[i])\n",
    "print(\"acumulated loss:\", acum/(seqlen-1))\n",
    "\n",
    "acum = 0\n",
    "for i in range(seqlen-1):\n",
    "    acum += celoss(torch.stack([s.squeeze() for s in gen_mask.scores], dim=0)[i], input_ids.squeeze()[i])\n",
    "print(\"acumulated mask loss:\", acum/(seqlen-1))"
   ]
  },
  {
   "cell_type": "code",
   "execution_count": 88,
   "metadata": {},
   "outputs": [
    {
     "name": "stderr",
     "output_type": "stream",
     "text": [
      "100%|██████████████████████████████████████████████████████████████| 2/2 [00:13<00:00,  6.95s/it]\n"
     ]
    }
   ],
   "source": [
    "from tqdm import tqdm\n",
    "\n",
    "celoss = CrossEntropyLoss()\n",
    "target_seq = str(sequences[seqnum].seq)\n",
    "input_seq = [\" \".join(list(re.sub(r\"[UZOB]\", \"X\", target_seq)))]\n",
    "true_input = tokenizer(input_seq)\n",
    "true_tok = torch.tensor(true_input['input_ids']).to(device)\n",
    "attention_mask = torch.tensor(true_input['attention_mask']).to(device)\n",
    "\n",
    "pred_dict = dict()\n",
    "uniprot_id = sequences[seqnum].id\n",
    "pred_dict[uniprot_id] = dict()\n",
    "loss_sequence = list()\n",
    "match_sequence = list()\n",
    "logits_sequence = list()\n",
    "mask_size = 1\n",
    "autoregressive=False\n",
    "output_attentions=False\n",
    "#for i in tqdm(range(len(target_seq)-mask_size+1)):\n",
    "for i in tqdm(range(2-mask_size+1)):\n",
    "    masked_seq = [sequence_masker(input_seq[0], i, i+mask_size)]\n",
    "    tmp = tokenizer(masked_seq)\n",
    "    input_ids = torch.tensor(tmp['input_ids']).to(device)\n",
    "\n",
    "    if autoregressive:\n",
    "        with torch.no_grad():\n",
    "            emb = fullmodel.generate(input_ids, max_length=len(input_ids[0])+1, return_dict_in_generate=True, output_scores=True, output_attentions=output_attentions)\n",
    "        cpulogits = torch.stack([s.squeeze() for s in emb.scores], dim=0)[:-1,]\n",
    "        fastpred = tokenizer.decode(torch.argmax(cpulogits, dim=1), skip_special_tokens=False).replace(\"<\",\" <\").replace(\">\",\"> \")\n",
    "        \n",
    "        # Calculate protein-level loss from single aminoacid losses\n",
    "        acum = 0\n",
    "        for j in range(cpulogits.shape[0]):\n",
    "            acum += celoss(cpulogits[j], true_tok.squeeze()[:-1][j])        \n",
    "        protein_loss  = acum/cpulogits.shape[0]\n",
    "        # the proper full protein loss should be the one below, but it will fail if dimentions are not correct\n",
    "        # the above expression will be wrong, but aproximate? maybe shifted by one? it will suck, let's set it to -1\n",
    "        ## protein_loss2 = celoss(cpulogits, true_tok.squeeze()[:-1])\n",
    "    else:\n",
    "        with torch.no_grad():\n",
    "            emb = fullmodel(input_ids=input_ids, labels=true_tok, output_attentions=output_attentions)\n",
    "        protein_loss = emb.loss.cpu()\n",
    "        \n",
    "        cpulogits = emb.logits.cpu().squeeze()[:-1]\n",
    "        ## fastpred = tokenizer.decode(torch.tensor(cpulogits[:,:-1,:].numpy().argmax(-1)[0]), skip_special_tokens=False).replace(\"<\",\" <\").replace(\">\",\"> \")\n",
    "        fastpred = tokenizer.decode(torch.argmax(cpulogits, dim=1), skip_special_tokens=False).replace(\"<\",\" <\").replace(\">\",\"> \")\n",
    "\n",
    "    logits_sequence.append(cpulogits.numpy().tolist())\n",
    "    if input_seq[0] == fastpred:\n",
    "        match_sequence.append(True)\n",
    "        loss_sequence.append(protein_loss.item())\n",
    "    else:\n",
    "        pred_arr = fastpred.split()\n",
    "        seq_arr  = input_seq[0].split()\n",
    "        if len(pred_arr) == len(seq_arr):\n",
    "            local_match_sequence = list()\n",
    "            for j in range(len(pred_arr)):\n",
    "                if pred_arr[j] != seq_arr[j]:\n",
    "                    local_match_sequence.append((j,pred_arr[j], seq_arr[j]))\n",
    "            loss_sequence.append(protein_loss.item())\n",
    "            match_sequence.append(local_match_sequence)\n",
    "        else:\n",
    "            print(f\"{i} - Mismatch length error\")\n",
    "            match_sequence.append(False)\n",
    "            loss_sequence.append(-1)\n",
    "        \n",
    "        \n",
    "pred_dict[uniprot_id][f\"aamask_{mask_size}\"] = dict()\n",
    "pred_dict[uniprot_id][f\"aamask_{mask_size}\"][\"match\"] = match_sequence\n",
    "pred_dict[uniprot_id][f\"aamask_{mask_size}\"][\"loss\"] = loss_sequence\n",
    "pred_dict[uniprot_id][f\"aamask_{mask_size}\"][\"logits\"] = logits_sequence"
   ]
  },
  {
   "cell_type": "code",
   "execution_count": 89,
   "metadata": {},
   "outputs": [
    {
     "name": "stdout",
     "output_type": "stream",
     "text": [
      "(393, 128)\n",
      "(393, 128)\n"
     ]
    }
   ],
   "source": [
    "import json\n",
    "\n",
    "for e in pred_dict[uniprot_id][f\"aamask_{mask_size}\"][\"logits\"]:\n",
    "    print(np.array(e).shape)\n",
    "\n",
    "with open(f\"test.json\", 'w') as outfmt:\n",
    "    json.dump(pred_dict[uniprot_id][f\"aamask_{mask_size}\"][\"logits\"], outfmt)"
   ]
  },
  {
   "cell_type": "code",
   "execution_count": 259,
   "metadata": {},
   "outputs": [
    {
     "name": "stdout",
     "output_type": "stream",
     "text": [
      "my loss: 0.037141963839530945   avg acum loss:  0.037141941487789154\n",
      "model loss:  0.037047695368528366\n",
      "my loss: 0.009701764211058617   avg acum loss:  0.009701755829155445\n",
      "model loss:  0.009677140042185783\n",
      "my loss: 0.009637031704187393   avg acum loss:  0.009637023322284222\n",
      "model loss:  0.009612571448087692\n",
      "my loss: 0.012975537218153477   avg acum loss:  0.012975528836250305\n",
      "model loss:  0.012942604720592499\n",
      "my loss: 0.015078084543347359   avg acum loss:  0.015078072436153889\n",
      "model loss:  0.015039815567433834\n",
      "my loss: 0.014264199882745743   avg acum loss:  0.014264189638197422\n",
      "model loss:  0.014227996580302715\n",
      "my loss: 0.01354617066681385   avg acum loss:  0.013546159490942955\n",
      "model loss:  0.013511789962649345\n",
      "my loss: 0.010445240885019302   avg acum loss:  0.010445229709148407\n",
      "model loss:  0.010418729856610298\n",
      "my loss: 0.01505939569324255   avg acum loss:  0.015059385448694229\n",
      "model loss:  0.01502117421478033\n",
      "my loss: 0.01597464829683304   avg acum loss:  0.015974638983607292\n",
      "model loss:  0.015934104099869728\n"
     ]
    },
    {
     "data": {
      "image/png": "[encoded data removed]",
      "text/plain": [
       "<Figure size 640x480 with 1 Axes>"
      ]
     },
     "metadata": {},
     "output_type": "display_data"
    },
    {
     "data": {
      "image/png": "[encoded data removed]",
      "text/plain": [
       "<Figure size 640x480 with 1 Axes>"
      ]
     },
     "metadata": {},
     "output_type": "display_data"
    }
   ],
   "source": [
    "### Dev code to prove that protein_loss can be obtained from single_aa losses\n",
    "\n",
    "AA_tok_ids = [i for i in tokenizer.get_vocab().values() if i not in tokenizer.all_special_ids]\n",
    "masked_aaloss_sequence = list()\n",
    "protloss_sequence = list()\n",
    "aalevel_loss_sequence = list()\n",
    "\n",
    "for i in range(len(logits_sequence)):\n",
    "    masked_aaloss = celoss(logits_sequence[i][i], true_tok.squeeze()[i])\n",
    "    masked_aaloss_sequence.append(masked_aaloss.item())\n",
    "    acum = 0\n",
    "    singleaa_losses = list()\n",
    "    for j in range(logits_sequence[i].shape[0]):\n",
    "        singleaa_losses.append(celoss(logits_sequence[i][j], true_tok.squeeze()[:-1][j]))\n",
    "        acum +=                celoss(logits_sequence[i][j], true_tok.squeeze()[:-1][j])\n",
    "    \n",
    "    aalevel_loss_sequence.append(singleaa_losses)\n",
    "    acumloss = acum/logits_sequence[i].shape[0]\n",
    "    print(\"my loss:\", celoss(logits_sequence[i], true_tok.squeeze()[:-1]).item(), \"  avg acum loss: \", acumloss.item())\n",
    "    print(\"model loss: \",loss_sequence[i])\n",
    "    protloss_sequence.append(acumloss.item())\n",
    "\n",
    "#print(aaloss_sequence)\n",
    "plt.scatter(np.arange(len(masked_aaloss_sequence)), masked_aaloss_sequence)\n",
    "plt.show()\n",
    "plt.scatter(np.arange(len(loss_sequence)), loss_sequence)\n",
    "plt.show()"
   ]
  },
  {
   "cell_type": "code",
   "execution_count": 253,
   "metadata": {},
   "outputs": [
    {
     "data": {
      "image/png": "[encoded data removed]",
      "text/plain": [
       "<Figure size 640x480 with 1 Axes>"
      ]
     },
     "metadata": {},
     "output_type": "display_data"
    }
   ],
   "source": [
    "## Single-aa losses on each masked protein\n",
    "fig = plt.figure()\n",
    "for i in range(len(aalevel_loss_sequence)):\n",
    "    plt.plot(np.arange(len(aalevel_loss_sequence[i])), aalevel_loss_sequence[i])\n",
    "plt.xlim(0,15)\n",
    "plt.show()"
   ]
  }
 ],
 "metadata": {
  "kernelspec": {
   "display_name": "Python 3 (ipykernel)",
   "language": "python",
   "name": "python3"
  },
  "language_info": {
   "codemirror_mode": {
    "name": "ipython",
    "version": 3
   },
   "file_extension": ".py",
   "mimetype": "text/x-python",
   "name": "python",
   "nbconvert_exporter": "python",
   "pygments_lexer": "ipython3",
   "version": "3.9.18"
  }
 },
 "nbformat": 4,
 "nbformat_minor": 2
}
