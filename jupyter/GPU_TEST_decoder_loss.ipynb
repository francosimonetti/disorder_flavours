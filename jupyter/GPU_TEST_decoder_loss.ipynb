{
 "cells": [
  {
   "cell_type": "code",
   "execution_count": 1,
   "id": "5e74dbe5",
   "metadata": {},
   "outputs": [],
   "source": [
    "import os\n",
    "import numpy as np\n",
    "import pandas as pd\n",
    "from Bio import SeqIO\n",
    "import matplotlib.pyplot as plt\n",
    "from matplotlib import cm\n",
    "from matplotlib.patches import Patch\n",
    "import mpl_stylesheet\n",
    "import re\n",
    "import gc\n",
    "# mpl_stylesheet.banskt_presentation(fontfamily = 'mono', fontsize = 20, colors = 'banskt', dpi = 300)"
   ]
  },
  {
   "cell_type": "code",
   "execution_count": 2,
   "id": "9b90f8bd",
   "metadata": {},
   "outputs": [
    {
     "name": "stderr",
     "output_type": "stream",
     "text": [
      "/usr/users/fsimonetti/miniconda3/lib/python3.10/site-packages/tqdm/auto.py:22: TqdmWarning: IProgress not found. Please update jupyter and ipywidgets. See https://ipywidgets.readthedocs.io/en/stable/user_install.html\n",
      "  from .autonotebook import tqdm as notebook_tqdm\n",
      "/usr/users/fsimonetti/miniconda3/lib/python3.10/site-packages/transformers/utils/generic.py:260: UserWarning: torch.utils._pytree._register_pytree_node is deprecated. Please use torch.utils._pytree.register_pytree_node instead.\n",
      "  torch.utils._pytree._register_pytree_node(\n"
     ]
    }
   ],
   "source": [
    "from transformers import T5Tokenizer, T5ForConditionalGeneration\n",
    "import torch\n",
    "device = torch.device('cuda:0' if torch.cuda.is_available() else 'cpu')\n",
    "\n",
    "fullmodel = T5ForConditionalGeneration.from_pretrained(\"models/prottrans_t5_xl_u50/\").to(device)\n",
    "\n",
    "fullmodel.full() if str(device)=='cpu' else fullmodel.half()\n",
    "\n",
    "# Load the tokenizer\n",
    "tokenizer = T5Tokenizer.from_pretrained('models/prottrans_t5_xl_u50', do_lower_case=False, legacy=False)\n"
   ]
  },
  {
   "cell_type": "code",
   "execution_count": 3,
   "id": "c156687e",
   "metadata": {},
   "outputs": [],
   "source": [
    "torch.cuda.empty_cache()"
   ]
  },
  {
   "cell_type": "code",
   "execution_count": 4,
   "id": "b1bea60b",
   "metadata": {},
   "outputs": [],
   "source": [
    "def sequence_masker(seq, i, j, same_extra_token=False):\n",
    "    masked_sequence_list = seq.split()\n",
    "    token_num = 0\n",
    "    if j<=i:\n",
    "        print(f\"index j={j} must be greater than i={i}\")\n",
    "        raise\n",
    "    for x in range(i, j):\n",
    "        if j > len(seq):\n",
    "            break\n",
    "        masked_sequence_list[x] = f\"<extra_id_{token_num}>\"\n",
    "        if not same_extra_token:\n",
    "            token_num += 1\n",
    "    return \" \".join(masked_sequence_list)"
   ]
  },
  {
   "cell_type": "code",
   "execution_count": 5,
   "id": "73b76ea7",
   "metadata": {},
   "outputs": [],
   "source": [
    "# Load one dataset\n",
    "\n",
    "import json\n",
    "\n",
    "disprot_file = \"AF2_testset.json\"\n",
    "with open(disprot_file) as infmt:\n",
    "    disprot_dict = json.load(infmt)"
   ]
  },
  {
   "cell_type": "code",
   "execution_count": 16,
   "id": "5701867e",
   "metadata": {},
   "outputs": [
    {
     "name": "stdout",
     "output_type": "stream",
     "text": [
      "P37840\n",
      "#### Mask size: 1 ####\n"
     ]
    },
    {
     "name": "stderr",
     "output_type": "stream",
     "text": [
      "100%|████████████████████████████████████████████████████████████████████████████████████████████████| 140/140 [00:12<00:00, 11.21it/s]\n"
     ]
    },
    {
     "name": "stdout",
     "output_type": "stream",
     "text": [
      "P04637\n",
      "#### Mask size: 1 ####\n"
     ]
    },
    {
     "name": "stderr",
     "output_type": "stream",
     "text": [
      "100%|████████████████████████████████████████████████████████████████████████████████████████████████| 393/393 [00:41<00:00,  9.40it/s]\n"
     ]
    },
    {
     "name": "stdout",
     "output_type": "stream",
     "text": [
      "P02686\n",
      "#### Mask size: 1 ####\n"
     ]
    },
    {
     "name": "stderr",
     "output_type": "stream",
     "text": [
      "100%|████████████████████████████████████████████████████████████████████████████████████████████████| 304/304 [00:29<00:00, 10.45it/s]\n"
     ]
    },
    {
     "name": "stdout",
     "output_type": "stream",
     "text": [
      "P07305\n",
      "#### Mask size: 1 ####\n"
     ]
    },
    {
     "name": "stderr",
     "output_type": "stream",
     "text": [
      "100%|████████████████████████████████████████████████████████████████████████████████████████████████| 194/194 [00:17<00:00, 10.85it/s]\n"
     ]
    },
    {
     "name": "stdout",
     "output_type": "stream",
     "text": [
      "O00488\n",
      "#### Mask size: 1 ####\n"
     ]
    },
    {
     "name": "stderr",
     "output_type": "stream",
     "text": [
      "100%|████████████████████████████████████████████████████████████████████████████████████████████████| 134/134 [00:11<00:00, 11.23it/s]\n"
     ]
    },
    {
     "name": "stdout",
     "output_type": "stream",
     "text": [
      "Q9NYB9\n",
      "#### Mask size: 1 ####\n"
     ]
    },
    {
     "name": "stderr",
     "output_type": "stream",
     "text": [
      "100%|████████████████████████████████████████████████████████████████████████████████████████████████| 513/513 [01:15<00:00,  6.83it/s]\n"
     ]
    },
    {
     "name": "stdout",
     "output_type": "stream",
     "text": [
      "P06401\n",
      "#### Mask size: 1 ####\n"
     ]
    },
    {
     "name": "stderr",
     "output_type": "stream",
     "text": [
      "100%|████████████████████████████████████████████████████████████████████████████████████████████████| 933/933 [05:17<00:00,  2.94it/s]\n"
     ]
    },
    {
     "name": "stdout",
     "output_type": "stream",
     "text": [
      "Q16186\n",
      "#### Mask size: 1 ####\n"
     ]
    },
    {
     "name": "stderr",
     "output_type": "stream",
     "text": [
      "100%|████████████████████████████████████████████████████████████████████████████████████████████████| 407/407 [00:45<00:00,  8.86it/s]\n"
     ]
    },
    {
     "name": "stdout",
     "output_type": "stream",
     "text": [
      "S6B291\n",
      "#### Mask size: 1 ####\n"
     ]
    },
    {
     "name": "stderr",
     "output_type": "stream",
     "text": [
      "100%|████████████████████████████████████████████████████████████████████████████████████████████████| 466/466 [01:00<00:00,  7.73it/s]\n"
     ]
    },
    {
     "name": "stdout",
     "output_type": "stream",
     "text": [
      "P23441\n",
      "#### Mask size: 1 ####\n"
     ]
    },
    {
     "name": "stderr",
     "output_type": "stream",
     "text": [
      "100%|████████████████████████████████████████████████████████████████████████████████████████████████| 372/372 [00:36<00:00, 10.17it/s]\n"
     ]
    }
   ],
   "source": [
    "from tqdm import tqdm\n",
    "\n",
    "#torch.backends.cuda.enable_flash_sdp(True)\n",
    "\n",
    "protids = list(disprot_dict.keys())\n",
    "loss_dict = dict()\n",
    "predmatch_dict = dict()\n",
    "mask_sizes = [1]\n",
    "for test_prot in protids:\n",
    "    print(test_prot)\n",
    "    if test_prot not in predmatch_dict:\n",
    "        predmatch_dict[test_prot] = dict()\n",
    "    if test_prot not in loss_dict:\n",
    "        loss_dict[test_prot] = dict()\n",
    "    \n",
    "    target_seq = disprot_dict[test_prot]['seq']\n",
    "    input_seq = [\" \".join(list(re.sub(r\"[UZOB]\", \"X\", target_seq)))]\n",
    "    true_input = tokenizer(input_seq)\n",
    "    true_tok = torch.tensor(true_input['input_ids']).to(device)\n",
    "\n",
    "    for mask_size in mask_sizes:\n",
    "        print(f\"#### Mask size: {mask_size} ####\")\n",
    "               \n",
    "        loss_sequence = list()\n",
    "        match_sequence = list()\n",
    "        for i in tqdm(range(len(target_seq)-mask_size+1)):\n",
    "\n",
    "            masked_seq = [sequence_masker(input_seq[0], i, i+mask_size)]\n",
    "            tmp = tokenizer(masked_seq)\n",
    "            input_ids = torch.tensor(tmp['input_ids']).to(device)\n",
    "            attention_mask = torch.tensor(tmp['attention_mask']).to(device)\n",
    "            with torch.no_grad():\n",
    "                emb  = fullmodel(input_ids=input_ids, labels=true_tok)\n",
    "                loss = emb.loss.cpu()\n",
    "                loss_sequence.append(loss.item())\n",
    "                cpulogits = emb.logits.cpu()\n",
    "                fastpred = tokenizer.decode(torch.tensor(cpulogits[:,:-1,:].numpy().argmax(-1)[0]), skip_special_tokens=False).replace(\"<\",\" <\").replace(\">\",\"> \")\n",
    "    #             outputs = fullmodel.generate(input_ids=input_ids, max_length=input_ids.shape[1]+10)\n",
    "    #             prediction = tokenizer.decode(outputs[0], skip_special_tokens=True)\n",
    "    #             if fastpred == prediction:\n",
    "    #                 print(\"OK \", end=\" \")\n",
    "                if input_seq[0] == fastpred:\n",
    "                    match_sequence.append(True)\n",
    "                else:\n",
    "                    pred_arr = fastpred.split()\n",
    "                    seq_arr  = input_seq[0].split()\n",
    "                    if len(pred_arr) == len(seq_arr):\n",
    "                        local_match_sequence = list()\n",
    "                        for j in range(len(pred_arr)):\n",
    "                            if pred_arr[j] != seq_arr[j]:\n",
    "                                local_match_sequence.append((j,pred_arr[j], seq_arr[j]))\n",
    "                    else:\n",
    "                        print(\"Mismatch length error\")\n",
    "                        raise\n",
    "                    match_sequence.append(local_match_sequence)\n",
    "        predmatch_dict[test_prot][f\"aa{mask_size}_match\"] = match_sequence\n",
    "        \n",
    "        loss_dict[test_prot][f\"aa{mask_size}_loss\"] = loss_sequence\n",
    "        torch.cuda.empty_cache()\n",
    "\n",
    "# P37840\n",
    "# #### Mask size: 1 ####\n",
    "# 100%|███████████████████████████████████████████████████████████████████████| 140/140 [00:09<00:00, 15.54it/s]\n",
    "# P04637\n",
    "# #### Mask size: 1 ####\n",
    "# 100%|███████████████████████████████████████████████████████████████████████| 393/393 [00:35<00:00, 11.20it/s]\n",
    "# P02686\n",
    "# #### Mask size: 1 ####\n",
    "# 100%|███████████████████████████████████████████████████████████████████████| 304/304 [00:21<00:00, 14.23it/s]\n",
    "# P07305\n",
    "# #### Mask size: 1 ####\n",
    "# 100%|███████████████████████████████████████████████████████████████████████| 194/194 [00:12<00:00, 14.96it/s]\n",
    "# O00488\n",
    "# #### Mask size: 1 ####\n",
    "# 100%|███████████████████████████████████████████████████████████████████████| 134/134 [00:08<00:00, 15.29it/s]\n",
    "# Q9NYB9\n",
    "# #### Mask size: 1 ####\n",
    "# 100%|███████████████████████████████████████████████████████████████████████| 513/513 [01:11<00:00,  7.22it/s]\n",
    "# P06401\n",
    "# #### Mask size: 1 ####\n",
    "# 100%|███████████████████████████████████████████████████████████████████████| 933/933 [05:52<00:00,  2.65it/s]\n",
    "# Q16186\n",
    "# #### Mask size: 1 ####\n",
    "# 100%|███████████████████████████████████████████████████████████████████████| 407/407 [00:36<00:00, 11.01it/s]\n",
    "# S6B291\n",
    "# #### Mask size: 1 ####\n",
    "# 100%|███████████████████████████████████████████████████████████████████████| 466/466 [00:52<00:00,  8.84it/s]\n",
    "# P23441\n",
    "# #### Mask size: 1 ####\n",
    "# 100%|███████████████████████████████████████████████████████████████████████| 372/372 [00:29<00:00, 12.51it/s]"
   ]
  },
  {
   "cell_type": "code",
   "execution_count": 15,
   "id": "f5d50abf",
   "metadata": {},
   "outputs": [
    {
     "data": {
      "image/png": "[encoded data removed]",
      "text/plain": [
       "<Figure size 640x480 with 1 Axes>"
      ]
     },
     "metadata": {},
     "output_type": "display_data"
    }
   ],
   "source": [
    "rtx4070 = [9,35,21,12,8,71,36,52,29]#5*60+52]\n",
    "\n",
    "rtx3090_at_250w = [13,40,29,18,12,71,42,55,37]#,4*60+37]\n",
    "\n",
    "rtx3090_at_220w = [12,41,29,17,11,75,42,55,37]#,4*60+37]\n",
    "\n",
    "\n",
    "import matplotlib.pyplot as plt\n",
    "\n",
    "plt.scatter(rtx4070, _at_250w_at_250w)\n",
    "plt.plot([0, 100], [0, 100], ls=\"--\", c=\".3\")\n",
    "plt.ylabel(\"RTX 3090 [seconds]\")\n",
    "plt.xlabel(\"RTX 4070 [seconds]\")\n",
    "plt.show()"
   ]
  },
  {
   "cell_type": "code",
   "execution_count": null,
   "id": "ecc7969e",
   "metadata": {},
   "outputs": [],
   "source": [
    "monomer_file = \"monomer_datadict.json\"\n",
    "with open(monomer_file) as infmt:\n",
    "    monomer_dict = json.load(infmt)"
   ]
  },
  {
   "cell_type": "code",
   "execution_count": null,
   "id": "f14d0e0b",
   "metadata": {
    "scrolled": true
   },
   "outputs": [],
   "source": [
    "protids = list(monomer_dict.keys())\n",
    "loss_dict = dict()\n",
    "predmatch_dict = dict()\n",
    "mask_sizes = [1, 5]\n",
    "for test_prot in protids:\n",
    "    print(test_prot)\n",
    "    if test_prot not in predmatch_dict:\n",
    "        predmatch_dict[test_prot] = dict()\n",
    "    if test_prot not in loss_dict:\n",
    "        loss_dict[test_prot] = dict()\n",
    "    \n",
    "    target_seq = monomer_dict[test_prot]['seq']\n",
    "    input_seq = [\" \".join(list(re.sub(r\"[UZOB]\", \"X\", target_seq)))]\n",
    "    true_input = tokenizer(input_seq)\n",
    "    true_tok = torch.tensor(true_input['input_ids']).to(device)\n",
    "\n",
    "    for mask_size in mask_sizes:\n",
    "        print(f\"#### Mask size: {mask_size} ####\")\n",
    "               \n",
    "        loss_sequence = list()\n",
    "        match_sequence = list()\n",
    "        for i in tqdm(range(len(target_seq)-mask_size+1)):\n",
    "\n",
    "            masked_seq = [sequence_masker(input_seq[0], i, i+mask_size)]\n",
    "            tmp = tokenizer(masked_seq)\n",
    "            input_ids = torch.tensor(tmp['input_ids']).to(device)\n",
    "            attention_mask = torch.tensor(tmp['attention_mask']).to(device)\n",
    "            with torch.no_grad():\n",
    "                emb  = fullmodel(input_ids=input_ids, labels=true_tok)\n",
    "                loss = emb.loss.cpu()\n",
    "                loss_sequence.append(loss.item())\n",
    "                cpulogits = emb.logits.cpu()\n",
    "                fastpred = tokenizer.decode(torch.tensor(cpulogits[:,:-1,:].numpy().argmax(-1)[0]), skip_special_tokens=False).replace(\"<\",\" <\").replace(\">\",\"> \")\n",
    "                if input_seq[0] == fastpred:\n",
    "                    match_sequence.append(True)\n",
    "                else:\n",
    "                    pred_arr = fastpred.split()\n",
    "                    seq_arr  = input_seq[0].split()\n",
    "                    if len(pred_arr) == len(seq_arr):\n",
    "                        local_match_sequence = list()\n",
    "                        for j in range(len(pred_arr)):\n",
    "                            if pred_arr[j] != seq_arr[j]:\n",
    "                                local_match_sequence.append((j,pred_arr[j], seq_arr[j]))\n",
    "                    else:\n",
    "                        print(\"Mismatch length error\")\n",
    "                        raise\n",
    "                    match_sequence.append(local_match_sequence)\n",
    "        predmatch_dict[test_prot][f\"aa{mask_size}_match\"] = match_sequence\n",
    "        \n",
    "        loss_dict[test_prot][f\"aa{mask_size}_loss\"] = loss_sequence\n",
    "        torch.cuda.empty_cache()\n",
    "\n",
    "\n",
    "    \n",
    "# with open(\"monomer_multi_loss.json\", 'w') as outfmt:\n",
    "#     json.dump(loss_dict, outfmt)\n",
    "# with open(\"monomer_multi_mismatch.json\", 'w') as outfmt:\n",
    "#     json.dump(predmatch_dict, outfmt)"
   ]
  },
  {
   "cell_type": "code",
   "execution_count": null,
   "id": "93a6d017",
   "metadata": {},
   "outputs": [],
   "source": []
  }
 ],
 "metadata": {
  "kernelspec": {
   "display_name": "Python 3 (ipykernel)",
   "language": "python",
   "name": "python3"
  },
  "language_info": {
   "codemirror_mode": {
    "name": "ipython",
    "version": 3
   },
   "file_extension": ".py",
   "mimetype": "text/x-python",
   "name": "python",
   "nbconvert_exporter": "python",
   "pygments_lexer": "ipython3",
   "version": "3.9.18"
  }
 },
 "nbformat": 4,
 "nbformat_minor": 5
}
