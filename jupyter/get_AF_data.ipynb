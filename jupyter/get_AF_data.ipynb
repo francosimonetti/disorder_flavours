{
 "cells": [
  {
   "cell_type": "code",
   "execution_count": 2,
   "id": "32fe8fa0",
   "metadata": {},
   "outputs": [
    {
     "name": "stderr",
     "output_type": "stream",
     "text": [
      "/home/franco/miniconda3/lib/python3.9/site-packages/umap/distances.py:1063: NumbaDeprecationWarning: The 'nopython' keyword argument was not supplied to the 'numba.jit' decorator. The implicit default value for this argument is currently False, but it will be changed to True in Numba 0.59.0. See https://numba.readthedocs.io/en/stable/reference/deprecation.html#deprecation-of-object-mode-fall-back-behaviour-when-using-jit for details.\n",
      "  @numba.jit()\n",
      "/home/franco/miniconda3/lib/python3.9/site-packages/umap/distances.py:1071: NumbaDeprecationWarning: The 'nopython' keyword argument was not supplied to the 'numba.jit' decorator. The implicit default value for this argument is currently False, but it will be changed to True in Numba 0.59.0. See https://numba.readthedocs.io/en/stable/reference/deprecation.html#deprecation-of-object-mode-fall-back-behaviour-when-using-jit for details.\n",
      "  @numba.jit()\n",
      "/home/franco/miniconda3/lib/python3.9/site-packages/umap/distances.py:1086: NumbaDeprecationWarning: The 'nopython' keyword argument was not supplied to the 'numba.jit' decorator. The implicit default value for this argument is currently False, but it will be changed to True in Numba 0.59.0. See https://numba.readthedocs.io/en/stable/reference/deprecation.html#deprecation-of-object-mode-fall-back-behaviour-when-using-jit for details.\n",
      "  @numba.jit()\n",
      "/home/franco/miniconda3/lib/python3.9/site-packages/umap/umap_.py:660: NumbaDeprecationWarning: The 'nopython' keyword argument was not supplied to the 'numba.jit' decorator. The implicit default value for this argument is currently False, but it will be changed to True in Numba 0.59.0. See https://numba.readthedocs.io/en/stable/reference/deprecation.html#deprecation-of-object-mode-fall-back-behaviour-when-using-jit for details.\n",
      "  @numba.jit()\n"
     ]
    }
   ],
   "source": [
    "import os\n",
    "import numpy as np\n",
    "import pandas as pd\n",
    "import umap\n",
    "import time\n",
    "import json\n",
    "import requests\n",
    "from Bio import SeqIO\n",
    "import matplotlib.pyplot as plt\n",
    "from matplotlib import cm\n",
    "from matplotlib.patches import Patch\n",
    "import mpl_stylesheet\n",
    "mpl_stylesheet.banskt_presentation(fontfamily = 'mono', fontsize = 20, colors = 'banskt', dpi = 300)\n",
    "\n",
    "target_uniprots = [\"P37840\", \"P04637\", \"P02686\", \"P07305\", \"O00488\", \"Q9NYB9\", \"P06401\", \"Q16186\", \"S6B291\", \"P23441\"]\n"
   ]
  },
  {
   "cell_type": "code",
   "execution_count": 3,
   "id": "da274913",
   "metadata": {},
   "outputs": [],
   "source": [
    "### Load sequences and annotations for disprot\n",
    "\n",
    "def get_sequences(fastadir=None, fastafile=None):\n",
    "    sequences = []\n",
    "    if fastadir is None and fastafile is None:\n",
    "        print(\"No fasta dir or file\")\n",
    "        raise\n",
    "    if fastadir is not None and fastafile is not None:\n",
    "        print(\"Choose one, fasta dir or multi fasta filr\")\n",
    "        raise\n",
    "    # check for a directory with individual fasta files\n",
    "    # or a multi fasta file\n",
    "    if fastadir is not None:\n",
    "        fastafiles = os.listdir(fastadir)\n",
    "        for f in fastafiles:\n",
    "            counter = 0\n",
    "            for record in SeqIO.parse(os.path.join(fastadir, f), \"fasta\"):\n",
    "                sequences.append(record)\n",
    "                counter += 1\n",
    "                if counter > 1:\n",
    "                    print(\"More than one fasta record?\", f)\n",
    "                    raise\n",
    "    elif fastafile is not None:\n",
    "        for record in SeqIO.parse(fastafile, \"fasta\"):\n",
    "            sequences.append(record)\n",
    "    return sequences\n",
    "\n",
    "# Disprot\n",
    "# embeddir=\"/data/franco/disorder_flavours/testset/\" #\"/data/franco/datasets/prot_embedding_weights/disprot/halft5/\"\n",
    "fasta_dir = \"./disprot/fasta/\" #\"/data/franco/datasets/disprot/fasta/\"\n",
    "fasta_files = [f\"{u}.fasta\" for u in target_uniprots]\n",
    "counter = 0\n",
    "\n",
    "# find annotation for each sequence\n",
    "annotfile = \"./disprot/DisProt_release_2022_06_reformat_annot.fasta\" #/data/franco/datasets/disprot/\n",
    "annotdir  = None\n",
    "annots    = get_sequences(fastadir=annotdir, fastafile=annotfile)\n",
    "sequences = get_sequences(fastadir=fasta_dir, fastafile=None)"
   ]
  },
  {
   "cell_type": "code",
   "execution_count": 4,
   "id": "333413b6",
   "metadata": {},
   "outputs": [
    {
     "name": "stdout",
     "output_type": "stream",
     "text": [
      "S6B291\n",
      "P04637\n",
      "P23441\n",
      "Q16186\n",
      "P06401\n",
      "O00488\n",
      "P02686\n",
      "P37840\n",
      "Q9NYB9\n",
      "P07305\n",
      "Loaded 10 proteins\n"
     ]
    }
   ],
   "source": [
    "### Make sure seq and annotations length match, and embed test proteins\n",
    "annot_dict = dict()\n",
    "for record in annots:\n",
    "    if \"|\" in record.name:\n",
    "        name = record.name.split(\"|\")[1].strip()\n",
    "    else:\n",
    "        name = record.name.split()[0].strip()\n",
    "        if name == \"\":\n",
    "            print(\"Name is empty\",record.name)\n",
    "    annot_dict[name] = str(record.seq)\n",
    "    \n",
    "msequences  = list()\n",
    "mannots     = list()\n",
    "uniprots    = list()\n",
    "counter = 0\n",
    "for s in sequences:\n",
    "    if \"|\" in s.name:\n",
    "        uniprot_id = s.name.split(\"|\")[1].strip()\n",
    "    else:\n",
    "        uniprot_id = s.name.split()[0].strip()\n",
    "    if uniprot_id in target_uniprots:\n",
    "        print(uniprot_id)\n",
    "        aa_sequence = str(s.seq).upper()\n",
    "        if len(aa_sequence) == len(annot_dict[uniprot_id]):\n",
    "            uniprots.append(uniprot_id)\n",
    "            msequences.append(aa_sequence)\n",
    "            mannots.append(annot_dict[uniprot_id])\n",
    "            counter += 1\n",
    "        else:\n",
    "            print(\"Seq length and annot do not match\")\n",
    "            print(len(annot_dict[uniprot_id]), uniprot_id, len(aa_sequence))\n",
    "print(f\"Loaded {counter} proteins\")"
   ]
  },
  {
   "cell_type": "code",
   "execution_count": 5,
   "id": "f64e9b8a",
   "metadata": {},
   "outputs": [
    {
     "name": "stdout",
     "output_type": "stream",
     "text": [
      "File exists: P37840\n",
      "File exists: P04637\n",
      "File exists: P02686\n",
      "File exists: P07305\n",
      "File exists: O00488\n",
      "File exists: Q9NYB9\n",
      "File exists: P06401\n",
      "File exists: Q16186\n",
      "File exists: S6B291\n",
      "File exists: P23441\n"
     ]
    }
   ],
   "source": [
    "## Download AlphaFold2 models for target uniprots from disprot\n",
    "\n",
    "if not os.path.exists(\"AF\"):\n",
    "    os.makedirs(\"AF\")\n",
    "    \n",
    "for unip in target_uniprots:\n",
    "    file = f\"./AF/AF-{unip}-F1-model_v4.cif\"\n",
    "    if not os.path.exists(file):\n",
    "        res = requests.get(f\"https://alphafold.ebi.ac.uk/files/AF-{unip}-F1-model_v4.cif\")\n",
    "        if res.status_code == 200:\n",
    "            print(unip)\n",
    "            with open(file, 'w') as outfmt:\n",
    "                outfmt.write(res.content.decode())\n",
    "    else:\n",
    "        print(f\"File exists: {unip}\")"
   ]
  },
  {
   "cell_type": "code",
   "execution_count": 6,
   "id": "3d1817b8",
   "metadata": {},
   "outputs": [],
   "source": [
    "from Bio.PDB.MMCIF2Dict import MMCIF2Dict\n",
    "\n",
    "def parse_AF_CIF(file):\n",
    "    # read in the CIF file.\n",
    "    # file = \"./AF/AF-P02686-F1-model_v4.cif\"\n",
    "    pdb_info = MMCIF2Dict(file)\n",
    "\n",
    "    seq = pdb_info[\"_entity_poly.pdbx_seq_one_letter_code\"][0].replace(\"\\n\", \"\")\n",
    "\n",
    "    pLDDT_seq = pdb_info['_ma_qa_metric_local.label_seq_id']\n",
    "    pLDDT = pdb_info['_ma_qa_metric_local.metric_value']\n",
    "\n",
    "    dssp_type = pdb_info['_struct_conf.conf_type_id']\n",
    "    dssp_beg  = pdb_info['_struct_conf.beg_label_seq_id']\n",
    "    dssp_end  = pdb_info['_struct_conf.end_label_seq_id']\n",
    "    \n",
    "    seq_placeholder = [\"-\" for i in range(len(seq))]\n",
    "    for i in range(len(dssp_type)):\n",
    "        if dssp_type[i].startswith(\"HELX\"):\n",
    "            letter = \"H\"\n",
    "            beg = int(dssp_beg[i])\n",
    "            end = int(dssp_end[i])\n",
    "            for j in range(beg-1, end):\n",
    "                seq_placeholder[j] = letter\n",
    "        if dssp_type[i].startswith(\"STRN\"):\n",
    "            letter = \"B\"\n",
    "            beg = int(dssp_beg[i])\n",
    "            end = int(dssp_end[i])\n",
    "            for j in range(beg-1, end):\n",
    "                seq_placeholder[j] = letter\n",
    "    if len(seq) == len(pLDDT) and len(seq) == len(seq_placeholder):\n",
    "        return seq, pLDDT, seq_placeholder\n",
    "    else:\n",
    "        raise"
   ]
  },
  {
   "cell_type": "code",
   "execution_count": 21,
   "id": "40b595af",
   "metadata": {},
   "outputs": [
    {
     "name": "stdout",
     "output_type": "stream",
     "text": [
      "OK\n",
      "OK\n",
      "OK\n",
      "OK\n",
      "OK\n",
      "OK\n",
      "OK\n",
      "OK\n",
      "OK\n",
      "OK\n"
     ]
    }
   ],
   "source": [
    "AF_dict = dict()\n",
    "\n",
    "for i, unip in enumerate(target_uniprots):\n",
    "    file = f\"./AF/AF-{unip}-F1-model_v4.cif\"\n",
    "    seq, pLDDT, dssp = parse_AF_CIF(file)\n",
    "    AF_dict[unip] = dict()\n",
    "    AF_dict[unip][\"seq\"] = seq\n",
    "    AF_dict[unip][\"pLDDT\"] = pLDDT\n",
    "    AF_dict[unip][\"disorder\"] = mannots[uniprots.index(unip)]\n",
    "    AF_dict[unip][\"ss\"] = dssp\n",
    "    if AF_dict[unip][\"seq\"] == msequences[uniprots.index(unip)]:\n",
    "        if len(AF_dict[unip][\"disorder\"]) == len(AF_dict[unip]['seq']):\n",
    "            print(\"OK\")"
   ]
  },
  {
   "cell_type": "code",
   "execution_count": 22,
   "id": "7fba45f3",
   "metadata": {},
   "outputs": [],
   "source": [
    "x = list()\n",
    "cat = list()\n",
    "for unip in AF_dict:\n",
    "    x = x + AF_dict[unip][\"pLDDT\"]\n",
    "    cat = cat + AF_dict[unip][\"ss\"]"
   ]
  },
  {
   "cell_type": "code",
   "execution_count": 23,
   "id": "0b31adbd",
   "metadata": {},
   "outputs": [],
   "source": [
    "x = np.array([float(i) for i in x])"
   ]
  },
  {
   "cell_type": "code",
   "execution_count": 24,
   "id": "fe865477",
   "metadata": {},
   "outputs": [],
   "source": [
    "ix_NA = [i for i in range(len(cat)) if cat[i] == \"-\"]\n",
    "ix_H = [i for i in range(len(cat)) if cat[i] == \"H\"]\n",
    "ix_B = [i for i in range(len(cat)) if cat[i] == \"B\"]"
   ]
  },
  {
   "cell_type": "code",
   "execution_count": 25,
   "id": "f909e94f",
   "metadata": {},
   "outputs": [
    {
     "data": {
      "image/png": "[encoded data removed]",
      "text/plain": [
       "<Figure size 600x600 with 1 Axes>"
      ]
     },
     "metadata": {},
     "output_type": "display_data"
    }
   ],
   "source": [
    "fig = plt.figure(figsize=(6,6), dpi=100)\n",
    "ax = fig.add_subplot(111)\n",
    "ax.hist(x[ix_B], bins=50, density=True, label=\"B-sheet\", alpha=0.4, color='yellow')\n",
    "ax.hist(x[ix_H], bins=50, density=True, label=\"Helix\", alpha=0.4, color=\"pink\")\n",
    "ax.hist(x[ix_NA], bins=50, density=True, label=\"-\", alpha=0.4, color='gray')\n",
    "ax.legend()\n",
    "plt.show()"
   ]
  },
  {
   "cell_type": "code",
   "execution_count": 26,
   "id": "e10d2ece",
   "metadata": {
    "scrolled": true
   },
   "outputs": [],
   "source": [
    "with open(\"AF2_testset.json\", 'w') as outfmt:\n",
    "    json.dump(AF_dict, outfmt)\n"
   ]
  },
  {
   "cell_type": "code",
   "execution_count": null,
   "id": "d5405510",
   "metadata": {},
   "outputs": [],
   "source": []
  }
 ],
 "metadata": {
  "kernelspec": {
   "display_name": "Python 3 (ipykernel)",
   "language": "python",
   "name": "python3"
  },
  "language_info": {
   "codemirror_mode": {
    "name": "ipython",
    "version": 3
   },
   "file_extension": ".py",
   "mimetype": "text/x-python",
   "name": "python",
   "nbconvert_exporter": "python",
   "pygments_lexer": "ipython3",
   "version": "3.9.17"
  }
 },
 "nbformat": 4,
 "nbformat_minor": 5
}
