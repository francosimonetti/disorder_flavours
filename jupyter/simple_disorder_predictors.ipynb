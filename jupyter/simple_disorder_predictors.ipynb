{
 "cells": [
  {
   "cell_type": "code",
   "execution_count": 1,
   "id": "c493caba",
   "metadata": {},
   "outputs": [],
   "source": [
    "from Bio import SeqIO\n",
    "from embeddings_config import avail_models\n",
    "import numpy as np\n",
    "import os\n",
    "import argparse\n",
    "\n",
    "def get_sequences(fastadir=None, fastafile=None):\n",
    "    sequences = []\n",
    "    if fastadir is None and fastafile is None:\n",
    "        print(\"No fasta dir or file\")\n",
    "        raise\n",
    "    if fastadir is not None and fastafile is not None:\n",
    "        print(\"Choose one, fasta dir or multi fasta filr\")\n",
    "        raise\n",
    "    # check for a directory with individual fasta files\n",
    "    # or a multi fasta file\n",
    "    if fastadir is not None:\n",
    "        fastafiles = os.listdir(fastadir)\n",
    "        for f in fastafiles:\n",
    "            counter = 0\n",
    "            for record in SeqIO.parse(os.path.join(fastadir, f), \"fasta\"):\n",
    "                sequences.append(record)\n",
    "                counter += 1\n",
    "                if counter > 1:\n",
    "                    print(\"More than one fasta record?\", f)\n",
    "                    raise\n",
    "    elif fastafile is not None:\n",
    "        for record in SeqIO.parse(fastafile, \"fasta\"):\n",
    "            sequences.append(record)\n",
    "    return sequences\n",
    "\n",
    "sel_embedding = 'halft5'\n",
    "fastadir=None\n",
    "fastafile=None\n",
    "annotdir=None\n",
    "annotfile=None\n",
    "\n",
    "# Disprot\n",
    "fastadir=\"/data/franco/datasets/disprot/fasta/\"\n",
    "annotfile=\"/data/franco/datasets/disprot/DisProt_release_2022_06_reformat_annot.fasta\"\n",
    "embeddir=\"/data/franco/datasets/prot_embedding_weights/disprot/halft5/\"\n",
    "\n",
    "# Monomers\n",
    "# fastafile=\"/data/franco/datasets/disprot/monomers.fasta\"\n",
    "# annotfile=\"/data/franco/datasets/disprot/monomers_annot.fasta\"\n",
    "# embeddir=\"/data/franco/datasets/prot_embedding_weights/monomers/halft5/\"\n",
    "\n",
    "if sel_embedding not in avail_models:\n",
    "    print(\"ERROR: Selected model not available\")\n",
    "    raise\n",
    "\n",
    "sequences = get_sequences(fastadir=fastadir, fastafile=fastafile)\n",
    "annots    = get_sequences(fastadir=annotdir, fastafile=annotfile)"
   ]
  },
  {
   "cell_type": "code",
   "execution_count": 2,
   "id": "261c0b8a",
   "metadata": {},
   "outputs": [],
   "source": [
    "# find annotation for each sequence\n",
    "# read annotation data first\n",
    "annot_dict = dict()\n",
    "for record in annots:\n",
    "    if \"|\" in record.name:\n",
    "        name = record.name.split(\"|\")[1].strip()\n",
    "    else:\n",
    "        name = record.name.split()[0].strip()\n",
    "        if name == \"\":\n",
    "            print(\"Name is empty\",record.name)\n",
    "    annot_dict[name] = str(record.seq)"
   ]
  },
  {
   "cell_type": "code",
   "execution_count": 3,
   "id": "d8483fcb",
   "metadata": {},
   "outputs": [],
   "source": [
    "all_dict = dict()"
   ]
  },
  {
   "cell_type": "code",
   "execution_count": 4,
   "id": "d5813f92",
   "metadata": {},
   "outputs": [
    {
     "name": "stdout",
     "output_type": "stream",
     "text": [
      "working on P01555\n",
      "working on P08621\n",
      "working on P0ABQ4\n",
      "working on Q15418\n",
      "working on O95278\n",
      "working on Q05128\n",
      "working on O60880\n",
      "working on Q9U3S5\n",
      "working on Q9NRR4\n",
      "Skipping Q9NRR4, len=1374\n",
      "working on Q9C000\n",
      "Skipping Q9C000, len=1473\n",
      "working on Q70Q12\n"
     ]
    }
   ],
   "source": [
    "# dictionary with input sequences, embeddings and disorder annotation\n",
    "all_dict = dict()\n",
    "disseqs = list()\n",
    "embeddings = list()\n",
    "selected_sequences = list()\n",
    "\n",
    "# grab one sequence\n",
    "for i,s in enumerate(sequences):\n",
    "    if i > 10:\n",
    "        break\n",
    "    if \"|\" in s.name:\n",
    "        name = s.name.split(\"|\")[1].strip()\n",
    "    else:\n",
    "        name = s.name.split()[0].strip()\n",
    "        if name == \"\":\n",
    "            print(\"Name is empty\",s.name)\n",
    "            raise\n",
    "    print(f\"working on {name}\")\n",
    "    aa_sequence = str(s.seq).upper()\n",
    "    if len(aa_sequence) > 1200:\n",
    "        print(f\"Skipping {name}, len={len(aa_sequence)}\")\n",
    "        continue\n",
    "    embed_file = os.path.join(embeddir, name+\".gz\")\n",
    "    if os.path.exists(embed_file):\n",
    "        if len(s.seq) == len(annot_dict[name]):\n",
    "            # read embedding\n",
    "            e = np.loadtxt(embed_file)\n",
    "            # add annot, seq and embedding\n",
    "            if len(s.seq) == e.shape[0]:\n",
    "                all_dict[name] = dict()\n",
    "                all_dict[name][\"disorder\"] = annot_dict[name]\n",
    "                all_dict[name][\"embedding\"]= e\n",
    "                all_dict[name][\"seq\"] = aa_sequence\n",
    "            else:\n",
    "                print(\"Embedding length and seq do not match\")\n",
    "                print(e.shape, len(s.seq), name)\n",
    "        else:\n",
    "            print(\"Sequence and annotation length do not match\")\n",
    "            print(len(s.seq), len(annot_dict[name]), name)\n",
    "    else:\n",
    "        ## skip this file\n",
    "        print(f\"skipped {embed_file} does not exist\")\n",
    "        continue"
   ]
  },
  {
   "cell_type": "code",
   "execution_count": 5,
   "id": "02b4e713",
   "metadata": {},
   "outputs": [
    {
     "name": "stdout",
     "output_type": "stream",
     "text": [
      "(258, 1024) (258,)\n"
     ]
    }
   ],
   "source": [
    "## Pick one protein for regression\n",
    "all_names = list(all_dict.keys())\n",
    "\n",
    "uniprot = all_names[0]\n",
    "disorder = all_dict[uniprot][\"disorder\"]\n",
    "Y = np.array([d != \"-\" for d in disorder], dtype=np.int8)\n",
    "X = all_dict[uniprot][\"embedding\"]\n",
    "\n",
    "# ## Concat all proteins for regression [Done below!]\n",
    "# all_embeddings = list()\n",
    "# all_annots     = \"\"\n",
    "# for u in all_names:\n",
    "#     disorder = all_dict[u][\"disorder\"]\n",
    "#     all_annots = all_annots + disorder\n",
    "#     all_embeddings.append(all_dict[u]['embedding'])\n",
    "\n",
    "# X = np.vstack(all_embeddings)\n",
    "# Y = np.array([d != \"-\" for d in all_annots], dtype=np.int8)\n",
    "\n",
    "print(X.shape, Y.shape)"
   ]
  },
  {
   "cell_type": "code",
   "execution_count": 7,
   "id": "ce80b826",
   "metadata": {},
   "outputs": [
    {
     "name": "stdout",
     "output_type": "stream",
     "text": [
      "0.046435623218453397\n",
      "0.5857974503391472\n",
      "0.17097146551081677\n"
     ]
    }
   ],
   "source": [
    "from sklearn.linear_model import LinearRegression, LogisticRegression\n",
    "from sklearn.linear_model import ElasticNet\n",
    "\n",
    "# regenet = ElasticNet().fit(X, Y)\n",
    "# r2_enet = regenet.score(X,Y)\n",
    "\n",
    "def tjur_r2(model, X, Y):\n",
    "    true_negatives_ix = Y == 0\n",
    "    true_positives_ix = Y == 1\n",
    "    yhat = model.predict(X)\n",
    "    pi_neg = np.mean(yhat[true_negatives_ix])\n",
    "    pi_pos = np.mean(yhat[true_positives_ix])\n",
    "    r2 = pi_pos - pi_neg\n",
    "    return r2\n",
    "    \n",
    "def regress_each_dimension_linear(X,Y):\n",
    "    reg = LinearRegression()\n",
    "    myrlist = list()\n",
    "    mycoef  = list()\n",
    "    for i in range(X.shape[1]):\n",
    "        x = X[:,i][:, np.newaxis]\n",
    "        reg.fit(x, Y)\n",
    "        myrlist.append(reg.score(x, Y))\n",
    "        mycoef.append(reg.coef_)\n",
    "    return myrlist, mycoef\n",
    "\n",
    "def regress_each_dimension_logistic(X,Y):\n",
    "    reg = LogisticRegression(penalty='none',class_weight='balanced')\n",
    "    myrlist = list()\n",
    "    mytjur_r2 = list()\n",
    "    mycoef  = list()\n",
    "    for i in range(X.shape[1]):\n",
    "        x = X[:,i][:, np.newaxis]\n",
    "        reg.fit(x, Y)\n",
    "        myrlist.append(reg.score(x, Y))\n",
    "        mycoef.append(reg.coef_)\n",
    "        mytjur_r2.append(tjur_r2(reg, x, Y))\n",
    "    return myrlist, mycoef, mytjur_r2\n",
    "\n",
    "\n",
    "res_linear, coef_lin = regress_each_dimension_linear(X,Y)\n",
    "res_logist, coef_log, mytjur_r2 = regress_each_dimension_logistic(X,Y)\n",
    "print(np.mean(res_linear))\n",
    "print(np.mean(res_logist))\n",
    "print(np.mean(mytjur_r2))"
   ]
  },
  {
   "cell_type": "code",
   "execution_count": 8,
   "id": "95f5f7cc",
   "metadata": {},
   "outputs": [
    {
     "name": "stdout",
     "output_type": "stream",
     "text": [
      "1024 1024\n",
      "1024 1024\n"
     ]
    }
   ],
   "source": [
    "# One coefficient per dimension, one r2 per dimension accross all residues in a protein\n",
    "print(len(coef_lin), len(coef_log))\n",
    "print(len(res_linear), len(res_logist))"
   ]
  },
  {
   "cell_type": "code",
   "execution_count": 25,
   "id": "258b2f9c",
   "metadata": {},
   "outputs": [
    {
     "name": "stdout",
     "output_type": "stream",
     "text": [
      "591 591 294\n"
     ]
    }
   ],
   "source": [
    "# find dimension that explains the most in linear / logistic models\n",
    "\n",
    "linear_best_dim = np.argmax(res_linear)\n",
    "log_best_dim    = np.argmax(res_logist)\n",
    "logD_best_dim   = np.argmax(mytjur_r2)\n",
    "\n",
    "print(linear_best_dim, log_best_dim, logD_best_dim)"
   ]
  },
  {
   "cell_type": "code",
   "execution_count": 36,
   "id": "9fda3a80",
   "metadata": {},
   "outputs": [],
   "source": [
    "from scipy.special import expit\n",
    "\n",
    "y_line = expit(xref*reglog.coef_ + reglog.intercept_).ravel()"
   ]
  },
  {
   "cell_type": "code",
   "execution_count": 54,
   "id": "bced7db1",
   "metadata": {},
   "outputs": [
    {
     "name": "stdout",
     "output_type": "stream",
     "text": [
      "0.9496124031007752 dim=591 D=0.8989012860914743\n",
      "0.937984496124031 dim=294 D=0.9076739630355166\n",
      "0.6640169493559485 dim=591\n"
     ]
    },
    {
     "data": {
      "image/png": "[encoded data removed]",
      "text/plain": [
       "<Figure size 2200x700 with 3 Axes>"
      ]
     },
     "metadata": {},
     "output_type": "display_data"
    }
   ],
   "source": [
    "import matplotlib.pyplot as plt\n",
    "from scipy.special import expit\n",
    "\n",
    "i = log_best_dim\n",
    "x = X[:,i][:, np.newaxis]\n",
    "reglog = LogisticRegression(penalty='none', class_weight='balanced')\n",
    "reglog.fit(x, Y)\n",
    "D = tjur_r2(reglog, x, Y)\n",
    "print(reglog.score(x, Y), f\"dim={i} D={D}\")\n",
    "\n",
    "xref = np.linspace(min(x),max(x),100)\n",
    "y_line = 1 / ( 1 + np.exp((-xref*reglog.coef_) + reglog.intercept_)[0])\n",
    "y_line2 = expit(xref*reglog.coef_ + reglog.intercept_).ravel()\n",
    "\n",
    "fig = plt.figure(figsize=(22,7))\n",
    "ax1 = fig.add_subplot(131)\n",
    "# ax1.plot(xref, y_line, color=\"red\", linestyle='dashed')\n",
    "ax1.plot(xref, y_line2, color=\"black\", linestyle='dashed')\n",
    "ax1.scatter(x, Y)\n",
    "\n",
    "i = logD_best_dim\n",
    "x = X[:,i][:, np.newaxis]\n",
    "reglog = LogisticRegression(penalty='none', class_weight='balanced')\n",
    "reglog.fit(x, Y)\n",
    "D = tjur_r2(reglog, x, Y)\n",
    "print(reglog.score(x, Y), f\"dim={i} D={D}\")\n",
    "\n",
    "y_line = 1 / ( 1 + np.exp((xref*reglog.coef_) - reglog.intercept_)[0])\n",
    "y_line2 = expit(xref*reglog.coef_ + reglog.intercept_).ravel()\n",
    "\n",
    "ax2 = fig.add_subplot(132)\n",
    "# ax2.plot(xref, y_line, color=\"red\", linestyle='dashed')\n",
    "ax2.plot(xref, y_line2, color=\"black\", linestyle='dashed')\n",
    "ax2.scatter(x, Y)\n",
    "\n",
    "\n",
    "i = linear_best_dim\n",
    "x = X[:,i][:, np.newaxis]\n",
    "reglin = LinearRegression()\n",
    "reglin.fit(x, Y)\n",
    "print(reglin.score(x, Y), f\"dim={i}\")\n",
    "\n",
    "y_line = xref*reglin.coef_ + reglin.intercept_\n",
    "\n",
    "ax3 = fig.add_subplot(133)\n",
    "ax3.plot(xref, y_line, color=\"black\", linestyle='dashed')\n",
    "ax3.scatter(x, Y)\n",
    "\n",
    "plt.show()"
   ]
  },
  {
   "cell_type": "code",
   "execution_count": 61,
   "id": "377ba8b3",
   "metadata": {},
   "outputs": [
    {
     "data": {
      "image/png": "[encoded data removed]",
      "text/plain": [
       "<Figure size 640x480 with 1 Axes>"
      ]
     },
     "metadata": {},
     "output_type": "display_data"
    }
   ],
   "source": [
    "plt.hist(mytjur_r2, bins=20)\n",
    "plt.show()"
   ]
  },
  {
   "cell_type": "code",
   "execution_count": 10,
   "id": "2e9588ac",
   "metadata": {},
   "outputs": [
    {
     "data": {
      "text/plain": [
       "'\\ntrue_negatives_ix = Y == 0\\ntrue_positives_ix = Y == 1\\nyhat = reg.predict(x)\\npi_neg = np.mean(yhat[true_negatives_ix])\\npi_pos = np.mean(yhat[true_positives_ix])\\nr2 = pi_pos - pi_neg\\n\\nprint(r2, pi_pos, pi_neg)\\n'"
      ]
     },
     "execution_count": 10,
     "metadata": {},
     "output_type": "execute_result"
    }
   ],
   "source": [
    "# Tjur coefficient of discrimination (R2) \n",
    "# https://www.methodspace.com/blog/whats-the-best-r-squared-for-logistic-regression\n",
    "# https://www.jstor.org/stable/25652317?seq=4#metadata_info_tab_contents\n",
    "# https://github.com/easystats/performance/blob/HEAD/R/r2_tjur.R\n",
    "\n",
    "'''\n",
    "true_negatives_ix = Y == 0\n",
    "true_positives_ix = Y == 1\n",
    "yhat = reg.predict(x)\n",
    "pi_neg = np.mean(yhat[true_negatives_ix])\n",
    "pi_pos = np.mean(yhat[true_positives_ix])\n",
    "r2 = pi_pos - pi_neg\n",
    "\n",
    "print(r2, pi_pos, pi_neg)\n",
    "'''"
   ]
  },
  {
   "cell_type": "code",
   "execution_count": 11,
   "id": "d7850774",
   "metadata": {},
   "outputs": [
    {
     "name": "stdout",
     "output_type": "stream",
     "text": [
      "903246 903246\n"
     ]
    }
   ],
   "source": [
    "#### Redo but for entire embeddings concatenated\n",
    "\n",
    "import umap\n",
    "import numpy as np\n",
    "import os\n",
    "import argparse\n",
    "import time\n",
    "\n",
    "embedmatfile = \"disprot_plotdata/halft5/embedding_data.txt.npz\"\n",
    "# load seq and annotation data\n",
    "seqfile = \"disprot_plotdata/halft5/seq_data.txt\"\n",
    "annfile = \"disprot_plotdata/halft5/annot_data.txt\"\n",
    "\n",
    "with open(seqfile) as instr:\n",
    "    seq = instr.readlines()[0]\n",
    "    \n",
    "with open(annfile) as instr:\n",
    "    annot = instr.readlines()[0]\n",
    "    \n",
    "print(len(seq), len(annot))\n",
    "SEQ = [aa for aa in seq]\n",
    "ANNOT = [an for an in annot]\n",
    "AAs = set(SEQ)"
   ]
  },
  {
   "cell_type": "code",
   "execution_count": 12,
   "id": "d2bc9d24",
   "metadata": {},
   "outputs": [
    {
     "name": "stdout",
     "output_type": "stream",
     "text": [
      "Loading embedding..\n",
      "Loaded in 29.917275428771973!\n"
     ]
    }
   ],
   "source": [
    "s = time.time()\n",
    "print(\"Loading embedding..\")\n",
    "loaded_data = np.load(embedmatfile)\n",
    "embeddings = loaded_data[\"concat_emb\"]\n",
    "e = time.time() - s\n",
    "print(f\"Loaded in {e}!\")"
   ]
  },
  {
   "cell_type": "code",
   "execution_count": 13,
   "id": "160f2f7a",
   "metadata": {},
   "outputs": [],
   "source": [
    "Yall = np.array([d != \"-\" for d in ANNOT], dtype=np.int8)"
   ]
  },
  {
   "cell_type": "code",
   "execution_count": 16,
   "id": "83e09bb8",
   "metadata": {},
   "outputs": [],
   "source": [
    "allres_linear, allcoef_lin = regress_each_dimension_linear(embeddings,Yall)\n",
    "allres_logist, allcoef_log, allr2 = regress_each_dimension_logistic(embeddings,Yall)"
   ]
  },
  {
   "cell_type": "code",
   "execution_count": 17,
   "id": "d1fd4c5d",
   "metadata": {},
   "outputs": [
    {
     "name": "stdout",
     "output_type": "stream",
     "text": [
      "0.5164276184605994 0.032817077893225556 0.0021089407667298984\n"
     ]
    }
   ],
   "source": [
    "print(np.mean(allres_logist), np.mean(allr2), np.mean(allres_linear))"
   ]
  },
  {
   "cell_type": "code",
   "execution_count": 60,
   "id": "43322c03",
   "metadata": {},
   "outputs": [
    {
     "name": "stdout",
     "output_type": "stream",
     "text": [
      "294 0.12953213313588274\n",
      "294 0.693627206763163\n",
      "294 0.40828983024983656\n"
     ]
    }
   ],
   "source": [
    "alllinear_best_dim = np.argmax(allres_linear)\n",
    "alllog_best_dim    = np.argmax(allres_logist)\n",
    "alllogD_best_dim   = np.argmax(allr2)\n",
    "\n",
    "print(alllinear_best_dim, allres_linear[alllinear_best_dim])\n",
    "print(alllog_best_dim, allres_logist[alllog_best_dim])\n",
    "print(alllogD_best_dim, allr2[alllogD_best_dim])\n"
   ]
  },
  {
   "cell_type": "code",
   "execution_count": null,
   "id": "4cda8047",
   "metadata": {},
   "outputs": [],
   "source": [
    "# use only one dimension from above, with all data of course\n",
    "\n",
    "i = 0\n",
    "x = embeddings[:,i][:, np.newaxis]\n",
    "reg = LogisticRegression(penalty='none')\n",
    "reg.fit(x, Yall)\n",
    "print(reg.score(x, Yall))\n",
    "\n",
    "import matplotlib.pyplot as plt\n",
    "from scipy.special import expit\n",
    "\n",
    "i = log_best_dim\n",
    "x = X[:,i][:, np.newaxis]\n",
    "reglog = LogisticRegression(penalty='none', class_weight='balanced')\n",
    "reglog.fit(x, Y)\n",
    "D = tjur_r2(reglog, x, Y)\n",
    "print(reglog.score(x, Y), f\"dim={i} D={D}\")\n",
    "\n",
    "xref = np.linspace(min(x),max(x),100)\n",
    "y_line = 1 / ( 1 + np.exp((-xref*reglog.coef_) + reglog.intercept_)[0])\n",
    "y_line2 = expit(xref*reglog.coef_ + reglog.intercept_).ravel()\n",
    "\n",
    "fig = plt.figure(figsize=(22,7))\n",
    "ax1 = fig.add_subplot(131)\n",
    "# ax1.plot(xref, y_line, color=\"red\", linestyle='dashed')\n",
    "ax1.plot(xref, y_line2, color=\"black\", linestyle='dashed')\n",
    "ax1.scatter(x, Y)\n",
    "\n",
    "i = logD_best_dim\n",
    "x = X[:,i][:, np.newaxis]\n",
    "reglog = LogisticRegression(penalty='none', class_weight='balanced')\n",
    "reglog.fit(x, Y)\n",
    "D = tjur_r2(reglog, x, Y)\n",
    "print(reglog.score(x, Y), f\"dim={i} D={D}\")\n",
    "\n",
    "y_line = 1 / ( 1 + np.exp((xref*reglog.coef_) - reglog.intercept_)[0])\n",
    "y_line2 = expit(xref*reglog.coef_ + reglog.intercept_).ravel()\n",
    "\n",
    "ax2 = fig.add_subplot(132)\n",
    "# ax2.plot(xref, y_line, color=\"red\", linestyle='dashed')\n",
    "ax2.plot(xref, y_line2, color=\"black\", linestyle='dashed')\n",
    "ax2.scatter(x, Y)\n",
    "\n",
    "\n",
    "i = linear_best_dim\n",
    "x = X[:,i][:, np.newaxis]\n",
    "reglin = LinearRegression()\n",
    "reglin.fit(x, Y)\n",
    "print(reglin.score(x, Y), f\"dim={i}\")\n",
    "\n",
    "y_line = xref*reglin.coef_ + reglin.intercept_\n",
    "\n",
    "ax3 = fig.add_subplot(133)\n",
    "ax3.plot(xref, y_line, color=\"black\", linestyle='dashed')\n",
    "ax3.scatter(x, Y)\n",
    "\n",
    "plt.show()\n",
    "\n"
   ]
  },
  {
   "cell_type": "code",
   "execution_count": null,
   "id": "a3470d7b",
   "metadata": {},
   "outputs": [],
   "source": [
    "# use ALL dimensions from above, with all data of course\n",
    "\n",
    "X = embeddings\n",
    "reg = LogisticRegression(penalty='l1', solver='saga', l1_ratio=0.5)\n",
    "reg.fit(X, Yall)\n",
    "print(reg.score(X, Yall))"
   ]
  },
  {
   "cell_type": "code",
   "execution_count": null,
   "id": "b1ce2e6b",
   "metadata": {},
   "outputs": [],
   "source": [
    "plt.hist(reg.coef_[0], bins=50)\n",
    "plt.show()\n"
   ]
  }
 ],
 "metadata": {
  "kernelspec": {
   "display_name": "Python 3 (ipykernel)",
   "language": "python",
   "name": "python3"
  },
  "language_info": {
   "codemirror_mode": {
    "name": "ipython",
    "version": 3
   },
   "file_extension": ".py",
   "mimetype": "text/x-python",
   "name": "python",
   "nbconvert_exporter": "python",
   "pygments_lexer": "ipython3",
   "version": "3.9.12"
  }
 },
 "nbformat": 4,
 "nbformat_minor": 5
}
